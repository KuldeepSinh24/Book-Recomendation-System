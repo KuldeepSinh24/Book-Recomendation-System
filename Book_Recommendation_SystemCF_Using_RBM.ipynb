{
 "cells": [
  {
   "cell_type": "markdown",
   "metadata": {
    "colab_type": "text",
    "id": "J3wttXTUgGQN"
   },
   "source": [
    "**Book Crossing Dataset**<br>\n",
    "We are buiding a book Recommender system using kNearest Neighbors Collaborative Filtering for User Based and Item based approches. We are also Creating Collaborative Filtering using RBM."
   ]
  },
  {
   "cell_type": "code",
   "execution_count": 1,
   "metadata": {
    "colab": {},
    "colab_type": "code",
    "id": "BbxX2BeRgGQQ"
   },
   "outputs": [],
   "source": [
    "#Making necesarry imports\n",
    "import pandas as pd\n",
    "import matplotlib.pyplot as plt\n",
    "import sklearn.metrics as metrics\n",
    "import numpy as np\n",
    "from sklearn.neighbors import NearestNeighbors\n",
    "from scipy.spatial.distance import correlation\n",
    "from sklearn.metrics.pairwise import pairwise_distances\n",
    "import numpy as np\n",
    "import os, sys\n",
    "import re\n",
    "import seaborn as sns"
   ]
  },
  {
   "cell_type": "code",
   "execution_count": 2,
   "metadata": {
    "colab": {
     "base_uri": "https://localhost:8080/",
     "height": 105
    },
    "colab_type": "code",
    "id": "vk8wmWf_gGQa",
    "outputId": "076beff9-d985-4be8-b046-7d0555381539"
   },
   "outputs": [
    {
     "name": "stderr",
     "output_type": "stream",
     "text": [
      "b'Skipping line 6452: expected 8 fields, saw 9\\nSkipping line 43667: expected 8 fields, saw 10\\nSkipping line 51751: expected 8 fields, saw 9\\n'\n",
      "b'Skipping line 92038: expected 8 fields, saw 9\\nSkipping line 104319: expected 8 fields, saw 9\\nSkipping line 121768: expected 8 fields, saw 9\\n'\n",
      "b'Skipping line 144058: expected 8 fields, saw 9\\nSkipping line 150789: expected 8 fields, saw 9\\nSkipping line 157128: expected 8 fields, saw 9\\nSkipping line 180189: expected 8 fields, saw 9\\nSkipping line 185738: expected 8 fields, saw 9\\n'\n",
      "b'Skipping line 209388: expected 8 fields, saw 9\\nSkipping line 220626: expected 8 fields, saw 9\\nSkipping line 227933: expected 8 fields, saw 11\\nSkipping line 228957: expected 8 fields, saw 10\\nSkipping line 245933: expected 8 fields, saw 9\\nSkipping line 251296: expected 8 fields, saw 9\\nSkipping line 259941: expected 8 fields, saw 9\\nSkipping line 261529: expected 8 fields, saw 9\\n'\n",
      "/anaconda3/lib/python3.6/site-packages/IPython/core/interactiveshell.py:2785: DtypeWarning: Columns (3) have mixed types. Specify dtype option on import or set low_memory=False.\n",
      "  interactivity=interactivity, compiler=compiler, result=result)\n"
     ]
    }
   ],
   "source": [
    "#Loading data\n",
    "books = pd.read_csv('BX-CSV-Dump/BX-Books.csv', sep=';', error_bad_lines=False, encoding=\"latin-1\")\n",
    "books.columns = ['ISBN', 'bookTitle', 'bookAuthor', 'yearOfPublication', 'publisher', 'imageUrlS', 'imageUrlM', 'imageUrlL']\n",
    "users = pd.read_csv('BX-CSV-Dump/BX-Users.csv', sep=';', error_bad_lines=False, encoding=\"latin-1\")\n",
    "users.columns = ['userID', 'Location', 'Age']\n",
    "ratings = pd.read_csv('BX-CSV-Dump/BX-Book-Ratings.csv', sep=';', error_bad_lines=False, encoding=\"latin-1\")\n",
    "ratings.columns = ['userID', 'ISBN', 'bookRating']"
   ]
  },
  {
   "cell_type": "code",
   "execution_count": 3,
   "metadata": {
    "colab": {
     "base_uri": "https://localhost:8080/",
     "height": 68
    },
    "colab_type": "code",
    "id": "6E9zugnMgGQe",
    "outputId": "b2190e7e-0ae4-4da8-912e-657cc14ff74c"
   },
   "outputs": [
    {
     "name": "stdout",
     "output_type": "stream",
     "text": [
      "(271360, 8)\n",
      "(278858, 3)\n",
      "(1149780, 3)\n"
     ]
    }
   ],
   "source": [
    "print(books.shape)\n",
    "print(users.shape)\n",
    "print(ratings.shape)"
   ]
  },
  {
   "cell_type": "markdown",
   "metadata": {},
   "source": [
    "### Data Exploration"
   ]
  },
  {
   "cell_type": "code",
   "execution_count": 4,
   "metadata": {
    "colab": {
     "base_uri": "https://localhost:8080/",
     "height": 462
    },
    "colab_type": "code",
    "id": "PavxegJ7gGQh",
    "outputId": "8f3ee239-e0f6-4ae7-9e6b-d8f9ec650f2a"
   },
   "outputs": [
    {
     "data": {
      "text/html": [
       "<div>\n",
       "<style scoped>\n",
       "    .dataframe tbody tr th:only-of-type {\n",
       "        vertical-align: middle;\n",
       "    }\n",
       "\n",
       "    .dataframe tbody tr th {\n",
       "        vertical-align: top;\n",
       "    }\n",
       "\n",
       "    .dataframe thead th {\n",
       "        text-align: right;\n",
       "    }\n",
       "</style>\n",
       "<table border=\"1\" class=\"dataframe\">\n",
       "  <thead>\n",
       "    <tr style=\"text-align: right;\">\n",
       "      <th></th>\n",
       "      <th>ISBN</th>\n",
       "      <th>bookTitle</th>\n",
       "      <th>bookAuthor</th>\n",
       "      <th>yearOfPublication</th>\n",
       "      <th>publisher</th>\n",
       "      <th>imageUrlS</th>\n",
       "      <th>imageUrlM</th>\n",
       "      <th>imageUrlL</th>\n",
       "    </tr>\n",
       "  </thead>\n",
       "  <tbody>\n",
       "    <tr>\n",
       "      <th>0</th>\n",
       "      <td>0195153448</td>\n",
       "      <td>Classical Mythology</td>\n",
       "      <td>Mark P. O. Morford</td>\n",
       "      <td>2002</td>\n",
       "      <td>Oxford University Press</td>\n",
       "      <td>http://images.amazon.com/images/P/0195153448.0...</td>\n",
       "      <td>http://images.amazon.com/images/P/0195153448.0...</td>\n",
       "      <td>http://images.amazon.com/images/P/0195153448.0...</td>\n",
       "    </tr>\n",
       "    <tr>\n",
       "      <th>1</th>\n",
       "      <td>0002005018</td>\n",
       "      <td>Clara Callan</td>\n",
       "      <td>Richard Bruce Wright</td>\n",
       "      <td>2001</td>\n",
       "      <td>HarperFlamingo Canada</td>\n",
       "      <td>http://images.amazon.com/images/P/0002005018.0...</td>\n",
       "      <td>http://images.amazon.com/images/P/0002005018.0...</td>\n",
       "      <td>http://images.amazon.com/images/P/0002005018.0...</td>\n",
       "    </tr>\n",
       "    <tr>\n",
       "      <th>2</th>\n",
       "      <td>0060973129</td>\n",
       "      <td>Decision in Normandy</td>\n",
       "      <td>Carlo D'Este</td>\n",
       "      <td>1991</td>\n",
       "      <td>HarperPerennial</td>\n",
       "      <td>http://images.amazon.com/images/P/0060973129.0...</td>\n",
       "      <td>http://images.amazon.com/images/P/0060973129.0...</td>\n",
       "      <td>http://images.amazon.com/images/P/0060973129.0...</td>\n",
       "    </tr>\n",
       "    <tr>\n",
       "      <th>3</th>\n",
       "      <td>0374157065</td>\n",
       "      <td>Flu: The Story of the Great Influenza Pandemic...</td>\n",
       "      <td>Gina Bari Kolata</td>\n",
       "      <td>1999</td>\n",
       "      <td>Farrar Straus Giroux</td>\n",
       "      <td>http://images.amazon.com/images/P/0374157065.0...</td>\n",
       "      <td>http://images.amazon.com/images/P/0374157065.0...</td>\n",
       "      <td>http://images.amazon.com/images/P/0374157065.0...</td>\n",
       "    </tr>\n",
       "    <tr>\n",
       "      <th>4</th>\n",
       "      <td>0393045218</td>\n",
       "      <td>The Mummies of Urumchi</td>\n",
       "      <td>E. J. W. Barber</td>\n",
       "      <td>1999</td>\n",
       "      <td>W. W. Norton &amp;amp; Company</td>\n",
       "      <td>http://images.amazon.com/images/P/0393045218.0...</td>\n",
       "      <td>http://images.amazon.com/images/P/0393045218.0...</td>\n",
       "      <td>http://images.amazon.com/images/P/0393045218.0...</td>\n",
       "    </tr>\n",
       "  </tbody>\n",
       "</table>\n",
       "</div>"
      ],
      "text/plain": [
       "         ISBN                                          bookTitle  \\\n",
       "0  0195153448                                Classical Mythology   \n",
       "1  0002005018                                       Clara Callan   \n",
       "2  0060973129                               Decision in Normandy   \n",
       "3  0374157065  Flu: The Story of the Great Influenza Pandemic...   \n",
       "4  0393045218                             The Mummies of Urumchi   \n",
       "\n",
       "             bookAuthor yearOfPublication                   publisher  \\\n",
       "0    Mark P. O. Morford              2002     Oxford University Press   \n",
       "1  Richard Bruce Wright              2001       HarperFlamingo Canada   \n",
       "2          Carlo D'Este              1991             HarperPerennial   \n",
       "3      Gina Bari Kolata              1999        Farrar Straus Giroux   \n",
       "4       E. J. W. Barber              1999  W. W. Norton &amp; Company   \n",
       "\n",
       "                                           imageUrlS  \\\n",
       "0  http://images.amazon.com/images/P/0195153448.0...   \n",
       "1  http://images.amazon.com/images/P/0002005018.0...   \n",
       "2  http://images.amazon.com/images/P/0060973129.0...   \n",
       "3  http://images.amazon.com/images/P/0374157065.0...   \n",
       "4  http://images.amazon.com/images/P/0393045218.0...   \n",
       "\n",
       "                                           imageUrlM  \\\n",
       "0  http://images.amazon.com/images/P/0195153448.0...   \n",
       "1  http://images.amazon.com/images/P/0002005018.0...   \n",
       "2  http://images.amazon.com/images/P/0060973129.0...   \n",
       "3  http://images.amazon.com/images/P/0374157065.0...   \n",
       "4  http://images.amazon.com/images/P/0393045218.0...   \n",
       "\n",
       "                                           imageUrlL  \n",
       "0  http://images.amazon.com/images/P/0195153448.0...  \n",
       "1  http://images.amazon.com/images/P/0002005018.0...  \n",
       "2  http://images.amazon.com/images/P/0060973129.0...  \n",
       "3  http://images.amazon.com/images/P/0374157065.0...  \n",
       "4  http://images.amazon.com/images/P/0393045218.0...  "
      ]
     },
     "execution_count": 4,
     "metadata": {},
     "output_type": "execute_result"
    }
   ],
   "source": [
    "books.head()"
   ]
  },
  {
   "cell_type": "markdown",
   "metadata": {},
   "source": [
    "Droping the image url columns as they are not useful for our analysis"
   ]
  },
  {
   "cell_type": "code",
   "execution_count": 5,
   "metadata": {
    "colab": {},
    "colab_type": "code",
    "id": "t5f7wecWgGQj"
   },
   "outputs": [],
   "source": [
    "books.drop(['imageUrlS', 'imageUrlM', 'imageUrlL'],axis=1,inplace=True)"
   ]
  },
  {
   "cell_type": "code",
   "execution_count": 6,
   "metadata": {
    "colab": {
     "base_uri": "https://localhost:8080/",
     "height": 272
    },
    "colab_type": "code",
    "id": "RMAlKlkrgGQm",
    "outputId": "423f1107-a702-4b4c-9176-ffa0ec9e9f12",
    "scrolled": true
   },
   "outputs": [
    {
     "data": {
      "text/html": [
       "<div>\n",
       "<style scoped>\n",
       "    .dataframe tbody tr th:only-of-type {\n",
       "        vertical-align: middle;\n",
       "    }\n",
       "\n",
       "    .dataframe tbody tr th {\n",
       "        vertical-align: top;\n",
       "    }\n",
       "\n",
       "    .dataframe thead th {\n",
       "        text-align: right;\n",
       "    }\n",
       "</style>\n",
       "<table border=\"1\" class=\"dataframe\">\n",
       "  <thead>\n",
       "    <tr style=\"text-align: right;\">\n",
       "      <th></th>\n",
       "      <th>ISBN</th>\n",
       "      <th>bookTitle</th>\n",
       "      <th>bookAuthor</th>\n",
       "      <th>yearOfPublication</th>\n",
       "      <th>publisher</th>\n",
       "    </tr>\n",
       "  </thead>\n",
       "  <tbody>\n",
       "    <tr>\n",
       "      <th>0</th>\n",
       "      <td>0195153448</td>\n",
       "      <td>Classical Mythology</td>\n",
       "      <td>Mark P. O. Morford</td>\n",
       "      <td>2002</td>\n",
       "      <td>Oxford University Press</td>\n",
       "    </tr>\n",
       "    <tr>\n",
       "      <th>1</th>\n",
       "      <td>0002005018</td>\n",
       "      <td>Clara Callan</td>\n",
       "      <td>Richard Bruce Wright</td>\n",
       "      <td>2001</td>\n",
       "      <td>HarperFlamingo Canada</td>\n",
       "    </tr>\n",
       "    <tr>\n",
       "      <th>2</th>\n",
       "      <td>0060973129</td>\n",
       "      <td>Decision in Normandy</td>\n",
       "      <td>Carlo D'Este</td>\n",
       "      <td>1991</td>\n",
       "      <td>HarperPerennial</td>\n",
       "    </tr>\n",
       "    <tr>\n",
       "      <th>3</th>\n",
       "      <td>0374157065</td>\n",
       "      <td>Flu: The Story of the Great Influenza Pandemic...</td>\n",
       "      <td>Gina Bari Kolata</td>\n",
       "      <td>1999</td>\n",
       "      <td>Farrar Straus Giroux</td>\n",
       "    </tr>\n",
       "    <tr>\n",
       "      <th>4</th>\n",
       "      <td>0393045218</td>\n",
       "      <td>The Mummies of Urumchi</td>\n",
       "      <td>E. J. W. Barber</td>\n",
       "      <td>1999</td>\n",
       "      <td>W. W. Norton &amp;amp; Company</td>\n",
       "    </tr>\n",
       "  </tbody>\n",
       "</table>\n",
       "</div>"
      ],
      "text/plain": [
       "         ISBN                                          bookTitle  \\\n",
       "0  0195153448                                Classical Mythology   \n",
       "1  0002005018                                       Clara Callan   \n",
       "2  0060973129                               Decision in Normandy   \n",
       "3  0374157065  Flu: The Story of the Great Influenza Pandemic...   \n",
       "4  0393045218                             The Mummies of Urumchi   \n",
       "\n",
       "             bookAuthor yearOfPublication                   publisher  \n",
       "0    Mark P. O. Morford              2002     Oxford University Press  \n",
       "1  Richard Bruce Wright              2001       HarperFlamingo Canada  \n",
       "2          Carlo D'Este              1991             HarperPerennial  \n",
       "3      Gina Bari Kolata              1999        Farrar Straus Giroux  \n",
       "4       E. J. W. Barber              1999  W. W. Norton &amp; Company  "
      ]
     },
     "execution_count": 6,
     "metadata": {},
     "output_type": "execute_result"
    }
   ],
   "source": [
    "books.head()"
   ]
  },
  {
   "cell_type": "code",
   "execution_count": 7,
   "metadata": {
    "colab": {
     "base_uri": "https://localhost:8080/",
     "height": 119
    },
    "colab_type": "code",
    "id": "dMc5SK-TgGQp",
    "outputId": "7adac0ce-ccf0-4667-b710-227b0bc39aae",
    "scrolled": false
   },
   "outputs": [
    {
     "name": "stdout",
     "output_type": "stream",
     "text": [
      "<class 'pandas.core.frame.DataFrame'>\n",
      "RangeIndex: 271360 entries, 0 to 271359\n",
      "Data columns (total 5 columns):\n",
      "ISBN                 271360 non-null object\n",
      "bookTitle            271360 non-null object\n",
      "bookAuthor           271359 non-null object\n",
      "yearOfPublication    271360 non-null object\n",
      "publisher            271358 non-null object\n",
      "dtypes: object(5)\n",
      "memory usage: 10.4+ MB\n"
     ]
    }
   ],
   "source": [
    "books.info()"
   ]
  },
  {
   "cell_type": "code",
   "execution_count": 8,
   "metadata": {
    "colab": {},
    "colab_type": "code",
    "id": "DjRXveNSgGQs"
   },
   "outputs": [],
   "source": [
    "pd.set_option('display.max_colwidth', -1)"
   ]
  },
  {
   "cell_type": "markdown",
   "metadata": {
    "colab_type": "text",
    "id": "PcENqFOLgGQv"
   },
   "source": [
    "**yearOfPublication**\n",
    "\n",
    "Converting the year of publications to int."
   ]
  },
  {
   "cell_type": "code",
   "execution_count": 9,
   "metadata": {
    "colab": {
     "base_uri": "https://localhost:8080/",
     "height": 408
    },
    "colab_type": "code",
    "id": "VBt3dp7fgGQw",
    "outputId": "b32b2415-6b71-41a4-b24c-db128e0dadb0"
   },
   "outputs": [
    {
     "data": {
      "text/plain": [
       "array([2002, 2001, 1991, 1999, 2000, 1993, 1996, 1988, 2004, 1998, 1994,\n",
       "       2003, 1997, 1983, 1979, 1995, 1982, 1985, 1992, 1986, 1978, 1980,\n",
       "       1952, 1987, 1990, 1981, 1989, 1984, 0, 1968, 1961, 1958, 1974,\n",
       "       1976, 1971, 1977, 1975, 1965, 1941, 1970, 1962, 1973, 1972, 1960,\n",
       "       1966, 1920, 1956, 1959, 1953, 1951, 1942, 1963, 1964, 1969, 1954,\n",
       "       1950, 1967, 2005, 1957, 1940, 1937, 1955, 1946, 1936, 1930, 2011,\n",
       "       1925, 1948, 1943, 1947, 1945, 1923, 2020, 1939, 1926, 1938, 2030,\n",
       "       1911, 1904, 1949, 1932, 1928, 1929, 1927, 1931, 1914, 2050, 1934,\n",
       "       1910, 1933, 1902, 1924, 1921, 1900, 2038, 2026, 1944, 1917, 1901,\n",
       "       2010, 1908, 1906, 1935, 1806, 2021, '2000', '1995', '1999', '2004',\n",
       "       '2003', '1990', '1994', '1986', '1989', '2002', '1981', '1993',\n",
       "       '1983', '1982', '1976', '1991', '1977', '1998', '1992', '1996',\n",
       "       '0', '1997', '2001', '1974', '1968', '1987', '1984', '1988',\n",
       "       '1963', '1956', '1970', '1985', '1978', '1973', '1980', '1979',\n",
       "       '1975', '1969', '1961', '1965', '1939', '1958', '1950', '1953',\n",
       "       '1966', '1971', '1959', '1972', '1955', '1957', '1945', '1960',\n",
       "       '1967', '1932', '1924', '1964', '2012', '1911', '1927', '1948',\n",
       "       '1962', '2006', '1952', '1940', '1951', '1931', '1954', '2005',\n",
       "       '1930', '1941', '1944', 'DK Publishing Inc', '1943', '1938',\n",
       "       '1900', '1942', '1923', '1920', '1933', 'Gallimard', '1909',\n",
       "       '1946', '2008', '1378', '2030', '1936', '1947', '2011', '2020',\n",
       "       '1919', '1949', '1922', '1897', '2024', '1376', '1926', '2037'],\n",
       "      dtype=object)"
      ]
     },
     "execution_count": 9,
     "metadata": {},
     "output_type": "execute_result"
    }
   ],
   "source": [
    "books.yearOfPublication.unique()"
   ]
  },
  {
   "cell_type": "markdown",
   "metadata": {},
   "source": [
    "As it can be seen from below that there are some incorrect entries in this field. It looks like Publisher names 'DK Publishing Inc' and 'Gallimard' have been incorrectly loaded as yearOfPublication in dataset due to some errors in csv file\n",
    "Also some of the entries are strings and same years have been entered as numbers in some places"
   ]
  },
  {
   "cell_type": "code",
   "execution_count": 10,
   "metadata": {
    "colab": {
     "base_uri": "https://localhost:8080/",
     "height": 332
    },
    "colab_type": "code",
    "id": "dk8mruVDgGQy",
    "outputId": "e1eb6b68-db3f-48df-87ef-e94554db6f68",
    "scrolled": true
   },
   "outputs": [
    {
     "data": {
      "text/html": [
       "<div>\n",
       "<style scoped>\n",
       "    .dataframe tbody tr th:only-of-type {\n",
       "        vertical-align: middle;\n",
       "    }\n",
       "\n",
       "    .dataframe tbody tr th {\n",
       "        vertical-align: top;\n",
       "    }\n",
       "\n",
       "    .dataframe thead th {\n",
       "        text-align: right;\n",
       "    }\n",
       "</style>\n",
       "<table border=\"1\" class=\"dataframe\">\n",
       "  <thead>\n",
       "    <tr style=\"text-align: right;\">\n",
       "      <th></th>\n",
       "      <th>ISBN</th>\n",
       "      <th>bookTitle</th>\n",
       "      <th>bookAuthor</th>\n",
       "      <th>yearOfPublication</th>\n",
       "      <th>publisher</th>\n",
       "    </tr>\n",
       "  </thead>\n",
       "  <tbody>\n",
       "    <tr>\n",
       "      <th>209538</th>\n",
       "      <td>078946697X</td>\n",
       "      <td>DK Readers: Creating the X-Men, How It All Began (Level 4: Proficient Readers)\\\";Michael Teitelbaum\"</td>\n",
       "      <td>2000</td>\n",
       "      <td>DK Publishing Inc</td>\n",
       "      <td>http://images.amazon.com/images/P/078946697X.01.THUMBZZZ.jpg</td>\n",
       "    </tr>\n",
       "    <tr>\n",
       "      <th>221678</th>\n",
       "      <td>0789466953</td>\n",
       "      <td>DK Readers: Creating the X-Men, How Comic Books Come to Life (Level 4: Proficient Readers)\\\";James Buckley\"</td>\n",
       "      <td>2000</td>\n",
       "      <td>DK Publishing Inc</td>\n",
       "      <td>http://images.amazon.com/images/P/0789466953.01.THUMBZZZ.jpg</td>\n",
       "    </tr>\n",
       "  </tbody>\n",
       "</table>\n",
       "</div>"
      ],
      "text/plain": [
       "              ISBN  \\\n",
       "209538  078946697X   \n",
       "221678  0789466953   \n",
       "\n",
       "                                                                                                          bookTitle  \\\n",
       "209538  DK Readers: Creating the X-Men, How It All Began (Level 4: Proficient Readers)\\\";Michael Teitelbaum\"          \n",
       "221678  DK Readers: Creating the X-Men, How Comic Books Come to Life (Level 4: Proficient Readers)\\\";James Buckley\"   \n",
       "\n",
       "       bookAuthor  yearOfPublication  \\\n",
       "209538  2000       DK Publishing Inc   \n",
       "221678  2000       DK Publishing Inc   \n",
       "\n",
       "                                                           publisher  \n",
       "209538  http://images.amazon.com/images/P/078946697X.01.THUMBZZZ.jpg  \n",
       "221678  http://images.amazon.com/images/P/0789466953.01.THUMBZZZ.jpg  "
      ]
     },
     "execution_count": 10,
     "metadata": {},
     "output_type": "execute_result"
    }
   ],
   "source": [
    "books.loc[books.yearOfPublication == 'DK Publishing Inc',:]"
   ]
  },
  {
   "cell_type": "markdown",
   "metadata": {},
   "source": [
    "From above, it is seen that bookAuthor is incorrectly loaded with bookTitle, hence making required corrections\n",
    "ISBN '0789466953'"
   ]
  },
  {
   "cell_type": "code",
   "execution_count": 11,
   "metadata": {
    "colab": {},
    "colab_type": "code",
    "id": "czP73V97gGQ1"
   },
   "outputs": [],
   "source": [
    "books.loc[books.ISBN == '0789466953','yearOfPublication'] = 2000\n",
    "books.loc[books.ISBN == '0789466953','bookAuthor'] = \"James Buckley\"\n",
    "books.loc[books.ISBN == '0789466953','publisher'] = \"DK Publishing Inc\"\n",
    "books.loc[books.ISBN == '0789466953','bookTitle'] = \"DK Readers: Creating the X-Men, How Comic Books Come to Life (Level 4: Proficient Readers)\""
   ]
  },
  {
   "cell_type": "code",
   "execution_count": 12,
   "metadata": {
    "colab": {},
    "colab_type": "code",
    "id": "bjKLh8qYgGQ4"
   },
   "outputs": [],
   "source": [
    "#ISBN '078946697X'\n",
    "books.loc[books.ISBN == '078946697X','yearOfPublication'] = 2000\n",
    "books.loc[books.ISBN == '078946697X','bookAuthor'] = \"Michael Teitelbaum\"\n",
    "books.loc[books.ISBN == '078946697X','publisher'] = \"DK Publishing Inc\"\n",
    "books.loc[books.ISBN == '078946697X','bookTitle'] = \"DK Readers: Creating the X-Men, How It All Began (Level 4: Proficient Readers)\""
   ]
  },
  {
   "cell_type": "code",
   "execution_count": 13,
   "metadata": {
    "colab": {
     "base_uri": "https://localhost:8080/",
     "height": 179
    },
    "colab_type": "code",
    "id": "JmaewxuYgGQ8",
    "outputId": "82490156-e30d-4b9a-cdd6-f944bb1735cb"
   },
   "outputs": [
    {
     "data": {
      "text/html": [
       "<div>\n",
       "<style scoped>\n",
       "    .dataframe tbody tr th:only-of-type {\n",
       "        vertical-align: middle;\n",
       "    }\n",
       "\n",
       "    .dataframe tbody tr th {\n",
       "        vertical-align: top;\n",
       "    }\n",
       "\n",
       "    .dataframe thead th {\n",
       "        text-align: right;\n",
       "    }\n",
       "</style>\n",
       "<table border=\"1\" class=\"dataframe\">\n",
       "  <thead>\n",
       "    <tr style=\"text-align: right;\">\n",
       "      <th></th>\n",
       "      <th>ISBN</th>\n",
       "      <th>bookTitle</th>\n",
       "      <th>bookAuthor</th>\n",
       "      <th>yearOfPublication</th>\n",
       "      <th>publisher</th>\n",
       "    </tr>\n",
       "  </thead>\n",
       "  <tbody>\n",
       "    <tr>\n",
       "      <th>209538</th>\n",
       "      <td>078946697X</td>\n",
       "      <td>DK Readers: Creating the X-Men, How It All Began (Level 4: Proficient Readers)</td>\n",
       "      <td>Michael Teitelbaum</td>\n",
       "      <td>2000</td>\n",
       "      <td>DK Publishing Inc</td>\n",
       "    </tr>\n",
       "    <tr>\n",
       "      <th>221678</th>\n",
       "      <td>0789466953</td>\n",
       "      <td>DK Readers: Creating the X-Men, How Comic Books Come to Life (Level 4: Proficient Readers)</td>\n",
       "      <td>James Buckley</td>\n",
       "      <td>2000</td>\n",
       "      <td>DK Publishing Inc</td>\n",
       "    </tr>\n",
       "  </tbody>\n",
       "</table>\n",
       "</div>"
      ],
      "text/plain": [
       "              ISBN  \\\n",
       "209538  078946697X   \n",
       "221678  0789466953   \n",
       "\n",
       "                                                                                         bookTitle  \\\n",
       "209538  DK Readers: Creating the X-Men, How It All Began (Level 4: Proficient Readers)               \n",
       "221678  DK Readers: Creating the X-Men, How Comic Books Come to Life (Level 4: Proficient Readers)   \n",
       "\n",
       "                bookAuthor yearOfPublication          publisher  \n",
       "209538  Michael Teitelbaum  2000              DK Publishing Inc  \n",
       "221678  James Buckley       2000              DK Publishing Inc  "
      ]
     },
     "execution_count": 13,
     "metadata": {},
     "output_type": "execute_result"
    }
   ],
   "source": [
    "books.loc[(books.ISBN == '0789466953') | (books.ISBN == '078946697X'),:]"
   ]
  },
  {
   "cell_type": "markdown",
   "metadata": {},
   "source": [
    "Now Lets us check for the rows having 'Gallimard' as yearOfPublication"
   ]
  },
  {
   "cell_type": "code",
   "execution_count": 14,
   "metadata": {
    "colab": {
     "base_uri": "https://localhost:8080/",
     "height": 148
    },
    "colab_type": "code",
    "id": "-vA_eczegGRA",
    "outputId": "71831405-cd87-4347-ebfe-7161ebe8b62a",
    "scrolled": true
   },
   "outputs": [
    {
     "data": {
      "text/html": [
       "<div>\n",
       "<style scoped>\n",
       "    .dataframe tbody tr th:only-of-type {\n",
       "        vertical-align: middle;\n",
       "    }\n",
       "\n",
       "    .dataframe tbody tr th {\n",
       "        vertical-align: top;\n",
       "    }\n",
       "\n",
       "    .dataframe thead th {\n",
       "        text-align: right;\n",
       "    }\n",
       "</style>\n",
       "<table border=\"1\" class=\"dataframe\">\n",
       "  <thead>\n",
       "    <tr style=\"text-align: right;\">\n",
       "      <th></th>\n",
       "      <th>ISBN</th>\n",
       "      <th>bookTitle</th>\n",
       "      <th>bookAuthor</th>\n",
       "      <th>yearOfPublication</th>\n",
       "      <th>publisher</th>\n",
       "    </tr>\n",
       "  </thead>\n",
       "  <tbody>\n",
       "    <tr>\n",
       "      <th>220731</th>\n",
       "      <td>2070426769</td>\n",
       "      <td>Peuple du ciel, suivi de 'Les Bergers\\\";Jean-Marie Gustave Le ClÃ?Â©zio\"</td>\n",
       "      <td>2003</td>\n",
       "      <td>Gallimard</td>\n",
       "      <td>http://images.amazon.com/images/P/2070426769.01.THUMBZZZ.jpg</td>\n",
       "    </tr>\n",
       "  </tbody>\n",
       "</table>\n",
       "</div>"
      ],
      "text/plain": [
       "              ISBN  \\\n",
       "220731  2070426769   \n",
       "\n",
       "                                                                       bookTitle  \\\n",
       "220731  Peuple du ciel, suivi de 'Les Bergers\\\";Jean-Marie Gustave Le ClÃ?Â©zio\"   \n",
       "\n",
       "       bookAuthor yearOfPublication  \\\n",
       "220731  2003       Gallimard          \n",
       "\n",
       "                                                           publisher  \n",
       "220731  http://images.amazon.com/images/P/2070426769.01.THUMBZZZ.jpg  "
      ]
     },
     "execution_count": 14,
     "metadata": {},
     "output_type": "execute_result"
    }
   ],
   "source": [
    "books.loc[books.yearOfPublication == 'Gallimard',:]"
   ]
  },
  {
   "cell_type": "code",
   "execution_count": 15,
   "metadata": {
    "colab": {},
    "colab_type": "code",
    "id": "rWezojt_gGRE"
   },
   "outputs": [],
   "source": [
    "#making required corrections as above, keeping other fields intact\n",
    "books.loc[books.ISBN == '2070426769','yearOfPublication'] = 2003\n",
    "books.loc[books.ISBN == '2070426769','bookAuthor'] = \"Jean-Marie Gustave Le ClÃ?Â©zio\"\n",
    "books.loc[books.ISBN == '2070426769','publisher'] = \"Gallimard\"\n",
    "books.loc[books.ISBN == '2070426769','bookTitle'] = \"Peuple du ciel, suivi de 'Les Bergers\""
   ]
  },
  {
   "cell_type": "code",
   "execution_count": 16,
   "metadata": {
    "colab": {
     "base_uri": "https://localhost:8080/",
     "height": 80
    },
    "colab_type": "code",
    "id": "VTuH5l1LgGRH",
    "outputId": "89d1f5a9-5ffe-42d8-df65-b2b39db07947",
    "scrolled": true
   },
   "outputs": [
    {
     "data": {
      "text/html": [
       "<div>\n",
       "<style scoped>\n",
       "    .dataframe tbody tr th:only-of-type {\n",
       "        vertical-align: middle;\n",
       "    }\n",
       "\n",
       "    .dataframe tbody tr th {\n",
       "        vertical-align: top;\n",
       "    }\n",
       "\n",
       "    .dataframe thead th {\n",
       "        text-align: right;\n",
       "    }\n",
       "</style>\n",
       "<table border=\"1\" class=\"dataframe\">\n",
       "  <thead>\n",
       "    <tr style=\"text-align: right;\">\n",
       "      <th></th>\n",
       "      <th>ISBN</th>\n",
       "      <th>bookTitle</th>\n",
       "      <th>bookAuthor</th>\n",
       "      <th>yearOfPublication</th>\n",
       "      <th>publisher</th>\n",
       "    </tr>\n",
       "  </thead>\n",
       "  <tbody>\n",
       "    <tr>\n",
       "      <th>220731</th>\n",
       "      <td>2070426769</td>\n",
       "      <td>Peuple du ciel, suivi de 'Les Bergers</td>\n",
       "      <td>Jean-Marie Gustave Le ClÃ?Â©zio</td>\n",
       "      <td>2003</td>\n",
       "      <td>Gallimard</td>\n",
       "    </tr>\n",
       "  </tbody>\n",
       "</table>\n",
       "</div>"
      ],
      "text/plain": [
       "              ISBN                              bookTitle  \\\n",
       "220731  2070426769  Peuple du ciel, suivi de 'Les Bergers   \n",
       "\n",
       "                             bookAuthor yearOfPublication  publisher  \n",
       "220731  Jean-Marie Gustave Le ClÃ?Â©zio  2003              Gallimard  "
      ]
     },
     "execution_count": 16,
     "metadata": {},
     "output_type": "execute_result"
    }
   ],
   "source": [
    "books.loc[books.ISBN == '2070426769',:]"
   ]
  },
  {
   "cell_type": "markdown",
   "metadata": {},
   "source": [
    "Correcting the dtypes of yearOfPublication"
   ]
  },
  {
   "cell_type": "code",
   "execution_count": 17,
   "metadata": {
    "colab": {},
    "colab_type": "code",
    "id": "KlnQW7lLgGRK"
   },
   "outputs": [],
   "source": [
    "books.yearOfPublication=pd.to_numeric(books.yearOfPublication, errors='coerce')"
   ]
  },
  {
   "cell_type": "code",
   "execution_count": 18,
   "metadata": {
    "colab": {
     "base_uri": "https://localhost:8080/",
     "height": 54
    },
    "colab_type": "code",
    "id": "fmK7UwqdgGRM",
    "outputId": "9d0fab6c-76ae-4034-e66d-cfbdd62c52b9"
   },
   "outputs": [
    {
     "name": "stdout",
     "output_type": "stream",
     "text": [
      "[0, 1376, 1378, 1806, 1897, 1900, 1901, 1902, 1904, 1906, 1908, 1909, 1910, 1911, 1914, 1917, 1919, 1920, 1921, 1922, 1923, 1924, 1925, 1926, 1927, 1928, 1929, 1930, 1931, 1932, 1933, 1934, 1935, 1936, 1937, 1938, 1939, 1940, 1941, 1942, 1943, 1944, 1945, 1946, 1947, 1948, 1949, 1950, 1951, 1952, 1953, 1954, 1955, 1956, 1957, 1958, 1959, 1960, 1961, 1962, 1963, 1964, 1965, 1966, 1967, 1968, 1969, 1970, 1971, 1972, 1973, 1974, 1975, 1976, 1977, 1978, 1979, 1980, 1981, 1982, 1983, 1984, 1985, 1986, 1987, 1988, 1989, 1990, 1991, 1992, 1993, 1994, 1995, 1996, 1997, 1998, 1999, 2000, 2001, 2002, 2003, 2004, 2005, 2006, 2008, 2010, 2011, 2012, 2020, 2021, 2024, 2026, 2030, 2037, 2038, 2050]\n"
     ]
    }
   ],
   "source": [
    "print(sorted(books['yearOfPublication'].unique()))"
   ]
  },
  {
   "cell_type": "markdown",
   "metadata": {},
   "source": [
    "However, the value 0 is invalid and as this dataset was published in 2004, I have assumed the the years after 2006 to be \n",
    "invalid keeping some margin in case dataset was updated thereafer\n",
    "setting invalid years as NaN"
   ]
  },
  {
   "cell_type": "code",
   "execution_count": 19,
   "metadata": {
    "colab": {},
    "colab_type": "code",
    "id": "r09V2Pk_gGRQ"
   },
   "outputs": [],
   "source": [
    "books.loc[(books.yearOfPublication > 2006) | (books.yearOfPublication == 0),'yearOfPublication'] = np.NAN"
   ]
  },
  {
   "cell_type": "markdown",
   "metadata": {},
   "source": [
    "Replacing NaNs with mean value of yearOfPublication"
   ]
  },
  {
   "cell_type": "code",
   "execution_count": 20,
   "metadata": {
    "colab": {},
    "colab_type": "code",
    "id": "UVTsOvzIgGRT"
   },
   "outputs": [],
   "source": [
    "books.yearOfPublication.fillna(round(books.yearOfPublication.mean()), inplace=True)"
   ]
  },
  {
   "cell_type": "code",
   "execution_count": 21,
   "metadata": {
    "colab": {
     "base_uri": "https://localhost:8080/",
     "height": 34
    },
    "colab_type": "code",
    "id": "qIVikS-5gGRU",
    "outputId": "f6acf2b8-3595-4314-b1a0-aad7c26dbcaf"
   },
   "outputs": [
    {
     "data": {
      "text/plain": [
       "0"
      ]
     },
     "execution_count": 21,
     "metadata": {},
     "output_type": "execute_result"
    }
   ],
   "source": [
    "books.yearOfPublication.isnull().sum()"
   ]
  },
  {
   "cell_type": "code",
   "execution_count": 22,
   "metadata": {
    "colab": {},
    "colab_type": "code",
    "id": "OJw1tRyKgGRW"
   },
   "outputs": [],
   "source": [
    "books.yearOfPublication = books.yearOfPublication.astype(np.int32)"
   ]
  },
  {
   "cell_type": "markdown",
   "metadata": {
    "colab_type": "text",
    "id": "z1dOift6gGRZ"
   },
   "source": [
    "**publisher**"
   ]
  },
  {
   "cell_type": "code",
   "execution_count": 23,
   "metadata": {
    "colab": {
     "base_uri": "https://localhost:8080/",
     "height": 111
    },
    "colab_type": "code",
    "id": "7NB6frZbgGRa",
    "outputId": "9a033ea0-f674-4bad-8d11-9f247e057aba"
   },
   "outputs": [
    {
     "data": {
      "text/html": [
       "<div>\n",
       "<style scoped>\n",
       "    .dataframe tbody tr th:only-of-type {\n",
       "        vertical-align: middle;\n",
       "    }\n",
       "\n",
       "    .dataframe tbody tr th {\n",
       "        vertical-align: top;\n",
       "    }\n",
       "\n",
       "    .dataframe thead th {\n",
       "        text-align: right;\n",
       "    }\n",
       "</style>\n",
       "<table border=\"1\" class=\"dataframe\">\n",
       "  <thead>\n",
       "    <tr style=\"text-align: right;\">\n",
       "      <th></th>\n",
       "      <th>ISBN</th>\n",
       "      <th>bookTitle</th>\n",
       "      <th>bookAuthor</th>\n",
       "      <th>yearOfPublication</th>\n",
       "      <th>publisher</th>\n",
       "    </tr>\n",
       "  </thead>\n",
       "  <tbody>\n",
       "    <tr>\n",
       "      <th>128890</th>\n",
       "      <td>193169656X</td>\n",
       "      <td>Tyrant Moon</td>\n",
       "      <td>Elaine Corvidae</td>\n",
       "      <td>2002</td>\n",
       "      <td>NaN</td>\n",
       "    </tr>\n",
       "    <tr>\n",
       "      <th>129037</th>\n",
       "      <td>1931696993</td>\n",
       "      <td>Finders Keepers</td>\n",
       "      <td>Linnea Sinclair</td>\n",
       "      <td>2001</td>\n",
       "      <td>NaN</td>\n",
       "    </tr>\n",
       "  </tbody>\n",
       "</table>\n",
       "</div>"
      ],
      "text/plain": [
       "              ISBN        bookTitle       bookAuthor  yearOfPublication  \\\n",
       "128890  193169656X  Tyrant Moon      Elaine Corvidae  2002                \n",
       "129037  1931696993  Finders Keepers  Linnea Sinclair  2001                \n",
       "\n",
       "       publisher  \n",
       "128890  NaN       \n",
       "129037  NaN       "
      ]
     },
     "execution_count": 23,
     "metadata": {},
     "output_type": "execute_result"
    }
   ],
   "source": [
    "books.loc[books.publisher.isnull(),:]"
   ]
  },
  {
   "cell_type": "code",
   "execution_count": 24,
   "metadata": {
    "colab": {
     "base_uri": "https://localhost:8080/",
     "height": 80
    },
    "colab_type": "code",
    "id": "Prwt-Wh5gGRc",
    "outputId": "e7317528-80d1-4ee1-de6b-a58719c134d2",
    "scrolled": true
   },
   "outputs": [
    {
     "data": {
      "text/html": [
       "<div>\n",
       "<style scoped>\n",
       "    .dataframe tbody tr th:only-of-type {\n",
       "        vertical-align: middle;\n",
       "    }\n",
       "\n",
       "    .dataframe tbody tr th {\n",
       "        vertical-align: top;\n",
       "    }\n",
       "\n",
       "    .dataframe thead th {\n",
       "        text-align: right;\n",
       "    }\n",
       "</style>\n",
       "<table border=\"1\" class=\"dataframe\">\n",
       "  <thead>\n",
       "    <tr style=\"text-align: right;\">\n",
       "      <th></th>\n",
       "      <th>ISBN</th>\n",
       "      <th>bookTitle</th>\n",
       "      <th>bookAuthor</th>\n",
       "      <th>yearOfPublication</th>\n",
       "      <th>publisher</th>\n",
       "    </tr>\n",
       "  </thead>\n",
       "  <tbody>\n",
       "    <tr>\n",
       "      <th>128890</th>\n",
       "      <td>193169656X</td>\n",
       "      <td>Tyrant Moon</td>\n",
       "      <td>Elaine Corvidae</td>\n",
       "      <td>2002</td>\n",
       "      <td>NaN</td>\n",
       "    </tr>\n",
       "  </tbody>\n",
       "</table>\n",
       "</div>"
      ],
      "text/plain": [
       "              ISBN    bookTitle       bookAuthor  yearOfPublication publisher\n",
       "128890  193169656X  Tyrant Moon  Elaine Corvidae  2002               NaN     "
      ]
     },
     "execution_count": 24,
     "metadata": {},
     "output_type": "execute_result"
    }
   ],
   "source": [
    "books.loc[(books.bookTitle == 'Tyrant Moon'),:]"
   ]
  },
  {
   "cell_type": "code",
   "execution_count": 25,
   "metadata": {
    "colab": {
     "base_uri": "https://localhost:8080/",
     "height": 328
    },
    "colab_type": "code",
    "id": "CzrPtOgogGRg",
    "outputId": "2ad1c263-6995-410a-9678-2f64f0611727"
   },
   "outputs": [
    {
     "data": {
      "text/html": [
       "<div>\n",
       "<style scoped>\n",
       "    .dataframe tbody tr th:only-of-type {\n",
       "        vertical-align: middle;\n",
       "    }\n",
       "\n",
       "    .dataframe tbody tr th {\n",
       "        vertical-align: top;\n",
       "    }\n",
       "\n",
       "    .dataframe thead th {\n",
       "        text-align: right;\n",
       "    }\n",
       "</style>\n",
       "<table border=\"1\" class=\"dataframe\">\n",
       "  <thead>\n",
       "    <tr style=\"text-align: right;\">\n",
       "      <th></th>\n",
       "      <th>ISBN</th>\n",
       "      <th>bookTitle</th>\n",
       "      <th>bookAuthor</th>\n",
       "      <th>yearOfPublication</th>\n",
       "      <th>publisher</th>\n",
       "    </tr>\n",
       "  </thead>\n",
       "  <tbody>\n",
       "    <tr>\n",
       "      <th>10799</th>\n",
       "      <td>082177364X</td>\n",
       "      <td>Finders Keepers</td>\n",
       "      <td>Fern Michaels</td>\n",
       "      <td>2002</td>\n",
       "      <td>Zebra Books</td>\n",
       "    </tr>\n",
       "    <tr>\n",
       "      <th>42019</th>\n",
       "      <td>0070465037</td>\n",
       "      <td>Finders Keepers</td>\n",
       "      <td>Barbara Nickolae</td>\n",
       "      <td>1989</td>\n",
       "      <td>McGraw-Hill Companies</td>\n",
       "    </tr>\n",
       "    <tr>\n",
       "      <th>58264</th>\n",
       "      <td>0688118461</td>\n",
       "      <td>Finders Keepers</td>\n",
       "      <td>Emily Rodda</td>\n",
       "      <td>1993</td>\n",
       "      <td>Harpercollins Juvenile Books</td>\n",
       "    </tr>\n",
       "    <tr>\n",
       "      <th>66678</th>\n",
       "      <td>1575663236</td>\n",
       "      <td>Finders Keepers</td>\n",
       "      <td>Fern Michaels</td>\n",
       "      <td>1998</td>\n",
       "      <td>Kensington Publishing Corporation</td>\n",
       "    </tr>\n",
       "    <tr>\n",
       "      <th>129037</th>\n",
       "      <td>1931696993</td>\n",
       "      <td>Finders Keepers</td>\n",
       "      <td>Linnea Sinclair</td>\n",
       "      <td>2001</td>\n",
       "      <td>NaN</td>\n",
       "    </tr>\n",
       "    <tr>\n",
       "      <th>134309</th>\n",
       "      <td>0156309505</td>\n",
       "      <td>Finders Keepers</td>\n",
       "      <td>Will</td>\n",
       "      <td>1989</td>\n",
       "      <td>Voyager Books</td>\n",
       "    </tr>\n",
       "    <tr>\n",
       "      <th>173473</th>\n",
       "      <td>0973146907</td>\n",
       "      <td>Finders Keepers</td>\n",
       "      <td>Sean M. Costello</td>\n",
       "      <td>2002</td>\n",
       "      <td>Red Tower Publications</td>\n",
       "    </tr>\n",
       "    <tr>\n",
       "      <th>195885</th>\n",
       "      <td>0061083909</td>\n",
       "      <td>Finders Keepers</td>\n",
       "      <td>Sharon Sala</td>\n",
       "      <td>2003</td>\n",
       "      <td>HarperTorch</td>\n",
       "    </tr>\n",
       "    <tr>\n",
       "      <th>211874</th>\n",
       "      <td>0373261160</td>\n",
       "      <td>Finders Keepers</td>\n",
       "      <td>Elizabeth Travis</td>\n",
       "      <td>1993</td>\n",
       "      <td>Worldwide Library</td>\n",
       "    </tr>\n",
       "  </tbody>\n",
       "</table>\n",
       "</div>"
      ],
      "text/plain": [
       "              ISBN        bookTitle        bookAuthor  yearOfPublication  \\\n",
       "10799   082177364X  Finders Keepers  Fern Michaels     2002                \n",
       "42019   0070465037  Finders Keepers  Barbara Nickolae  1989                \n",
       "58264   0688118461  Finders Keepers  Emily Rodda       1993                \n",
       "66678   1575663236  Finders Keepers  Fern Michaels     1998                \n",
       "129037  1931696993  Finders Keepers  Linnea Sinclair   2001                \n",
       "134309  0156309505  Finders Keepers  Will              1989                \n",
       "173473  0973146907  Finders Keepers  Sean M. Costello  2002                \n",
       "195885  0061083909  Finders Keepers  Sharon Sala       2003                \n",
       "211874  0373261160  Finders Keepers  Elizabeth Travis  1993                \n",
       "\n",
       "                                publisher  \n",
       "10799   Zebra Books                        \n",
       "42019   McGraw-Hill Companies              \n",
       "58264   Harpercollins Juvenile Books       \n",
       "66678   Kensington Publishing Corporation  \n",
       "129037  NaN                                \n",
       "134309  Voyager Books                      \n",
       "173473  Red Tower Publications             \n",
       "195885  HarperTorch                        \n",
       "211874  Worldwide Library                  "
      ]
     },
     "execution_count": 25,
     "metadata": {},
     "output_type": "execute_result"
    }
   ],
   "source": [
    "books.loc[(books.bookTitle == 'Finders Keepers'),:]"
   ]
  },
  {
   "cell_type": "code",
   "execution_count": 26,
   "metadata": {
    "colab": {
     "base_uri": "https://localhost:8080/",
     "height": 142
    },
    "colab_type": "code",
    "id": "XegnW9NzgGRi",
    "outputId": "6ea0431e-3b31-4c72-d309-8b822a1e1475"
   },
   "outputs": [
    {
     "data": {
      "text/html": [
       "<div>\n",
       "<style scoped>\n",
       "    .dataframe tbody tr th:only-of-type {\n",
       "        vertical-align: middle;\n",
       "    }\n",
       "\n",
       "    .dataframe tbody tr th {\n",
       "        vertical-align: top;\n",
       "    }\n",
       "\n",
       "    .dataframe thead th {\n",
       "        text-align: right;\n",
       "    }\n",
       "</style>\n",
       "<table border=\"1\" class=\"dataframe\">\n",
       "  <thead>\n",
       "    <tr style=\"text-align: right;\">\n",
       "      <th></th>\n",
       "      <th>ISBN</th>\n",
       "      <th>bookTitle</th>\n",
       "      <th>bookAuthor</th>\n",
       "      <th>yearOfPublication</th>\n",
       "      <th>publisher</th>\n",
       "    </tr>\n",
       "  </thead>\n",
       "  <tbody>\n",
       "    <tr>\n",
       "      <th>126762</th>\n",
       "      <td>1931696934</td>\n",
       "      <td>Winter's Orphans</td>\n",
       "      <td>Elaine Corvidae</td>\n",
       "      <td>2001</td>\n",
       "      <td>Novelbooks</td>\n",
       "    </tr>\n",
       "    <tr>\n",
       "      <th>128890</th>\n",
       "      <td>193169656X</td>\n",
       "      <td>Tyrant Moon</td>\n",
       "      <td>Elaine Corvidae</td>\n",
       "      <td>2002</td>\n",
       "      <td>NaN</td>\n",
       "    </tr>\n",
       "    <tr>\n",
       "      <th>129001</th>\n",
       "      <td>0759901880</td>\n",
       "      <td>Wolfkin</td>\n",
       "      <td>Elaine Corvidae</td>\n",
       "      <td>2001</td>\n",
       "      <td>Hard Shell Word Factory</td>\n",
       "    </tr>\n",
       "  </tbody>\n",
       "</table>\n",
       "</div>"
      ],
      "text/plain": [
       "              ISBN         bookTitle       bookAuthor  yearOfPublication  \\\n",
       "126762  1931696934  Winter's Orphans  Elaine Corvidae  2001                \n",
       "128890  193169656X  Tyrant Moon       Elaine Corvidae  2002                \n",
       "129001  0759901880  Wolfkin           Elaine Corvidae  2001                \n",
       "\n",
       "                      publisher  \n",
       "126762  Novelbooks               \n",
       "128890  NaN                      \n",
       "129001  Hard Shell Word Factory  "
      ]
     },
     "execution_count": 26,
     "metadata": {},
     "output_type": "execute_result"
    }
   ],
   "source": [
    "books.loc[(books.bookAuthor == 'Elaine Corvidae'),:]"
   ]
  },
  {
   "cell_type": "code",
   "execution_count": 27,
   "metadata": {
    "colab": {
     "base_uri": "https://localhost:8080/",
     "height": 80
    },
    "colab_type": "code",
    "id": "dM7txO7JgGRm",
    "outputId": "860fbbb7-27f7-4d6e-d2f1-e25aac7bbc22"
   },
   "outputs": [
    {
     "data": {
      "text/html": [
       "<div>\n",
       "<style scoped>\n",
       "    .dataframe tbody tr th:only-of-type {\n",
       "        vertical-align: middle;\n",
       "    }\n",
       "\n",
       "    .dataframe tbody tr th {\n",
       "        vertical-align: top;\n",
       "    }\n",
       "\n",
       "    .dataframe thead th {\n",
       "        text-align: right;\n",
       "    }\n",
       "</style>\n",
       "<table border=\"1\" class=\"dataframe\">\n",
       "  <thead>\n",
       "    <tr style=\"text-align: right;\">\n",
       "      <th></th>\n",
       "      <th>ISBN</th>\n",
       "      <th>bookTitle</th>\n",
       "      <th>bookAuthor</th>\n",
       "      <th>yearOfPublication</th>\n",
       "      <th>publisher</th>\n",
       "    </tr>\n",
       "  </thead>\n",
       "  <tbody>\n",
       "    <tr>\n",
       "      <th>129037</th>\n",
       "      <td>1931696993</td>\n",
       "      <td>Finders Keepers</td>\n",
       "      <td>Linnea Sinclair</td>\n",
       "      <td>2001</td>\n",
       "      <td>NaN</td>\n",
       "    </tr>\n",
       "  </tbody>\n",
       "</table>\n",
       "</div>"
      ],
      "text/plain": [
       "              ISBN        bookTitle       bookAuthor  yearOfPublication  \\\n",
       "129037  1931696993  Finders Keepers  Linnea Sinclair  2001                \n",
       "\n",
       "       publisher  \n",
       "129037  NaN       "
      ]
     },
     "execution_count": 27,
     "metadata": {},
     "output_type": "execute_result"
    }
   ],
   "source": [
    "books.loc[(books.bookAuthor == 'Linnea Sinclair'),:]"
   ]
  },
  {
   "cell_type": "markdown",
   "metadata": {},
   "source": [
    "Since there is nothing in common to infer publisher for NaNs, replacing these with 'other"
   ]
  },
  {
   "cell_type": "code",
   "execution_count": 28,
   "metadata": {
    "colab": {},
    "colab_type": "code",
    "id": "ahgoIjG_gGRq"
   },
   "outputs": [],
   "source": [
    "books.loc[(books.ISBN == '193169656X'),'publisher'] = 'other'\n",
    "books.loc[(books.ISBN == '1931696993'),'publisher'] = 'other'"
   ]
  },
  {
   "cell_type": "markdown",
   "metadata": {
    "colab_type": "text",
    "id": "-zqRH76PgGRs"
   },
   "source": [
    "**Users**"
   ]
  },
  {
   "cell_type": "code",
   "execution_count": 29,
   "metadata": {
    "colab": {
     "base_uri": "https://localhost:8080/",
     "height": 221
    },
    "colab_type": "code",
    "id": "taGQk9qHgGRt",
    "outputId": "d549b5dd-7e48-4d0f-fb51-7405be2cf3e0",
    "scrolled": true
   },
   "outputs": [
    {
     "name": "stdout",
     "output_type": "stream",
     "text": [
      "(278858, 3)\n"
     ]
    },
    {
     "data": {
      "text/html": [
       "<div>\n",
       "<style scoped>\n",
       "    .dataframe tbody tr th:only-of-type {\n",
       "        vertical-align: middle;\n",
       "    }\n",
       "\n",
       "    .dataframe tbody tr th {\n",
       "        vertical-align: top;\n",
       "    }\n",
       "\n",
       "    .dataframe thead th {\n",
       "        text-align: right;\n",
       "    }\n",
       "</style>\n",
       "<table border=\"1\" class=\"dataframe\">\n",
       "  <thead>\n",
       "    <tr style=\"text-align: right;\">\n",
       "      <th></th>\n",
       "      <th>userID</th>\n",
       "      <th>Location</th>\n",
       "      <th>Age</th>\n",
       "    </tr>\n",
       "  </thead>\n",
       "  <tbody>\n",
       "    <tr>\n",
       "      <th>0</th>\n",
       "      <td>1</td>\n",
       "      <td>nyc, new york, usa</td>\n",
       "      <td>NaN</td>\n",
       "    </tr>\n",
       "    <tr>\n",
       "      <th>1</th>\n",
       "      <td>2</td>\n",
       "      <td>stockton, california, usa</td>\n",
       "      <td>18.0</td>\n",
       "    </tr>\n",
       "    <tr>\n",
       "      <th>2</th>\n",
       "      <td>3</td>\n",
       "      <td>moscow, yukon territory, russia</td>\n",
       "      <td>NaN</td>\n",
       "    </tr>\n",
       "    <tr>\n",
       "      <th>3</th>\n",
       "      <td>4</td>\n",
       "      <td>porto, v.n.gaia, portugal</td>\n",
       "      <td>17.0</td>\n",
       "    </tr>\n",
       "    <tr>\n",
       "      <th>4</th>\n",
       "      <td>5</td>\n",
       "      <td>farnborough, hants, united kingdom</td>\n",
       "      <td>NaN</td>\n",
       "    </tr>\n",
       "  </tbody>\n",
       "</table>\n",
       "</div>"
      ],
      "text/plain": [
       "   userID                            Location   Age\n",
       "0  1       nyc, new york, usa                 NaN  \n",
       "1  2       stockton, california, usa           18.0\n",
       "2  3       moscow, yukon territory, russia    NaN  \n",
       "3  4       porto, v.n.gaia, portugal           17.0\n",
       "4  5       farnborough, hants, united kingdom NaN  "
      ]
     },
     "execution_count": 29,
     "metadata": {},
     "output_type": "execute_result"
    }
   ],
   "source": [
    "print(users.shape)\n",
    "users.head()"
   ]
  },
  {
   "cell_type": "code",
   "execution_count": 30,
   "metadata": {
    "colab": {
     "base_uri": "https://localhost:8080/",
     "height": 85
    },
    "colab_type": "code",
    "id": "HawYQ5rPgGRv",
    "outputId": "eb9011d2-99e5-414b-b176-5b1943f78201",
    "scrolled": true
   },
   "outputs": [
    {
     "data": {
      "text/plain": [
       "userID      int64  \n",
       "Location    object \n",
       "Age         float64\n",
       "dtype: object"
      ]
     },
     "execution_count": 30,
     "metadata": {},
     "output_type": "execute_result"
    }
   ],
   "source": [
    "users.dtypes"
   ]
  },
  {
   "cell_type": "markdown",
   "metadata": {
    "colab_type": "text",
    "id": "3x87ctsIgGRy"
   },
   "source": [
    "**userID**"
   ]
  },
  {
   "cell_type": "code",
   "execution_count": 31,
   "metadata": {
    "colab": {
     "base_uri": "https://localhost:8080/",
     "height": 34
    },
    "colab_type": "code",
    "id": "zRf7zNHTgGRy",
    "outputId": "9a1768c8-9f7b-4e09-a550-9f96ecd2a324"
   },
   "outputs": [
    {
     "data": {
      "text/plain": [
       "array([     1,      2,      3, ..., 278856, 278857, 278858])"
      ]
     },
     "execution_count": 31,
     "metadata": {},
     "output_type": "execute_result"
    }
   ],
   "source": [
    "users.userID.values"
   ]
  },
  {
   "cell_type": "markdown",
   "metadata": {
    "colab_type": "text",
    "id": "iOYhs7_NgGR1"
   },
   "source": [
    "**Age**"
   ]
  },
  {
   "cell_type": "code",
   "execution_count": 32,
   "metadata": {
    "colab": {
     "base_uri": "https://localhost:8080/",
     "height": 54
    },
    "colab_type": "code",
    "id": "RlUuhK20gGR2",
    "outputId": "f0f5edb5-44be-41d8-ca16-211ef72f9113"
   },
   "outputs": [
    {
     "name": "stdout",
     "output_type": "stream",
     "text": [
      "[nan, 0.0, 1.0, 2.0, 3.0, 4.0, 5.0, 6.0, 7.0, 8.0, 9.0, 10.0, 11.0, 12.0, 13.0, 14.0, 15.0, 16.0, 17.0, 18.0, 19.0, 20.0, 21.0, 22.0, 23.0, 24.0, 25.0, 26.0, 27.0, 28.0, 29.0, 30.0, 31.0, 32.0, 33.0, 34.0, 35.0, 36.0, 37.0, 38.0, 39.0, 40.0, 41.0, 42.0, 43.0, 44.0, 45.0, 46.0, 47.0, 48.0, 49.0, 50.0, 51.0, 52.0, 53.0, 54.0, 55.0, 56.0, 57.0, 58.0, 59.0, 60.0, 61.0, 62.0, 63.0, 64.0, 65.0, 66.0, 67.0, 68.0, 69.0, 70.0, 71.0, 72.0, 73.0, 74.0, 75.0, 76.0, 77.0, 78.0, 79.0, 80.0, 81.0, 82.0, 83.0, 84.0, 85.0, 86.0, 87.0, 88.0, 89.0, 90.0, 91.0, 92.0, 93.0, 94.0, 95.0, 96.0, 97.0, 98.0, 99.0, 100.0, 101.0, 102.0, 103.0, 104.0, 105.0, 106.0, 107.0, 108.0, 109.0, 110.0, 111.0, 113.0, 114.0, 115.0, 116.0, 118.0, 119.0, 123.0, 124.0, 127.0, 128.0, 132.0, 133.0, 136.0, 137.0, 138.0, 140.0, 141.0, 143.0, 146.0, 147.0, 148.0, 151.0, 152.0, 156.0, 157.0, 159.0, 162.0, 168.0, 172.0, 175.0, 183.0, 186.0, 189.0, 199.0, 200.0, 201.0, 204.0, 207.0, 208.0, 209.0, 210.0, 212.0, 219.0, 220.0, 223.0, 226.0, 228.0, 229.0, 230.0, 231.0, 237.0, 239.0, 244.0]\n"
     ]
    }
   ],
   "source": [
    "print(sorted(users.Age.unique()))"
   ]
  },
  {
   "cell_type": "markdown",
   "metadata": {},
   "source": [
    "Age column has some invalid entries like nan, 0 and very high values like 100 and above"
   ]
  },
  {
   "cell_type": "code",
   "execution_count": 33,
   "metadata": {
    "colab": {},
    "colab_type": "code",
    "id": "nMxOZyRcgGR5"
   },
   "outputs": [],
   "source": [
    "users.loc[(users.Age > 90) | (users.Age < 5), 'Age'] = np.nan"
   ]
  },
  {
   "cell_type": "markdown",
   "metadata": {},
   "source": [
    "In my view values below 5 and above 90 do not make much sense for our book rating case...hence replacing these by NaNs"
   ]
  },
  {
   "cell_type": "code",
   "execution_count": 34,
   "metadata": {
    "colab": {},
    "colab_type": "code",
    "id": "cCPzgdhPgGR7"
   },
   "outputs": [],
   "source": [
    "users.Age = users.Age.fillna(users.Age.mean())"
   ]
  },
  {
   "cell_type": "markdown",
   "metadata": {},
   "source": [
    "Replacing NaNs with mean"
   ]
  },
  {
   "cell_type": "code",
   "execution_count": 35,
   "metadata": {
    "colab": {},
    "colab_type": "code",
    "id": "houQFaQ6gGR_"
   },
   "outputs": [],
   "source": [
    "users.Age = users.Age.astype(np.int32)"
   ]
  },
  {
   "cell_type": "code",
   "execution_count": 37,
   "metadata": {
    "colab": {
     "base_uri": "https://localhost:8080/",
     "height": 54
    },
    "colab_type": "code",
    "id": "5aRxSm8fgGSF",
    "outputId": "a3e2faab-cdb1-4781-b08c-d3c3784cd934",
    "scrolled": true
   },
   "outputs": [
    {
     "name": "stdout",
     "output_type": "stream",
     "text": [
      "[5, 6, 7, 8, 9, 10, 11, 12, 13, 14, 15, 16, 17, 18, 19, 20, 21, 22, 23, 24, 25, 26, 27, 28, 29, 30, 31, 32, 33, 34, 35, 36, 37, 38, 39, 40, 41, 42, 43, 44, 45, 46, 47, 48, 49, 50, 51, 52, 53, 54, 55, 56, 57, 58, 59, 60, 61, 62, 63, 64, 65, 66, 67, 68, 69, 70, 71, 72, 73, 74, 75, 76, 77, 78, 79, 80, 81, 82, 83, 84, 85, 86, 87, 88, 89, 90]\n"
     ]
    }
   ],
   "source": [
    "print(sorted(users.Age.unique()))"
   ]
  },
  {
   "cell_type": "markdown",
   "metadata": {
    "colab_type": "text",
    "id": "j3KQRzJ9gGSK"
   },
   "source": [
    "**Ratings Dataset**"
   ]
  },
  {
   "cell_type": "code",
   "execution_count": 38,
   "metadata": {
    "colab": {
     "base_uri": "https://localhost:8080/",
     "height": 34
    },
    "colab_type": "code",
    "id": "yC1-dpA4gGSL",
    "outputId": "ecfabeb7-bd17-44b6-8f1b-1afad2720412"
   },
   "outputs": [
    {
     "data": {
      "text/plain": [
       "(1149780, 3)"
      ]
     },
     "execution_count": 38,
     "metadata": {},
     "output_type": "execute_result"
    }
   ],
   "source": [
    "ratings.shape"
   ]
  },
  {
   "cell_type": "code",
   "execution_count": 39,
   "metadata": {
    "colab": {
     "base_uri": "https://localhost:8080/",
     "height": 34
    },
    "colab_type": "code",
    "id": "UyCbfEvKgGSR",
    "outputId": "5f84d914-6730-4707-87d6-a5a5bec3e461"
   },
   "outputs": [
    {
     "name": "stdout",
     "output_type": "stream",
     "text": [
      "75670906880\n"
     ]
    }
   ],
   "source": [
    "#ratings dataset will have n_users*n_books entries if every user rated every item, this shows that the dataset is very sparse\n",
    "n_users = users.shape[0]\n",
    "n_books = books.shape[0]\n",
    "print(n_users * n_books)"
   ]
  },
  {
   "cell_type": "code",
   "execution_count": 40,
   "metadata": {
    "colab": {
     "base_uri": "https://localhost:8080/",
     "height": 204
    },
    "colab_type": "code",
    "id": "MMOHQ_NNgGSV",
    "outputId": "6585d154-fd8d-4537-dc28-b838bc8451fe",
    "scrolled": true
   },
   "outputs": [
    {
     "data": {
      "text/html": [
       "<div>\n",
       "<style scoped>\n",
       "    .dataframe tbody tr th:only-of-type {\n",
       "        vertical-align: middle;\n",
       "    }\n",
       "\n",
       "    .dataframe tbody tr th {\n",
       "        vertical-align: top;\n",
       "    }\n",
       "\n",
       "    .dataframe thead th {\n",
       "        text-align: right;\n",
       "    }\n",
       "</style>\n",
       "<table border=\"1\" class=\"dataframe\">\n",
       "  <thead>\n",
       "    <tr style=\"text-align: right;\">\n",
       "      <th></th>\n",
       "      <th>userID</th>\n",
       "      <th>ISBN</th>\n",
       "      <th>bookRating</th>\n",
       "    </tr>\n",
       "  </thead>\n",
       "  <tbody>\n",
       "    <tr>\n",
       "      <th>0</th>\n",
       "      <td>276725</td>\n",
       "      <td>034545104X</td>\n",
       "      <td>0</td>\n",
       "    </tr>\n",
       "    <tr>\n",
       "      <th>1</th>\n",
       "      <td>276726</td>\n",
       "      <td>0155061224</td>\n",
       "      <td>5</td>\n",
       "    </tr>\n",
       "    <tr>\n",
       "      <th>2</th>\n",
       "      <td>276727</td>\n",
       "      <td>0446520802</td>\n",
       "      <td>0</td>\n",
       "    </tr>\n",
       "    <tr>\n",
       "      <th>3</th>\n",
       "      <td>276729</td>\n",
       "      <td>052165615X</td>\n",
       "      <td>3</td>\n",
       "    </tr>\n",
       "    <tr>\n",
       "      <th>4</th>\n",
       "      <td>276729</td>\n",
       "      <td>0521795028</td>\n",
       "      <td>6</td>\n",
       "    </tr>\n",
       "  </tbody>\n",
       "</table>\n",
       "</div>"
      ],
      "text/plain": [
       "   userID        ISBN  bookRating\n",
       "0  276725  034545104X  0         \n",
       "1  276726  0155061224  5         \n",
       "2  276727  0446520802  0         \n",
       "3  276729  052165615X  3         \n",
       "4  276729  0521795028  6         "
      ]
     },
     "execution_count": 40,
     "metadata": {},
     "output_type": "execute_result"
    }
   ],
   "source": [
    "#checking first few rows...\n",
    "ratings.head(5)"
   ]
  },
  {
   "cell_type": "code",
   "execution_count": 41,
   "metadata": {
    "colab": {
     "base_uri": "https://localhost:8080/",
     "height": 34
    },
    "colab_type": "code",
    "id": "jKQwXXKVgGSY",
    "outputId": "1210bb52-ede0-4869-a69d-dfdbb66567f7"
   },
   "outputs": [
    {
     "data": {
      "text/plain": [
       "array([ 0,  5,  3,  6,  8,  7, 10,  9,  4,  1,  2])"
      ]
     },
     "execution_count": 41,
     "metadata": {},
     "output_type": "execute_result"
    }
   ],
   "source": [
    "ratings.bookRating.unique()"
   ]
  },
  {
   "cell_type": "code",
   "execution_count": 42,
   "metadata": {
    "colab": {},
    "colab_type": "code",
    "id": "9MGHRLPrgGSe"
   },
   "outputs": [],
   "source": [
    "#ratings dataset should have books only which exist in our books dataset, unless new books are added to books dataset\n",
    "ratings_new = ratings[ratings.ISBN.isin(books.ISBN)]"
   ]
  },
  {
   "cell_type": "code",
   "execution_count": 43,
   "metadata": {
    "colab": {
     "base_uri": "https://localhost:8080/",
     "height": 51
    },
    "colab_type": "code",
    "id": "7fxaau9PgGSg",
    "outputId": "4df258bb-96c1-4b93-9031-18f3f79082ab"
   },
   "outputs": [
    {
     "name": "stdout",
     "output_type": "stream",
     "text": [
      "(1149780, 3)\n",
      "(1031136, 3)\n"
     ]
    }
   ],
   "source": [
    "print(ratings.shape)\n",
    "print(ratings_new.shape)\n",
    "#it can be seen that many rows having book ISBN not part of books dataset got dropped off"
   ]
  },
  {
   "cell_type": "code",
   "execution_count": 44,
   "metadata": {
    "colab": {},
    "colab_type": "code",
    "id": "l8zWVVbqgGSk"
   },
   "outputs": [],
   "source": [
    "#ratings dataset should have ratings from users which exist in users dataset, unless new users are added to users dataset\n",
    "ratings = ratings[ratings.userID.isin(users.userID)]"
   ]
  },
  {
   "cell_type": "code",
   "execution_count": 45,
   "metadata": {
    "colab": {
     "base_uri": "https://localhost:8080/",
     "height": 51
    },
    "colab_type": "code",
    "id": "sikEaascgGSp",
    "outputId": "ef997cf3-ddfe-4360-daa1-98dd1ce26b4a"
   },
   "outputs": [
    {
     "name": "stdout",
     "output_type": "stream",
     "text": [
      "(1149780, 3)\n",
      "(1031136, 3)\n"
     ]
    }
   ],
   "source": [
    "print(ratings.shape)\n",
    "print(ratings_new.shape)\n",
    "#no new users added, hence we will go with above dataset ratings_new (1031136, 3)"
   ]
  },
  {
   "cell_type": "code",
   "execution_count": 46,
   "metadata": {
    "colab": {
     "base_uri": "https://localhost:8080/",
     "height": 51
    },
    "colab_type": "code",
    "id": "Ov3ahHDOgGSr",
    "outputId": "1634fc91-ac54-4ca4-a859-c14a2f26325b"
   },
   "outputs": [
    {
     "name": "stdout",
     "output_type": "stream",
     "text": [
      "number of users: 278858\n",
      "number of books: 271360\n"
     ]
    }
   ],
   "source": [
    "print(\"number of users: \" + str(n_users))\n",
    "print(\"number of books: \" + str(n_books))"
   ]
  },
  {
   "cell_type": "code",
   "execution_count": 47,
   "metadata": {
    "colab": {
     "base_uri": "https://localhost:8080/",
     "height": 34
    },
    "colab_type": "code",
    "id": "oRvUHUXQgGSu",
    "outputId": "b3e92c1c-1bc5-4166-c2c7-764f359fcff5"
   },
   "outputs": [
    {
     "name": "stdout",
     "output_type": "stream",
     "text": [
      "The sparsity level of Book Crossing dataset is 99.99863734155898 %\n"
     ]
    }
   ],
   "source": [
    "#Sparsity of dataset in %\n",
    "sparsity=1.0-len(ratings_new)/float(n_users*n_books)\n",
    "print('The sparsity level of Book Crossing dataset is ' +  str(sparsity*100) + ' %')"
   ]
  },
  {
   "cell_type": "code",
   "execution_count": 48,
   "metadata": {
    "colab": {
     "base_uri": "https://localhost:8080/",
     "height": 34
    },
    "colab_type": "code",
    "id": "mopFPxkegGSv",
    "outputId": "77b9414c-a1a4-4856-cd5e-5a7c281e0c3f"
   },
   "outputs": [
    {
     "data": {
      "text/plain": [
       "array([ 0,  5,  3,  6,  8,  7, 10,  9,  4,  1,  2])"
      ]
     },
     "execution_count": 48,
     "metadata": {},
     "output_type": "execute_result"
    }
   ],
   "source": [
    "#As quoted in the description of the dataset -\n",
    "#BX-Book-Ratings contains the book rating information. Ratings are either explicit, expressed on a scale from 1-10 \n",
    "#higher values denoting higher appreciation, or implicit, expressed by 0\n",
    "ratings.bookRating.unique()"
   ]
  },
  {
   "cell_type": "code",
   "execution_count": 49,
   "metadata": {
    "colab": {},
    "colab_type": "code",
    "id": "5VpHF5iwgGSx"
   },
   "outputs": [],
   "source": [
    "#Hence segragating implicit and explict ratings datasets\n",
    "ratings_explicit = ratings_new[ratings_new.bookRating != 0]\n",
    "ratings_implicit = ratings_new[ratings_new.bookRating == 0]"
   ]
  },
  {
   "cell_type": "code",
   "execution_count": 50,
   "metadata": {
    "colab": {
     "base_uri": "https://localhost:8080/",
     "height": 68
    },
    "colab_type": "code",
    "id": "-W0uKhAMgGSz",
    "outputId": "00f178fb-6f4b-479b-ef15-8411c6df4010"
   },
   "outputs": [
    {
     "name": "stdout",
     "output_type": "stream",
     "text": [
      "(1031136, 3)\n",
      "(383842, 3)\n",
      "(647294, 3)\n"
     ]
    }
   ],
   "source": [
    "#checking shapes\n",
    "print(ratings_new.shape)\n",
    "print(ratings_explicit.shape)\n",
    "print(ratings_implicit.shape)"
   ]
  },
  {
   "cell_type": "code",
   "execution_count": 51,
   "metadata": {
    "colab": {
     "base_uri": "https://localhost:8080/",
     "height": 361
    },
    "colab_type": "code",
    "id": "fml1yIcpgGS1",
    "outputId": "75277083-26e2-44f1-a91d-b6ed384ebd1d",
    "scrolled": true
   },
   "outputs": [
    {
     "data": {
      "image/png": "[encoded data removed]",
      "text/plain": [
       "<Figure size 432x288 with 1 Axes>"
      ]
     },
     "metadata": {},
     "output_type": "display_data"
    }
   ],
   "source": [
    "#plotting count of bookRating\n",
    "sns.countplot(data=ratings_explicit , x='bookRating')\n",
    "plt.show()\n",
    "#It can be seen that higher ratings are more common amongst users and rating 8 has been rated highest number of times"
   ]
  },
  {
   "cell_type": "markdown",
   "metadata": {
    "colab_type": "text",
    "id": "d5zoPYs3gGS2"
   },
   "source": [
    "**Simple Popularity Based Recommendation System**"
   ]
  },
  {
   "cell_type": "code",
   "execution_count": 52,
   "metadata": {
    "colab": {
     "base_uri": "https://localhost:8080/",
     "height": 461
    },
    "colab_type": "code",
    "id": "KwlZ1jGagGS3",
    "outputId": "9b8bb3e7-5d46-43f0-9ed8-153477521a26",
    "scrolled": true
   },
   "outputs": [
    {
     "name": "stdout",
     "output_type": "stream",
     "text": [
      "Following books are recommended\n"
     ]
    },
    {
     "data": {
      "text/html": [
       "<div>\n",
       "<style scoped>\n",
       "    .dataframe tbody tr th:only-of-type {\n",
       "        vertical-align: middle;\n",
       "    }\n",
       "\n",
       "    .dataframe tbody tr th {\n",
       "        vertical-align: top;\n",
       "    }\n",
       "\n",
       "    .dataframe thead th {\n",
       "        text-align: right;\n",
       "    }\n",
       "</style>\n",
       "<table border=\"1\" class=\"dataframe\">\n",
       "  <thead>\n",
       "    <tr style=\"text-align: right;\">\n",
       "      <th></th>\n",
       "      <th>bookRating</th>\n",
       "      <th>ISBN</th>\n",
       "      <th>bookTitle</th>\n",
       "      <th>bookAuthor</th>\n",
       "      <th>yearOfPublication</th>\n",
       "      <th>publisher</th>\n",
       "    </tr>\n",
       "  </thead>\n",
       "  <tbody>\n",
       "    <tr>\n",
       "      <th>408</th>\n",
       "      <td>5787</td>\n",
       "      <td>0316666343</td>\n",
       "      <td>The Lovely Bones: A Novel</td>\n",
       "      <td>Alice Sebold</td>\n",
       "      <td>2002</td>\n",
       "      <td>Little, Brown</td>\n",
       "    </tr>\n",
       "    <tr>\n",
       "      <th>748</th>\n",
       "      <td>4108</td>\n",
       "      <td>0385504209</td>\n",
       "      <td>The Da Vinci Code</td>\n",
       "      <td>Dan Brown</td>\n",
       "      <td>2003</td>\n",
       "      <td>Doubleday</td>\n",
       "    </tr>\n",
       "    <tr>\n",
       "      <th>522</th>\n",
       "      <td>3134</td>\n",
       "      <td>0312195516</td>\n",
       "      <td>The Red Tent (Bestselling Backlist)</td>\n",
       "      <td>Anita Diamant</td>\n",
       "      <td>1998</td>\n",
       "      <td>Picador USA</td>\n",
       "    </tr>\n",
       "    <tr>\n",
       "      <th>2143</th>\n",
       "      <td>2798</td>\n",
       "      <td>059035342X</td>\n",
       "      <td>Harry Potter and the Sorcerer's Stone (Harry Potter (Paperback))</td>\n",
       "      <td>J. K. Rowling</td>\n",
       "      <td>1999</td>\n",
       "      <td>Arthur A. Levine Books</td>\n",
       "    </tr>\n",
       "    <tr>\n",
       "      <th>356</th>\n",
       "      <td>2595</td>\n",
       "      <td>0142001740</td>\n",
       "      <td>The Secret Life of Bees</td>\n",
       "      <td>Sue Monk Kidd</td>\n",
       "      <td>2003</td>\n",
       "      <td>Penguin Books</td>\n",
       "    </tr>\n",
       "    <tr>\n",
       "      <th>26</th>\n",
       "      <td>2551</td>\n",
       "      <td>0971880107</td>\n",
       "      <td>Wild Animus</td>\n",
       "      <td>Rich Shapero</td>\n",
       "      <td>2004</td>\n",
       "      <td>Too Far</td>\n",
       "    </tr>\n",
       "    <tr>\n",
       "      <th>1105</th>\n",
       "      <td>2524</td>\n",
       "      <td>0060928336</td>\n",
       "      <td>Divine Secrets of the Ya-Ya Sisterhood: A Novel</td>\n",
       "      <td>Rebecca Wells</td>\n",
       "      <td>1997</td>\n",
       "      <td>Perennial</td>\n",
       "    </tr>\n",
       "    <tr>\n",
       "      <th>706</th>\n",
       "      <td>2402</td>\n",
       "      <td>0446672211</td>\n",
       "      <td>Where the Heart Is (Oprah's Book Club (Paperback))</td>\n",
       "      <td>Billie Letts</td>\n",
       "      <td>1998</td>\n",
       "      <td>Warner Books</td>\n",
       "    </tr>\n",
       "    <tr>\n",
       "      <th>231</th>\n",
       "      <td>2219</td>\n",
       "      <td>0452282152</td>\n",
       "      <td>Girl with a Pearl Earring</td>\n",
       "      <td>Tracy Chevalier</td>\n",
       "      <td>2001</td>\n",
       "      <td>Plume Books</td>\n",
       "    </tr>\n",
       "    <tr>\n",
       "      <th>118</th>\n",
       "      <td>2179</td>\n",
       "      <td>0671027360</td>\n",
       "      <td>Angels &amp;amp; Demons</td>\n",
       "      <td>Dan Brown</td>\n",
       "      <td>2001</td>\n",
       "      <td>Pocket Star</td>\n",
       "    </tr>\n",
       "  </tbody>\n",
       "</table>\n",
       "</div>"
      ],
      "text/plain": [
       "      bookRating        ISBN  \\\n",
       "408   5787        0316666343   \n",
       "748   4108        0385504209   \n",
       "522   3134        0312195516   \n",
       "2143  2798        059035342X   \n",
       "356   2595        0142001740   \n",
       "26    2551        0971880107   \n",
       "1105  2524        0060928336   \n",
       "706   2402        0446672211   \n",
       "231   2219        0452282152   \n",
       "118   2179        0671027360   \n",
       "\n",
       "                                                             bookTitle  \\\n",
       "408   The Lovely Bones: A Novel                                          \n",
       "748   The Da Vinci Code                                                  \n",
       "522   The Red Tent (Bestselling Backlist)                                \n",
       "2143  Harry Potter and the Sorcerer's Stone (Harry Potter (Paperback))   \n",
       "356   The Secret Life of Bees                                            \n",
       "26    Wild Animus                                                        \n",
       "1105  Divine Secrets of the Ya-Ya Sisterhood: A Novel                    \n",
       "706   Where the Heart Is (Oprah's Book Club (Paperback))                 \n",
       "231   Girl with a Pearl Earring                                          \n",
       "118   Angels &amp; Demons                                                \n",
       "\n",
       "           bookAuthor  yearOfPublication               publisher  \n",
       "408   Alice Sebold     2002               Little, Brown           \n",
       "748   Dan Brown        2003               Doubleday               \n",
       "522   Anita Diamant    1998               Picador USA             \n",
       "2143  J. K. Rowling    1999               Arthur A. Levine Books  \n",
       "356   Sue Monk Kidd    2003               Penguin Books           \n",
       "26    Rich Shapero     2004               Too Far                 \n",
       "1105  Rebecca Wells    1997               Perennial               \n",
       "706   Billie Letts     1998               Warner Books            \n",
       "231   Tracy Chevalier  2001               Plume Books             \n",
       "118   Dan Brown        2001               Pocket Star             "
      ]
     },
     "execution_count": 52,
     "metadata": {},
     "output_type": "execute_result"
    }
   ],
   "source": [
    "#At this point , a simple popularity based recommendation system can be built based on count of user ratings for different books\n",
    "ratings_count = pd.DataFrame(ratings_explicit.groupby(['ISBN'])['bookRating'].sum())\n",
    "top10 = ratings_count.sort_values('bookRating', ascending = False).head(10)\n",
    "print(\"Following books are recommended\")\n",
    "top10.merge(books, left_index = True, right_on = 'ISBN')\n",
    "\n",
    "#Given below are top 10 recommendations based on popularity. It is evident that books authored by J.K. Rowling are most popular"
   ]
  },
  {
   "cell_type": "code",
   "execution_count": 53,
   "metadata": {
    "colab": {},
    "colab_type": "code",
    "id": "_3WixYJWgGS5"
   },
   "outputs": [],
   "source": [
    "#Similarly segregating users who have given explicit ratings from 1-10 and those whose implicit behavior was tracked\n",
    "users_exp_ratings = users[users.userID.isin(ratings_explicit.userID)]\n",
    "users_imp_ratings = users[users.userID.isin(ratings_implicit.userID)]"
   ]
  },
  {
   "cell_type": "code",
   "execution_count": 54,
   "metadata": {
    "colab": {
     "base_uri": "https://localhost:8080/",
     "height": 68
    },
    "colab_type": "code",
    "id": "bSNV-HmPgGS8",
    "outputId": "fedf65d5-387b-4d74-a09d-96294f398043"
   },
   "outputs": [
    {
     "name": "stdout",
     "output_type": "stream",
     "text": [
      "(278858, 3)\n",
      "(68091, 3)\n",
      "(52451, 3)\n"
     ]
    }
   ],
   "source": [
    "#checking shapes\n",
    "print(users.shape)\n",
    "print(users_exp_ratings.shape)\n",
    "print(users_imp_ratings.shape)"
   ]
  },
  {
   "cell_type": "markdown",
   "metadata": {
    "colab_type": "text",
    "id": "4vOZJ2PDgGS-"
   },
   "source": [
    "**Collaborative Filtering Based Recommendation Systems**\n",
    "\n",
    "To cope up with computing power I have and to reduce the dataset size, I am considering users who have rated atleast 100 books and books which have atleast 100 ratings"
   ]
  },
  {
   "cell_type": "code",
   "execution_count": 55,
   "metadata": {
    "colab": {},
    "colab_type": "code",
    "id": "S786wxDhgGTA"
   },
   "outputs": [],
   "source": [
    "counts1 = ratings_explicit['userID'].value_counts()\n",
    "ratings_explicit = ratings_explicit[ratings_explicit['userID'].isin(counts1[counts1 >= 100].index)]\n",
    "counts = ratings_explicit['bookRating'].value_counts()\n",
    "ratings_explicit = ratings_explicit[ratings_explicit['bookRating'].isin(counts[counts >= 100].index)]"
   ]
  },
  {
   "cell_type": "markdown",
   "metadata": {},
   "source": [
    "Generating ratings matrix from explicit ratings table"
   ]
  },
  {
   "cell_type": "code",
   "execution_count": 56,
   "metadata": {
    "colab": {
     "base_uri": "https://localhost:8080/",
     "height": 301
    },
    "colab_type": "code",
    "id": "0NECeSixgGTC",
    "outputId": "cf2f20f4-b7ae-4412-a25a-c3548290f199"
   },
   "outputs": [
    {
     "name": "stdout",
     "output_type": "stream",
     "text": [
      "(449, 66574)\n"
     ]
    },
    {
     "data": {
      "text/html": [
       "<div>\n",
       "<style scoped>\n",
       "    .dataframe tbody tr th:only-of-type {\n",
       "        vertical-align: middle;\n",
       "    }\n",
       "\n",
       "    .dataframe tbody tr th {\n",
       "        vertical-align: top;\n",
       "    }\n",
       "\n",
       "    .dataframe thead th {\n",
       "        text-align: right;\n",
       "    }\n",
       "</style>\n",
       "<table border=\"1\" class=\"dataframe\">\n",
       "  <thead>\n",
       "    <tr style=\"text-align: right;\">\n",
       "      <th>ISBN</th>\n",
       "      <th>0000913154</th>\n",
       "      <th>0001046438</th>\n",
       "      <th>000104687X</th>\n",
       "      <th>0001047213</th>\n",
       "      <th>0001047973</th>\n",
       "      <th>000104799X</th>\n",
       "      <th>0001048082</th>\n",
       "      <th>0001053736</th>\n",
       "      <th>0001053744</th>\n",
       "      <th>0001055607</th>\n",
       "      <th>...</th>\n",
       "      <th>B000092Q0A</th>\n",
       "      <th>B00009EF82</th>\n",
       "      <th>B00009NDAN</th>\n",
       "      <th>B0000DYXID</th>\n",
       "      <th>B0000T6KHI</th>\n",
       "      <th>B0000VZEJQ</th>\n",
       "      <th>B0000X8HIE</th>\n",
       "      <th>B00013AX9E</th>\n",
       "      <th>B0001I1KOG</th>\n",
       "      <th>B000234N3A</th>\n",
       "    </tr>\n",
       "    <tr>\n",
       "      <th>userID</th>\n",
       "      <th></th>\n",
       "      <th></th>\n",
       "      <th></th>\n",
       "      <th></th>\n",
       "      <th></th>\n",
       "      <th></th>\n",
       "      <th></th>\n",
       "      <th></th>\n",
       "      <th></th>\n",
       "      <th></th>\n",
       "      <th></th>\n",
       "      <th></th>\n",
       "      <th></th>\n",
       "      <th></th>\n",
       "      <th></th>\n",
       "      <th></th>\n",
       "      <th></th>\n",
       "      <th></th>\n",
       "      <th></th>\n",
       "      <th></th>\n",
       "      <th></th>\n",
       "    </tr>\n",
       "  </thead>\n",
       "  <tbody>\n",
       "    <tr>\n",
       "      <th>2033</th>\n",
       "      <td>NaN</td>\n",
       "      <td>NaN</td>\n",
       "      <td>NaN</td>\n",
       "      <td>NaN</td>\n",
       "      <td>NaN</td>\n",
       "      <td>NaN</td>\n",
       "      <td>NaN</td>\n",
       "      <td>NaN</td>\n",
       "      <td>NaN</td>\n",
       "      <td>NaN</td>\n",
       "      <td>...</td>\n",
       "      <td>NaN</td>\n",
       "      <td>NaN</td>\n",
       "      <td>NaN</td>\n",
       "      <td>NaN</td>\n",
       "      <td>NaN</td>\n",
       "      <td>NaN</td>\n",
       "      <td>NaN</td>\n",
       "      <td>NaN</td>\n",
       "      <td>NaN</td>\n",
       "      <td>NaN</td>\n",
       "    </tr>\n",
       "    <tr>\n",
       "      <th>2110</th>\n",
       "      <td>NaN</td>\n",
       "      <td>NaN</td>\n",
       "      <td>NaN</td>\n",
       "      <td>NaN</td>\n",
       "      <td>NaN</td>\n",
       "      <td>NaN</td>\n",
       "      <td>NaN</td>\n",
       "      <td>NaN</td>\n",
       "      <td>NaN</td>\n",
       "      <td>NaN</td>\n",
       "      <td>...</td>\n",
       "      <td>NaN</td>\n",
       "      <td>NaN</td>\n",
       "      <td>NaN</td>\n",
       "      <td>NaN</td>\n",
       "      <td>NaN</td>\n",
       "      <td>NaN</td>\n",
       "      <td>NaN</td>\n",
       "      <td>NaN</td>\n",
       "      <td>NaN</td>\n",
       "      <td>NaN</td>\n",
       "    </tr>\n",
       "    <tr>\n",
       "      <th>2276</th>\n",
       "      <td>NaN</td>\n",
       "      <td>NaN</td>\n",
       "      <td>NaN</td>\n",
       "      <td>NaN</td>\n",
       "      <td>NaN</td>\n",
       "      <td>NaN</td>\n",
       "      <td>NaN</td>\n",
       "      <td>NaN</td>\n",
       "      <td>NaN</td>\n",
       "      <td>NaN</td>\n",
       "      <td>...</td>\n",
       "      <td>NaN</td>\n",
       "      <td>NaN</td>\n",
       "      <td>NaN</td>\n",
       "      <td>NaN</td>\n",
       "      <td>NaN</td>\n",
       "      <td>NaN</td>\n",
       "      <td>NaN</td>\n",
       "      <td>NaN</td>\n",
       "      <td>NaN</td>\n",
       "      <td>NaN</td>\n",
       "    </tr>\n",
       "    <tr>\n",
       "      <th>4017</th>\n",
       "      <td>NaN</td>\n",
       "      <td>NaN</td>\n",
       "      <td>NaN</td>\n",
       "      <td>NaN</td>\n",
       "      <td>NaN</td>\n",
       "      <td>NaN</td>\n",
       "      <td>NaN</td>\n",
       "      <td>NaN</td>\n",
       "      <td>NaN</td>\n",
       "      <td>NaN</td>\n",
       "      <td>...</td>\n",
       "      <td>NaN</td>\n",
       "      <td>NaN</td>\n",
       "      <td>NaN</td>\n",
       "      <td>NaN</td>\n",
       "      <td>NaN</td>\n",
       "      <td>NaN</td>\n",
       "      <td>NaN</td>\n",
       "      <td>NaN</td>\n",
       "      <td>NaN</td>\n",
       "      <td>NaN</td>\n",
       "    </tr>\n",
       "    <tr>\n",
       "      <th>4385</th>\n",
       "      <td>NaN</td>\n",
       "      <td>NaN</td>\n",
       "      <td>NaN</td>\n",
       "      <td>NaN</td>\n",
       "      <td>NaN</td>\n",
       "      <td>NaN</td>\n",
       "      <td>NaN</td>\n",
       "      <td>NaN</td>\n",
       "      <td>NaN</td>\n",
       "      <td>NaN</td>\n",
       "      <td>...</td>\n",
       "      <td>NaN</td>\n",
       "      <td>NaN</td>\n",
       "      <td>NaN</td>\n",
       "      <td>NaN</td>\n",
       "      <td>NaN</td>\n",
       "      <td>NaN</td>\n",
       "      <td>NaN</td>\n",
       "      <td>NaN</td>\n",
       "      <td>NaN</td>\n",
       "      <td>NaN</td>\n",
       "    </tr>\n",
       "  </tbody>\n",
       "</table>\n",
       "<p>5 rows × 66574 columns</p>\n",
       "</div>"
      ],
      "text/plain": [
       "ISBN    0000913154  0001046438  000104687X  0001047213  0001047973  \\\n",
       "userID                                                               \n",
       "2033   NaN         NaN         NaN         NaN         NaN           \n",
       "2110   NaN         NaN         NaN         NaN         NaN           \n",
       "2276   NaN         NaN         NaN         NaN         NaN           \n",
       "4017   NaN         NaN         NaN         NaN         NaN           \n",
       "4385   NaN         NaN         NaN         NaN         NaN           \n",
       "\n",
       "ISBN    000104799X  0001048082  0001053736  0001053744  0001055607  \\\n",
       "userID                                                               \n",
       "2033   NaN         NaN         NaN         NaN         NaN           \n",
       "2110   NaN         NaN         NaN         NaN         NaN           \n",
       "2276   NaN         NaN         NaN         NaN         NaN           \n",
       "4017   NaN         NaN         NaN         NaN         NaN           \n",
       "4385   NaN         NaN         NaN         NaN         NaN           \n",
       "\n",
       "ISBN       ...      B000092Q0A  B00009EF82  B00009NDAN  B0000DYXID  \\\n",
       "userID     ...                                                       \n",
       "2033       ...     NaN         NaN         NaN         NaN           \n",
       "2110       ...     NaN         NaN         NaN         NaN           \n",
       "2276       ...     NaN         NaN         NaN         NaN           \n",
       "4017       ...     NaN         NaN         NaN         NaN           \n",
       "4385       ...     NaN         NaN         NaN         NaN           \n",
       "\n",
       "ISBN    B0000T6KHI  B0000VZEJQ  B0000X8HIE  B00013AX9E  B0001I1KOG  B000234N3A  \n",
       "userID                                                                          \n",
       "2033   NaN         NaN         NaN         NaN         NaN         NaN          \n",
       "2110   NaN         NaN         NaN         NaN         NaN         NaN          \n",
       "2276   NaN         NaN         NaN         NaN         NaN         NaN          \n",
       "4017   NaN         NaN         NaN         NaN         NaN         NaN          \n",
       "4385   NaN         NaN         NaN         NaN         NaN         NaN          \n",
       "\n",
       "[5 rows x 66574 columns]"
      ]
     },
     "execution_count": 56,
     "metadata": {},
     "output_type": "execute_result"
    }
   ],
   "source": [
    "ratings_matrix = ratings_explicit.pivot(index='userID', columns='ISBN', values='bookRating')\n",
    "userID = ratings_matrix.index\n",
    "ISBN = ratings_matrix.columns\n",
    "print(ratings_matrix.shape)\n",
    "ratings_matrix.head()\n",
    "#Notice that most of the values are NaN (undefined) implying absence of ratings"
   ]
  },
  {
   "cell_type": "code",
   "execution_count": 57,
   "metadata": {
    "colab": {
     "base_uri": "https://localhost:8080/",
     "height": 34
    },
    "colab_type": "code",
    "id": "T60k1ETygGTG",
    "outputId": "d2b5918c-d5b3-47a7-83f7-8c548ce0537a"
   },
   "outputs": [
    {
     "name": "stdout",
     "output_type": "stream",
     "text": [
      "449 66574\n"
     ]
    }
   ],
   "source": [
    "n_users = ratings_matrix.shape[0] #considering only those users who gave explicit ratings\n",
    "n_books = ratings_matrix.shape[1]\n",
    "print(n_users, n_books)"
   ]
  },
  {
   "cell_type": "code",
   "execution_count": 58,
   "metadata": {
    "colab": {},
    "colab_type": "code",
    "id": "sAhuwGv2gGTJ"
   },
   "outputs": [],
   "source": [
    "#since NaNs cannot be handled by training algorithms, replacing these by 0, which indicates absence of ratings\n",
    "#setting data type\n",
    "ratings_matrix.fillna(0, inplace = True)\n",
    "ratings_matrix = ratings_matrix.astype(np.int32)"
   ]
  },
  {
   "cell_type": "code",
   "execution_count": 59,
   "metadata": {
    "colab": {
     "base_uri": "https://localhost:8080/",
     "height": 284
    },
    "colab_type": "code",
    "id": "8WGlbEuQgGTN",
    "outputId": "8209e8a7-6cb0-43fc-c1ac-7ad0c5a6db98"
   },
   "outputs": [
    {
     "data": {
      "text/html": [
       "<div>\n",
       "<style scoped>\n",
       "    .dataframe tbody tr th:only-of-type {\n",
       "        vertical-align: middle;\n",
       "    }\n",
       "\n",
       "    .dataframe tbody tr th {\n",
       "        vertical-align: top;\n",
       "    }\n",
       "\n",
       "    .dataframe thead th {\n",
       "        text-align: right;\n",
       "    }\n",
       "</style>\n",
       "<table border=\"1\" class=\"dataframe\">\n",
       "  <thead>\n",
       "    <tr style=\"text-align: right;\">\n",
       "      <th>ISBN</th>\n",
       "      <th>0000913154</th>\n",
       "      <th>0001046438</th>\n",
       "      <th>000104687X</th>\n",
       "      <th>0001047213</th>\n",
       "      <th>0001047973</th>\n",
       "      <th>000104799X</th>\n",
       "      <th>0001048082</th>\n",
       "      <th>0001053736</th>\n",
       "      <th>0001053744</th>\n",
       "      <th>0001055607</th>\n",
       "      <th>...</th>\n",
       "      <th>B000092Q0A</th>\n",
       "      <th>B00009EF82</th>\n",
       "      <th>B00009NDAN</th>\n",
       "      <th>B0000DYXID</th>\n",
       "      <th>B0000T6KHI</th>\n",
       "      <th>B0000VZEJQ</th>\n",
       "      <th>B0000X8HIE</th>\n",
       "      <th>B00013AX9E</th>\n",
       "      <th>B0001I1KOG</th>\n",
       "      <th>B000234N3A</th>\n",
       "    </tr>\n",
       "    <tr>\n",
       "      <th>userID</th>\n",
       "      <th></th>\n",
       "      <th></th>\n",
       "      <th></th>\n",
       "      <th></th>\n",
       "      <th></th>\n",
       "      <th></th>\n",
       "      <th></th>\n",
       "      <th></th>\n",
       "      <th></th>\n",
       "      <th></th>\n",
       "      <th></th>\n",
       "      <th></th>\n",
       "      <th></th>\n",
       "      <th></th>\n",
       "      <th></th>\n",
       "      <th></th>\n",
       "      <th></th>\n",
       "      <th></th>\n",
       "      <th></th>\n",
       "      <th></th>\n",
       "      <th></th>\n",
       "    </tr>\n",
       "  </thead>\n",
       "  <tbody>\n",
       "    <tr>\n",
       "      <th>2033</th>\n",
       "      <td>0</td>\n",
       "      <td>0</td>\n",
       "      <td>0</td>\n",
       "      <td>0</td>\n",
       "      <td>0</td>\n",
       "      <td>0</td>\n",
       "      <td>0</td>\n",
       "      <td>0</td>\n",
       "      <td>0</td>\n",
       "      <td>0</td>\n",
       "      <td>...</td>\n",
       "      <td>0</td>\n",
       "      <td>0</td>\n",
       "      <td>0</td>\n",
       "      <td>0</td>\n",
       "      <td>0</td>\n",
       "      <td>0</td>\n",
       "      <td>0</td>\n",
       "      <td>0</td>\n",
       "      <td>0</td>\n",
       "      <td>0</td>\n",
       "    </tr>\n",
       "    <tr>\n",
       "      <th>2110</th>\n",
       "      <td>0</td>\n",
       "      <td>0</td>\n",
       "      <td>0</td>\n",
       "      <td>0</td>\n",
       "      <td>0</td>\n",
       "      <td>0</td>\n",
       "      <td>0</td>\n",
       "      <td>0</td>\n",
       "      <td>0</td>\n",
       "      <td>0</td>\n",
       "      <td>...</td>\n",
       "      <td>0</td>\n",
       "      <td>0</td>\n",
       "      <td>0</td>\n",
       "      <td>0</td>\n",
       "      <td>0</td>\n",
       "      <td>0</td>\n",
       "      <td>0</td>\n",
       "      <td>0</td>\n",
       "      <td>0</td>\n",
       "      <td>0</td>\n",
       "    </tr>\n",
       "    <tr>\n",
       "      <th>2276</th>\n",
       "      <td>0</td>\n",
       "      <td>0</td>\n",
       "      <td>0</td>\n",
       "      <td>0</td>\n",
       "      <td>0</td>\n",
       "      <td>0</td>\n",
       "      <td>0</td>\n",
       "      <td>0</td>\n",
       "      <td>0</td>\n",
       "      <td>0</td>\n",
       "      <td>...</td>\n",
       "      <td>0</td>\n",
       "      <td>0</td>\n",
       "      <td>0</td>\n",
       "      <td>0</td>\n",
       "      <td>0</td>\n",
       "      <td>0</td>\n",
       "      <td>0</td>\n",
       "      <td>0</td>\n",
       "      <td>0</td>\n",
       "      <td>0</td>\n",
       "    </tr>\n",
       "    <tr>\n",
       "      <th>4017</th>\n",
       "      <td>0</td>\n",
       "      <td>0</td>\n",
       "      <td>0</td>\n",
       "      <td>0</td>\n",
       "      <td>0</td>\n",
       "      <td>0</td>\n",
       "      <td>0</td>\n",
       "      <td>0</td>\n",
       "      <td>0</td>\n",
       "      <td>0</td>\n",
       "      <td>...</td>\n",
       "      <td>0</td>\n",
       "      <td>0</td>\n",
       "      <td>0</td>\n",
       "      <td>0</td>\n",
       "      <td>0</td>\n",
       "      <td>0</td>\n",
       "      <td>0</td>\n",
       "      <td>0</td>\n",
       "      <td>0</td>\n",
       "      <td>0</td>\n",
       "    </tr>\n",
       "    <tr>\n",
       "      <th>4385</th>\n",
       "      <td>0</td>\n",
       "      <td>0</td>\n",
       "      <td>0</td>\n",
       "      <td>0</td>\n",
       "      <td>0</td>\n",
       "      <td>0</td>\n",
       "      <td>0</td>\n",
       "      <td>0</td>\n",
       "      <td>0</td>\n",
       "      <td>0</td>\n",
       "      <td>...</td>\n",
       "      <td>0</td>\n",
       "      <td>0</td>\n",
       "      <td>0</td>\n",
       "      <td>0</td>\n",
       "      <td>0</td>\n",
       "      <td>0</td>\n",
       "      <td>0</td>\n",
       "      <td>0</td>\n",
       "      <td>0</td>\n",
       "      <td>0</td>\n",
       "    </tr>\n",
       "  </tbody>\n",
       "</table>\n",
       "<p>5 rows × 66574 columns</p>\n",
       "</div>"
      ],
      "text/plain": [
       "ISBN    0000913154  0001046438  000104687X  0001047213  0001047973  \\\n",
       "userID                                                               \n",
       "2033    0           0           0           0           0            \n",
       "2110    0           0           0           0           0            \n",
       "2276    0           0           0           0           0            \n",
       "4017    0           0           0           0           0            \n",
       "4385    0           0           0           0           0            \n",
       "\n",
       "ISBN    000104799X  0001048082  0001053736  0001053744  0001055607  \\\n",
       "userID                                                               \n",
       "2033    0           0           0           0           0            \n",
       "2110    0           0           0           0           0            \n",
       "2276    0           0           0           0           0            \n",
       "4017    0           0           0           0           0            \n",
       "4385    0           0           0           0           0            \n",
       "\n",
       "ISBN       ...      B000092Q0A  B00009EF82  B00009NDAN  B0000DYXID  \\\n",
       "userID     ...                                                       \n",
       "2033       ...      0           0           0           0            \n",
       "2110       ...      0           0           0           0            \n",
       "2276       ...      0           0           0           0            \n",
       "4017       ...      0           0           0           0            \n",
       "4385       ...      0           0           0           0            \n",
       "\n",
       "ISBN    B0000T6KHI  B0000VZEJQ  B0000X8HIE  B00013AX9E  B0001I1KOG  B000234N3A  \n",
       "userID                                                                          \n",
       "2033    0           0           0           0           0           0           \n",
       "2110    0           0           0           0           0           0           \n",
       "2276    0           0           0           0           0           0           \n",
       "4017    0           0           0           0           0           0           \n",
       "4385    0           0           0           0           0           0           \n",
       "\n",
       "[5 rows x 66574 columns]"
      ]
     },
     "execution_count": 59,
     "metadata": {},
     "output_type": "execute_result"
    }
   ],
   "source": [
    "#checking first few rows\n",
    "ratings_matrix.head(5)"
   ]
  },
  {
   "cell_type": "code",
   "execution_count": 60,
   "metadata": {
    "colab": {
     "base_uri": "https://localhost:8080/",
     "height": 34
    },
    "colab_type": "code",
    "id": "qK-8eQ5ogGTP",
    "outputId": "4ba3f1c1-a89f-45ce-a595-78d615801b18"
   },
   "outputs": [
    {
     "name": "stdout",
     "output_type": "stream",
     "text": [
      "The sparsity level of Book Crossing dataset is 99.99772184106935 %\n"
     ]
    }
   ],
   "source": [
    "#rechecking the sparsity\n",
    "sparsity=1.0-len(ratings_explicit)/float(users_exp_ratings.shape[0]*n_books)\n",
    "print('The sparsity level of Book Crossing dataset is ' +  str(sparsity*100) + ' %')"
   ]
  },
  {
   "cell_type": "markdown",
   "metadata": {
    "colab_type": "text",
    "id": "T4RWpcrKgGTS"
   },
   "source": [
    "**Training our recommendation system**"
   ]
  },
  {
   "cell_type": "markdown",
   "metadata": {
    "colab_type": "text",
    "id": "-XSxY6MSgGTV"
   },
   "source": [
    "**User-based Recommendation System**"
   ]
  },
  {
   "cell_type": "code",
   "execution_count": 65,
   "metadata": {
    "colab": {},
    "colab_type": "code",
    "id": "VQpCg8gZgGTV"
   },
   "outputs": [],
   "source": [
    "def findksimilarusers(user_id, ratings, metric = 'cosine', k=10):\n",
    "    similarities=[]\n",
    "    indices=[]\n",
    "    model_knn = NearestNeighbors(metric = metric, algorithm = 'brute') \n",
    "    model_knn.fit(ratings)\n",
    "    loc = ratings.index.get_loc(user_id)\n",
    "    distances, indices = model_knn.kneighbors(ratings.iloc[loc, :].values.reshape(1, -1), n_neighbors = k+1)\n",
    "    similarities = 1-distances.flatten()\n",
    "            \n",
    "    return similarities,indices"
   ]
  },
  {
   "cell_type": "markdown",
   "metadata": {},
   "source": [
    "This function finds k similar users given the user_id and ratings matrix.\n",
    "These similarities are same as obtained via using pairwise_distances"
   ]
  },
  {
   "cell_type": "code",
   "execution_count": 68,
   "metadata": {
    "colab": {},
    "colab_type": "code",
    "id": "fKZe0ogygGTW"
   },
   "outputs": [],
   "source": [
    "def predict_userbased(user_id, item_id, ratings, metric = metric, k=10,wt=1):\n",
    "    prediction=0\n",
    "    user_loc = ratings.index.get_loc(user_id)\n",
    "    item_loc = ratings.columns.get_loc(item_id)\n",
    "    similarities, indices=findksimilarusers(user_id, ratings,metric, k,wt) #similar users based on cosine similarity\n",
    "    mean_rating = ratings.iloc[user_loc,:].mean() #to adjust for zero based indexing\n",
    "    sum_wt = np.sum(similarities)-1\n",
    "    product=1\n",
    "    wtd_sum = 0 \n",
    "    \n",
    "    for i in range(0, len(indices.flatten())):\n",
    "        if indices.flatten()[i] == user_loc:\n",
    "            continue;\n",
    "        else: \n",
    "            ratings_diff = ratings.iloc[indices.flatten()[i],item_loc]-np.mean(ratings.iloc[indices.flatten()[i],:])\n",
    "            product = ratings_diff * (similarities[i])\n",
    "            wtd_sum = wtd_sum + product\n",
    "    \n",
    "    #in case of very sparse datasets, using correlation metric for collaborative based approach may give negative ratings\n",
    "    #which are handled here as below\n",
    "    if prediction <= 0:\n",
    "        prediction = 1   \n",
    "    elif prediction >10:\n",
    "        prediction = 10\n",
    "    \n",
    "    prediction = int(round(mean_rating + (wtd_sum/sum_wt)))\n",
    "#     print('\\nPredicted rating for user {0} -> item {1}: {2}'.format(user_id,item_id,prediction))\n",
    "\n",
    "    return prediction"
   ]
  },
  {
   "cell_type": "markdown",
   "metadata": {},
   "source": [
    "This function predicts rating for specified user-item combination based on user-based approach"
   ]
  },
  {
   "cell_type": "code",
   "execution_count": 69,
   "metadata": {
    "colab": {},
    "colab_type": "code",
    "id": "cYKAaCozgGTY"
   },
   "outputs": [],
   "source": [
    "predict_userbased(11676,'0001056107',ratings_matrix);"
   ]
  },
  {
   "cell_type": "markdown",
   "metadata": {
    "colab_type": "text",
    "id": "OLNpv-HmgGTZ"
   },
   "source": [
    "**Item-based Recommendation Systems**"
   ]
  },
  {
   "cell_type": "code",
   "execution_count": 70,
   "metadata": {
    "colab": {},
    "colab_type": "code",
    "id": "7BgsQi2egGTZ"
   },
   "outputs": [],
   "source": [
    "#This function finds k similar items given the item_id and ratings matrix\n",
    "\n",
    "def findksimilaritems(item_id, ratings, metric='cosine', k=k):\n",
    "    similarities=[]\n",
    "    indices=[]\n",
    "    ratings=ratings.T\n",
    "    loc = ratings.index.get_loc(item_id)\n",
    "    model_knn = NearestNeighbors(metric = metric, algorithm = 'brute')\n",
    "    model_knn.fit(ratings)\n",
    "    \n",
    "    distances, indices = model_knn.kneighbors(ratings.iloc[loc, :].values.reshape(1, -1), n_neighbors = k+1)\n",
    "    similarities = 1-distances.flatten()\n",
    "\n",
    "    return similarities,indices"
   ]
  },
  {
   "cell_type": "code",
   "execution_count": 71,
   "metadata": {
    "colab": {},
    "colab_type": "code",
    "id": "tyMxv0z4gGTc"
   },
   "outputs": [],
   "source": [
    "similarities,indices=findksimilaritems('0001056107',ratings_matrix)"
   ]
  },
  {
   "cell_type": "code",
   "execution_count": 72,
   "metadata": {
    "colab": {},
    "colab_type": "code",
    "id": "R85gNr8mgGTe"
   },
   "outputs": [],
   "source": [
    "#This function predicts the rating for specified user-item combination based on item-based approach\n",
    "def predict_itembased(user_id, item_id, ratings, metric = metric, k=k):\n",
    "    prediction= wtd_sum =0\n",
    "    user_loc = ratings.index.get_loc(user_id)\n",
    "    item_loc = ratings.columns.get_loc(item_id)\n",
    "    similarities, indices=findksimilaritems(item_id, ratings) #similar users based on correlation coefficients\n",
    "    sum_wt = np.sum(similarities)-1\n",
    "    product=1\n",
    "    for i in range(0, len(indices.flatten())):\n",
    "        if indices.flatten()[i] == item_loc:\n",
    "            continue;\n",
    "        else:\n",
    "            product = ratings.iloc[user_loc,indices.flatten()[i]] * (similarities[i])\n",
    "            wtd_sum = wtd_sum + product                              \n",
    "    prediction = int(round(wtd_sum/sum_wt))\n",
    "    \n",
    "    #in case of very sparse datasets, using correlation metric for collaborative based approach may give negative ratings\n",
    "    #which are handled here as below //code has been validated without the code snippet below, below snippet is to avoid negative\n",
    "    #predictions which might arise in case of very sparse datasets when using correlation metric\n",
    "    if prediction <= 0:\n",
    "        prediction = 1   \n",
    "    elif prediction >10:\n",
    "        prediction = 10\n",
    "\n",
    "#     print('\\nPredicted rating for user {0} -> item {1}: {2}'.format(user_id,item_id,prediction))      \n",
    "    \n",
    "    return prediction"
   ]
  },
  {
   "cell_type": "code",
   "execution_count": 73,
   "metadata": {
    "colab": {},
    "colab_type": "code",
    "id": "nXk-rg23gGTf"
   },
   "outputs": [],
   "source": [
    "prediction = predict_itembased(11676,'0001056107',ratings_matrix)"
   ]
  },
  {
   "cell_type": "code",
   "execution_count": 74,
   "metadata": {
    "colab": {},
    "colab_type": "code",
    "id": "9lqaKUhcJqSV"
   },
   "outputs": [],
   "source": [
    "def recommend_itembased(user_id, ratings, metric='cosine'):\n",
    "    if (user_id not in ratings.index.values) or type(user_id) is not int:\n",
    "        print(\"User id should be a valid integer from this list :\\n\\n {} \".format(re.sub('[\\[\\]]', '', np.array_str(ratings_matrix.index.values))))\n",
    "    else: \n",
    "        prediction = []\n",
    "        for i in range(ratings.shape[1]):\n",
    "            if (ratings[str(ratings.columns[i])][user_id] !=0): \n",
    "                prediction.append(predict_itembased(user_id, str(ratings.columns[i]) ,ratings, metric))\n",
    "            else:                    \n",
    "                prediction.append(-1) \n",
    "        prediction = pd.Series(prediction)\n",
    "        prediction = prediction.sort_values(ascending=False)\n",
    "        recommended = prediction[:10]\n",
    "        for i in range(len(recommended)):\n",
    "            print (\"{0}. {1}\".format(i+1,books.bookTitle[recommended.index[i]].encode('utf-8')))"
   ]
  },
  {
   "cell_type": "code",
   "execution_count": 75,
   "metadata": {
    "colab": {
     "base_uri": "https://localhost:8080/",
     "height": 187
    },
    "colab_type": "code",
    "id": "pS1mo7p6Jqj_",
    "outputId": "40f03949-fc14-4a55-e2bf-cfb27e149d37"
   },
   "outputs": [
    {
     "name": "stdout",
     "output_type": "stream",
     "text": [
      "1. b'My Wicked Wicked Ways'\n",
      "2. b'Fair Peril'\n",
      "3. b'Wolfpointe'\n",
      "4. b'A Nest of Ninnies'\n",
      "5. b'A Bitter Legacy'\n",
      "6. b'A Hymn Before Battle'\n",
      "7. b'Thomas the Rhymer'\n",
      "8. b'Gatherer of Clouds (Initiate Brother Duology)'\n",
      "9. b'Wege zum Ruhm: 13 Hilfestellungen f\\xc3\\x83\\xc2\\xbcr junge K\\xc3\\x83\\xc2\\xbcnstler und 1 Warnung'\n",
      "10. b\"Love In Bloom's\"\n"
     ]
    }
   ],
   "source": [
    "recommend_itembased(4385,ratings_matrix,metric='cosine')"
   ]
  },
  {
   "cell_type": "code",
   "execution_count": 76,
   "metadata": {
    "colab": {},
    "colab_type": "code",
    "id": "q7kkGd09Mnah"
   },
   "outputs": [],
   "source": [
    "def recommend_userbased(user_id, ratings, metric='cosine'):\n",
    "    if (user_id not in ratings.index.values) or type(user_id) is not int:\n",
    "        print(\"User id should be a valid integer from this list :\\n\\n {} \".format(re.sub('[\\[\\]]', '', np.array_str(ratings_matrix.index.values))))\n",
    "    else:    \n",
    "        prediction = []\n",
    "        for i in range(ratings.shape[1]):\n",
    "            if (ratings[str(ratings.columns[i])][user_id] !=0): \n",
    "                prediction.append(predict_userbased(user_id, str(ratings.columns[i]) ,ratings, metric))\n",
    "            else:                    \n",
    "                prediction.append(-1) \n",
    "        prediction = pd.Series(prediction)\n",
    "        prediction = prediction.sort_values(ascending=False)\n",
    "        recommended = prediction[:10]\n",
    "        for i in range(len(recommended)):\n",
    "            print (\"{0}. {1}\".format(i+1,books.bookTitle[recommended.index[i]].encode('utf-8')))"
   ]
  },
  {
   "cell_type": "code",
   "execution_count": 77,
   "metadata": {
    "colab": {
     "base_uri": "https://localhost:8080/",
     "height": 187
    },
    "colab_type": "code",
    "id": "ul5VYc6MMqgJ",
    "outputId": "7a5c7e5d-1da0-45f2-d1ec-6b12dda9ecfa"
   },
   "outputs": [
    {
     "name": "stdout",
     "output_type": "stream",
     "text": [
      "1. b'The Gift'\n",
      "2. b\"A Close Run Thing : A Novel of Wellington's Army of 1815\"\n",
      "3. b'Mazurka for Two Dead Men'\n",
      "4. b'The Romantic: A Novel'\n",
      "5. b'And Never Let Her Go : Thomas Capano: The Deadly Seducer'\n",
      "6. b'Outerbridge Reach'\n",
      "7. b\"The Titanic Conspiracy: Cover-Ups and Mysteries of the World's Most Famous Sea Disaster\"\n",
      "8. b'WHO NEEDS GOD'\n",
      "9. b'Chop Wood, Carry Water: A Guide to Finding Spiritual Fulfillment in Everyday Life'\n",
      "10. b'Under the Volcano'\n"
     ]
    }
   ],
   "source": [
    "recommend_userbased(4385,ratings_matrix,metric='cosine')"
   ]
  },
  {
   "cell_type": "markdown",
   "metadata": {
    "colab_type": "text",
    "id": "tk3SdgNZObUE"
   },
   "source": [
    "**RBM Implementation**"
   ]
  },
  {
   "cell_type": "code",
   "execution_count": 78,
   "metadata": {
    "colab": {},
    "colab_type": "code",
    "id": "bwVPHzjZM3wL"
   },
   "outputs": [
    {
     "name": "stderr",
     "output_type": "stream",
     "text": [
      "/anaconda3/lib/python3.6/site-packages/h5py/__init__.py:36: FutureWarning: Conversion of the second argument of issubdtype from `float` to `np.floating` is deprecated. In future, it will be treated as `np.float64 == np.dtype(float).type`.\n",
      "  from ._conv import register_converters as _register_converters\n"
     ]
    }
   ],
   "source": [
    "import tensorflow as tf\n",
    "import matplotlib.pyplot as plt\n",
    "%matplotlib inline"
   ]
  },
  {
   "cell_type": "code",
   "execution_count": 79,
   "metadata": {
    "colab": {
     "base_uri": "https://localhost:8080/",
     "height": 284
    },
    "colab_type": "code",
    "id": "MFG1k5yYTiPX",
    "outputId": "7d6d4d33-81d9-46a5-accf-28e44089a8f2"
   },
   "outputs": [
    {
     "data": {
      "text/html": [
       "<div>\n",
       "<style scoped>\n",
       "    .dataframe tbody tr th:only-of-type {\n",
       "        vertical-align: middle;\n",
       "    }\n",
       "\n",
       "    .dataframe tbody tr th {\n",
       "        vertical-align: top;\n",
       "    }\n",
       "\n",
       "    .dataframe thead th {\n",
       "        text-align: right;\n",
       "    }\n",
       "</style>\n",
       "<table border=\"1\" class=\"dataframe\">\n",
       "  <thead>\n",
       "    <tr style=\"text-align: right;\">\n",
       "      <th>ISBN</th>\n",
       "      <th>0000913154</th>\n",
       "      <th>0001046438</th>\n",
       "      <th>000104687X</th>\n",
       "      <th>0001047213</th>\n",
       "      <th>0001047973</th>\n",
       "      <th>000104799X</th>\n",
       "      <th>0001048082</th>\n",
       "      <th>0001053736</th>\n",
       "      <th>0001053744</th>\n",
       "      <th>0001055607</th>\n",
       "      <th>...</th>\n",
       "      <th>B000092Q0A</th>\n",
       "      <th>B00009EF82</th>\n",
       "      <th>B00009NDAN</th>\n",
       "      <th>B0000DYXID</th>\n",
       "      <th>B0000T6KHI</th>\n",
       "      <th>B0000VZEJQ</th>\n",
       "      <th>B0000X8HIE</th>\n",
       "      <th>B00013AX9E</th>\n",
       "      <th>B0001I1KOG</th>\n",
       "      <th>B000234N3A</th>\n",
       "    </tr>\n",
       "    <tr>\n",
       "      <th>userID</th>\n",
       "      <th></th>\n",
       "      <th></th>\n",
       "      <th></th>\n",
       "      <th></th>\n",
       "      <th></th>\n",
       "      <th></th>\n",
       "      <th></th>\n",
       "      <th></th>\n",
       "      <th></th>\n",
       "      <th></th>\n",
       "      <th></th>\n",
       "      <th></th>\n",
       "      <th></th>\n",
       "      <th></th>\n",
       "      <th></th>\n",
       "      <th></th>\n",
       "      <th></th>\n",
       "      <th></th>\n",
       "      <th></th>\n",
       "      <th></th>\n",
       "      <th></th>\n",
       "    </tr>\n",
       "  </thead>\n",
       "  <tbody>\n",
       "    <tr>\n",
       "      <th>2033</th>\n",
       "      <td>0.0</td>\n",
       "      <td>0.0</td>\n",
       "      <td>0.0</td>\n",
       "      <td>0.0</td>\n",
       "      <td>0.0</td>\n",
       "      <td>0.0</td>\n",
       "      <td>0.0</td>\n",
       "      <td>0.0</td>\n",
       "      <td>0.0</td>\n",
       "      <td>0.0</td>\n",
       "      <td>...</td>\n",
       "      <td>0.0</td>\n",
       "      <td>0.0</td>\n",
       "      <td>0.0</td>\n",
       "      <td>0.0</td>\n",
       "      <td>0.0</td>\n",
       "      <td>0.0</td>\n",
       "      <td>0.0</td>\n",
       "      <td>0.0</td>\n",
       "      <td>0.0</td>\n",
       "      <td>0.0</td>\n",
       "    </tr>\n",
       "    <tr>\n",
       "      <th>2110</th>\n",
       "      <td>0.0</td>\n",
       "      <td>0.0</td>\n",
       "      <td>0.0</td>\n",
       "      <td>0.0</td>\n",
       "      <td>0.0</td>\n",
       "      <td>0.0</td>\n",
       "      <td>0.0</td>\n",
       "      <td>0.0</td>\n",
       "      <td>0.0</td>\n",
       "      <td>0.0</td>\n",
       "      <td>...</td>\n",
       "      <td>0.0</td>\n",
       "      <td>0.0</td>\n",
       "      <td>0.0</td>\n",
       "      <td>0.0</td>\n",
       "      <td>0.0</td>\n",
       "      <td>0.0</td>\n",
       "      <td>0.0</td>\n",
       "      <td>0.0</td>\n",
       "      <td>0.0</td>\n",
       "      <td>0.0</td>\n",
       "    </tr>\n",
       "    <tr>\n",
       "      <th>2276</th>\n",
       "      <td>0.0</td>\n",
       "      <td>0.0</td>\n",
       "      <td>0.0</td>\n",
       "      <td>0.0</td>\n",
       "      <td>0.0</td>\n",
       "      <td>0.0</td>\n",
       "      <td>0.0</td>\n",
       "      <td>0.0</td>\n",
       "      <td>0.0</td>\n",
       "      <td>0.0</td>\n",
       "      <td>...</td>\n",
       "      <td>0.0</td>\n",
       "      <td>0.0</td>\n",
       "      <td>0.0</td>\n",
       "      <td>0.0</td>\n",
       "      <td>0.0</td>\n",
       "      <td>0.0</td>\n",
       "      <td>0.0</td>\n",
       "      <td>0.0</td>\n",
       "      <td>0.0</td>\n",
       "      <td>0.0</td>\n",
       "    </tr>\n",
       "    <tr>\n",
       "      <th>4017</th>\n",
       "      <td>0.0</td>\n",
       "      <td>0.0</td>\n",
       "      <td>0.0</td>\n",
       "      <td>0.0</td>\n",
       "      <td>0.0</td>\n",
       "      <td>0.0</td>\n",
       "      <td>0.0</td>\n",
       "      <td>0.0</td>\n",
       "      <td>0.0</td>\n",
       "      <td>0.0</td>\n",
       "      <td>...</td>\n",
       "      <td>0.0</td>\n",
       "      <td>0.0</td>\n",
       "      <td>0.0</td>\n",
       "      <td>0.0</td>\n",
       "      <td>0.0</td>\n",
       "      <td>0.0</td>\n",
       "      <td>0.0</td>\n",
       "      <td>0.0</td>\n",
       "      <td>0.0</td>\n",
       "      <td>0.0</td>\n",
       "    </tr>\n",
       "    <tr>\n",
       "      <th>4385</th>\n",
       "      <td>0.0</td>\n",
       "      <td>0.0</td>\n",
       "      <td>0.0</td>\n",
       "      <td>0.0</td>\n",
       "      <td>0.0</td>\n",
       "      <td>0.0</td>\n",
       "      <td>0.0</td>\n",
       "      <td>0.0</td>\n",
       "      <td>0.0</td>\n",
       "      <td>0.0</td>\n",
       "      <td>...</td>\n",
       "      <td>0.0</td>\n",
       "      <td>0.0</td>\n",
       "      <td>0.0</td>\n",
       "      <td>0.0</td>\n",
       "      <td>0.0</td>\n",
       "      <td>0.0</td>\n",
       "      <td>0.0</td>\n",
       "      <td>0.0</td>\n",
       "      <td>0.0</td>\n",
       "      <td>0.0</td>\n",
       "    </tr>\n",
       "  </tbody>\n",
       "</table>\n",
       "<p>5 rows × 66574 columns</p>\n",
       "</div>"
      ],
      "text/plain": [
       "ISBN    0000913154  0001046438  000104687X  0001047213  0001047973  \\\n",
       "userID                                                               \n",
       "2033    0.0         0.0         0.0         0.0         0.0          \n",
       "2110    0.0         0.0         0.0         0.0         0.0          \n",
       "2276    0.0         0.0         0.0         0.0         0.0          \n",
       "4017    0.0         0.0         0.0         0.0         0.0          \n",
       "4385    0.0         0.0         0.0         0.0         0.0          \n",
       "\n",
       "ISBN    000104799X  0001048082  0001053736  0001053744  0001055607  \\\n",
       "userID                                                               \n",
       "2033    0.0         0.0         0.0         0.0         0.0          \n",
       "2110    0.0         0.0         0.0         0.0         0.0          \n",
       "2276    0.0         0.0         0.0         0.0         0.0          \n",
       "4017    0.0         0.0         0.0         0.0         0.0          \n",
       "4385    0.0         0.0         0.0         0.0         0.0          \n",
       "\n",
       "ISBN       ...      B000092Q0A  B00009EF82  B00009NDAN  B0000DYXID  \\\n",
       "userID     ...                                                       \n",
       "2033       ...      0.0         0.0         0.0         0.0          \n",
       "2110       ...      0.0         0.0         0.0         0.0          \n",
       "2276       ...      0.0         0.0         0.0         0.0          \n",
       "4017       ...      0.0         0.0         0.0         0.0          \n",
       "4385       ...      0.0         0.0         0.0         0.0          \n",
       "\n",
       "ISBN    B0000T6KHI  B0000VZEJQ  B0000X8HIE  B00013AX9E  B0001I1KOG  B000234N3A  \n",
       "userID                                                                          \n",
       "2033    0.0         0.0         0.0         0.0         0.0         0.0         \n",
       "2110    0.0         0.0         0.0         0.0         0.0         0.0         \n",
       "2276    0.0         0.0         0.0         0.0         0.0         0.0         \n",
       "4017    0.0         0.0         0.0         0.0         0.0         0.0         \n",
       "4385    0.0         0.0         0.0         0.0         0.0         0.0         \n",
       "\n",
       "[5 rows x 66574 columns]"
      ]
     },
     "execution_count": 79,
     "metadata": {},
     "output_type": "execute_result"
    }
   ],
   "source": [
    "normalized_usr_rating = ratings_matrix.fillna(0)/10.0\n",
    "normalized_usr_rating.head()"
   ]
  },
  {
   "cell_type": "code",
   "execution_count": 80,
   "metadata": {
    "colab": {
     "base_uri": "https://localhost:8080/",
     "height": 102
    },
    "colab_type": "code",
    "id": "_mprjebpTo5t",
    "outputId": "f0594403-105e-418a-a728-eafda4e496c1"
   },
   "outputs": [
    {
     "data": {
      "text/plain": [
       "array([[0., 0., 0., ..., 0., 0., 0.],\n",
       "       [0., 0., 0., ..., 0., 0., 0.],\n",
       "       [0., 0., 0., ..., 0., 0., 0.],\n",
       "       [0., 0., 0., ..., 0., 0., 0.],\n",
       "       [0., 0., 0., ..., 0., 0., 0.]])"
      ]
     },
     "execution_count": 80,
     "metadata": {},
     "output_type": "execute_result"
    }
   ],
   "source": [
    "matrix = normalized_usr_rating.values\n",
    "matrix[0:5]"
   ]
  },
  {
   "cell_type": "code",
   "execution_count": 81,
   "metadata": {
    "colab": {},
    "colab_type": "code",
    "id": "0D-4BMI0M4Vr"
   },
   "outputs": [],
   "source": [
    "hiddenunits = 20\n",
    "visibleunits = len(ratings_matrix.columns)\n",
    "hb = tf.placeholder(\"float\",[hiddenunits])\n",
    "vb = tf.placeholder(\"float\",[visibleunits])\n",
    "W = tf.placeholder(\"float\",[visibleunits,hiddenunits])"
   ]
  },
  {
   "cell_type": "code",
   "execution_count": 82,
   "metadata": {
    "colab": {},
    "colab_type": "code",
    "id": "G_HuZyE1O8Dn"
   },
   "outputs": [],
   "source": [
    "v0 = tf.placeholder(\"float\",[None,visibleunits])\n",
    "_h0 = tf.nn.sigmoid(tf.matmul(v0,W)+hb)\n",
    "h0 = tf.nn.relu(tf.sign(_h0 - tf.random_uniform(tf.shape(_h0))))\n",
    "#Phase 2: Reconstruction\n",
    "_v1 = tf.nn.sigmoid(tf.matmul(h0, tf.transpose(W)) + vb) \n",
    "v1 = tf.nn.relu(tf.sign(_v1 - tf.random_uniform(tf.shape(_v1))))\n",
    "h1 = tf.nn.sigmoid(tf.matmul(v1, W) + hb)"
   ]
  },
  {
   "cell_type": "code",
   "execution_count": 83,
   "metadata": {
    "colab": {},
    "colab_type": "code",
    "id": "EaH4JjOiO88f"
   },
   "outputs": [],
   "source": [
    "#Learning rate\n",
    "alpha = 1.0\n",
    "#Create the gradients\n",
    "w_pos_grad = tf.matmul(tf.transpose(v0), h0)\n",
    "w_neg_grad = tf.matmul(tf.transpose(v1), h1)\n",
    "#Calculate the Contrastive Divergence to maximize\n",
    "CD = (w_pos_grad - w_neg_grad) / tf.to_float(tf.shape(v0)[0])\n",
    "#Create methods to update the weights and biases\n",
    "update_w = W + alpha * CD\n",
    "update_vb = vb + alpha * tf.reduce_mean(v0 - v1, 0)\n",
    "update_hb = hb + alpha * tf.reduce_mean(h0 - h1, 0)"
   ]
  },
  {
   "cell_type": "code",
   "execution_count": 84,
   "metadata": {
    "colab": {},
    "colab_type": "code",
    "id": "nXZ7LeLbPADE"
   },
   "outputs": [],
   "source": [
    "err = v0 - v1\n",
    "err_sum = tf.reduce_mean(err * err)"
   ]
  },
  {
   "cell_type": "code",
   "execution_count": 85,
   "metadata": {
    "colab": {},
    "colab_type": "code",
    "id": "DwAauYsFPDHu"
   },
   "outputs": [],
   "source": [
    "#Current weight\n",
    "cur_w = np.zeros([visibleunits, hiddenunits], np.float32)\n",
    "#Current visible unit biases\n",
    "cur_vb = np.zeros([visibleunits], np.float32)\n",
    "#Current hidden unit biases\n",
    "cur_hb = np.zeros([hiddenunits], np.float32)\n",
    "#Previous weight\n",
    "prv_w = np.zeros([visibleunits, hiddenunits], np.float32)\n",
    "#Previous visible unit biases\n",
    "prv_vb = np.zeros([visibleunits], np.float32)\n",
    "#Previous hidden unit biases\n",
    "prv_hb = np.zeros([hiddenunits], np.float32)\n",
    "sess = tf.Session()\n",
    "sess.run(tf.global_variables_initializer())"
   ]
  },
  {
   "cell_type": "code",
   "execution_count": 86,
   "metadata": {
    "colab": {
     "base_uri": "https://localhost:8080/",
     "height": 704
    },
    "colab_type": "code",
    "id": "RsQsoaKHPF9t",
    "outputId": "eb8f5a65-1e23-4eff-e0b6-5f469597fb05"
   },
   "outputs": [
    {
     "name": "stdout",
     "output_type": "stream",
     "text": [
      "0.199214\n",
      "0.11764492\n",
      "0.08311651\n",
      "0.06443759\n",
      "0.05280197\n",
      "0.04479922\n",
      "0.039032273\n",
      "0.03475944\n",
      "0.031345226\n",
      "0.028597921\n",
      "0.026345327\n",
      "0.024421686\n",
      "0.022858303\n",
      "0.021532856\n",
      "0.020376788\n",
      "0.019279858\n",
      "0.01840173\n",
      "0.017590582\n",
      "0.016872969\n",
      "0.016225977\n",
      "0.015601996\n",
      "0.015126114\n",
      "0.014655449\n",
      "0.014165619\n",
      "0.013760474\n"
     ]
    },
    {
     "data": {
      "image/png": "[encoded data removed]",
      "text/plain": [
       "<Figure size 432x288 with 1 Axes>"
      ]
     },
     "metadata": {},
     "output_type": "display_data"
    }
   ],
   "source": [
    "epochs = 25\n",
    "batchsize = 100\n",
    "errors = []\n",
    "for i in range(epochs):\n",
    "    for start, end in zip( range(0, len(matrix), batchsize), range(batchsize, len(matrix), batchsize)):\n",
    "        batch = matrix[start:end]\n",
    "        cur_w = sess.run(update_w, feed_dict={v0: batch, W: prv_w, vb: prv_vb, hb: prv_hb})\n",
    "        cur_vb = sess.run(update_vb, feed_dict={v0: batch, W: prv_w, vb: prv_vb, hb: prv_hb})\n",
    "        cur_nb = sess.run(update_hb, feed_dict={v0: batch, W: prv_w, vb: prv_vb, hb: prv_hb})\n",
    "        prv_w = cur_w\n",
    "        prv_vb = cur_vb\n",
    "        prv_hb = cur_hb\n",
    "    errors.append(sess.run(err_sum, feed_dict={v0: matrix, W: cur_w, vb: cur_vb, hb: cur_hb}))\n",
    "    print (errors[-1])\n",
    "plt.plot(errors)\n",
    "plt.ylabel('Error')\n",
    "plt.xlabel('Epoch')\n",
    "plt.show()"
   ]
  },
  {
   "cell_type": "code",
   "execution_count": 87,
   "metadata": {
    "colab": {},
    "colab_type": "code",
    "id": "En9lwWyIPQbA"
   },
   "outputs": [],
   "source": [
    "mock_user_id = 4385"
   ]
  },
  {
   "cell_type": "code",
   "execution_count": 88,
   "metadata": {
    "colab": {
     "base_uri": "https://localhost:8080/",
     "height": 34
    },
    "colab_type": "code",
    "id": "BJdpcu8CU2MV",
    "outputId": "228655f2-bf6f-422d-8a87-c67a1112ebca"
   },
   "outputs": [
    {
     "data": {
      "text/plain": [
       "(449, 66574)"
      ]
     },
     "execution_count": 88,
     "metadata": {},
     "output_type": "execute_result"
    }
   ],
   "source": [
    "matrix.shape"
   ]
  },
  {
   "cell_type": "code",
   "execution_count": 89,
   "metadata": {
    "colab": {
     "base_uri": "https://localhost:8080/",
     "height": 34
    },
    "colab_type": "code",
    "id": "7bfIN-IIU7kL",
    "outputId": "c3186c69-d6a2-45be-a020-5086a22e878f"
   },
   "outputs": [
    {
     "data": {
      "text/plain": [
       "(449, 66574)"
      ]
     },
     "execution_count": 89,
     "metadata": {},
     "output_type": "execute_result"
    }
   ],
   "source": [
    "ratings_matrix.shape"
   ]
  },
  {
   "cell_type": "code",
   "execution_count": 90,
   "metadata": {
    "colab": {
     "base_uri": "https://localhost:8080/",
     "height": 34
    },
    "colab_type": "code",
    "id": "IPiFgsj1VGMw",
    "outputId": "fc2d9103-945a-4e11-d14f-c3508fed2d6c"
   },
   "outputs": [
    {
     "data": {
      "text/plain": [
       "4"
      ]
     },
     "execution_count": 90,
     "metadata": {},
     "output_type": "execute_result"
    }
   ],
   "source": [
    "ratings_matrix.index.get_loc(4385)"
   ]
  },
  {
   "cell_type": "code",
   "execution_count": 91,
   "metadata": {
    "colab": {
     "base_uri": "https://localhost:8080/",
     "height": 34
    },
    "colab_type": "code",
    "id": "kaQqohbYPRJO",
    "outputId": "5249ad59-45c2-441a-96c0-f59c9ad0cf0d"
   },
   "outputs": [
    {
     "data": {
      "text/plain": [
       "array([[0., 0., 0., ..., 0., 0., 0.]])"
      ]
     },
     "execution_count": 91,
     "metadata": {},
     "output_type": "execute_result"
    }
   ],
   "source": [
    "inputUser = matrix[ratings_matrix.index.get_loc(4385)-1].reshape(1, -1)\n",
    "inputUser[0:5]"
   ]
  },
  {
   "cell_type": "code",
   "execution_count": 92,
   "metadata": {
    "colab": {
     "base_uri": "https://localhost:8080/",
     "height": 34
    },
    "colab_type": "code",
    "id": "CWsh1yYkPRW2",
    "outputId": "ef7511ac-d8f2-4f66-b6ef-c7134f2c6eb5"
   },
   "outputs": [
    {
     "data": {
      "text/plain": [
       "(1, 66574)"
      ]
     },
     "execution_count": 92,
     "metadata": {},
     "output_type": "execute_result"
    }
   ],
   "source": [
    "inputUser.shape"
   ]
  },
  {
   "cell_type": "code",
   "execution_count": 93,
   "metadata": {
    "colab": {
     "base_uri": "https://localhost:8080/",
     "height": 34
    },
    "colab_type": "code",
    "id": "x59sWlN4PRfP",
    "outputId": "7ae0fafd-7814-4d88-d09d-a73d18282530"
   },
   "outputs": [
    {
     "name": "stdout",
     "output_type": "stream",
     "text": [
      "(1, 66574)\n"
     ]
    }
   ],
   "source": [
    "#Feeding in the user and reconstructing the input\n",
    "hh0 = tf.nn.sigmoid(tf.matmul(v0, W) + hb)\n",
    "vv1 = tf.nn.sigmoid(tf.matmul(hh0, tf.transpose(W)) + vb)\n",
    "feed = sess.run(hh0, feed_dict={ v0: inputUser, W: prv_w, hb: prv_hb})\n",
    "rec = sess.run(vv1, feed_dict={ hh0: feed, W: prv_w, vb: prv_vb})\n",
    "print(rec.shape)"
   ]
  },
  {
   "cell_type": "code",
   "execution_count": 94,
   "metadata": {
    "colab": {
     "base_uri": "https://localhost:8080/",
     "height": 34
    },
    "colab_type": "code",
    "id": "jJyV19BsPa6N",
    "outputId": "174d0448-f3fc-4ec1-bae0-5bf408f69a87"
   },
   "outputs": [
    {
     "data": {
      "text/plain": [
       "(1, 66574)"
      ]
     },
     "execution_count": 94,
     "metadata": {},
     "output_type": "execute_result"
    }
   ],
   "source": [
    "rec.shape"
   ]
  },
  {
   "cell_type": "code",
   "execution_count": 95,
   "metadata": {
    "colab": {
     "base_uri": "https://localhost:8080/",
     "height": 1989
    },
    "colab_type": "code",
    "id": "gW1mtlBYPfKY",
    "outputId": "2695a7a5-e3a6-49b8-9735-7b8495e13636"
   },
   "outputs": [
    {
     "data": {
      "text/plain": [
       "array([0.01200917, 0.01148682, 0.01035371, 0.01040508, 0.01148681,\n",
       "       0.00995177, 0.01325545, 0.01082512, 0.01126193, 0.01098692,\n",
       "       0.01286876, 0.01177419, 0.01286874, 0.01165839, 0.01050855,\n",
       "       0.01087878, 0.0118911 , 0.01143018, 0.01212843, 0.01293242,\n",
       "       0.01177419, 0.01126193, 0.01177419, 0.01148685, 0.01200917,\n",
       "       0.01015075, 0.01098692, 0.01071854, 0.01050853, 0.01171617,\n",
       "       0.01030261, 0.01171616, 0.01212842, 0.01137384, 0.01098691,\n",
       "       0.01061305, 0.01137383, 0.01154373, 0.01109612, 0.01050855,\n",
       "       0.01109612, 0.01082511, 0.01160095, 0.01035372, 0.00970848,\n",
       "       0.01171614, 0.01066567, 0.01243163, 0.01050855, 0.01115111,\n",
       "       0.01165838, 0.01165838, 0.01005078, 0.01143019, 0.01189111,\n",
       "       0.01087877, 0.01115113, 0.01066567, 0.0118911 , 0.01104138,\n",
       "       0.01171615, 0.01087878, 0.01286877, 0.01120637, 0.01154372,\n",
       "       0.01045668, 0.01154372, 0.0116584 , 0.01061305, 0.01189111,\n",
       "       0.00970848, 0.01020116, 0.01212842, 0.01077171, 0.01015075,\n",
       "       0.01087879, 0.01109612, 0.01025174, 0.00951805, 0.0110414 ,\n",
       "       0.01109612, 0.01189111, 0.01035371, 0.00970847, 0.01077172,\n",
       "       0.0108788 , 0.01071856, 0.01104141, 0.01120639, 0.01195003,\n",
       "       0.01218849, 0.0110414 , 0.00970846, 0.01126193, 0.01143018,\n",
       "       0.01040508, 0.01365362, 0.01137382, 0.01082514, 0.01154372,\n",
       "       0.01126191, 0.01087879, 0.0103537 , 0.01177419, 0.01056067,\n",
       "       0.01115113, 0.01171614, 0.01015078, 0.01200918, 0.0103537 ,\n",
       "       0.01286874, 0.01061305, 0.01104139, 0.01171617, 0.01160094,\n",
       "       0.01071857, 0.01035373, 0.01137383, 0.01087879, 0.01286877,\n",
       "       0.01015078, 0.01143019, 0.01189111, 0.01120639, 0.01115114,\n",
       "       0.01082514, 0.0118325 , 0.01104139, 0.01109612, 0.00995179,\n",
       "       0.01050854, 0.01372114, 0.00937767, 0.01274233, 0.0112064 ,\n",
       "       0.01189113, 0.01249318, 0.01212842, 0.01378895, 0.0123704 ,\n",
       "       0.01066569, 0.0116009 , 0.01010069, 0.01115113, 0.01243163,\n",
       "       0.01109612, 0.01025173, 0.01077171, 0.01087879, 0.01160095,\n",
       "       0.01160092, 0.01325545, 0.01148684, 0.01195002, 0.0109869 ,\n",
       "       0.01206864, 0.00947102, 0.01056067, 0.01071857, 0.01177419,\n",
       "       0.01087878, 0.01286876, 0.01224882, 0.01035371, 0.01148684,\n",
       "       0.01077173, 0.0110961 , 0.01177417, 0.01087879, 0.01286875,\n",
       "       0.00970845, 0.01082514, 0.01087878, 0.01126191, 0.01071857,\n",
       "       0.01115112, 0.0117742 , 0.01131773, 0.01077172, 0.01056067,\n",
       "       0.01056067, 0.01200918, 0.01104139, 0.01137382, 0.01015078,\n",
       "       0.01093271, 0.01035371, 0.00956529, 0.01160092, 0.00995177,\n",
       "       0.0117742 , 0.00937766, 0.00975664, 0.01126192, 0.01189113,\n",
       "       0.01050855, 0.01183252, 0.01109612, 0.01206866, 0.0104567 ,\n",
       "       0.01230946, 0.01230947, 0.00919368, 0.01025173, 0.01212839,\n",
       "       0.01261715, 0.00985374, 0.01293242, 0.01378897, 0.01071857,\n",
       "       0.00990265, 0.00985374, 0.01020114, 0.01030262, 0.01093274,\n",
       "       0.01171617, 0.01045669, 0.0096605 , 0.01015078, 0.01434363,\n",
       "       0.01082511, 0.01154372, 0.01120638, 0.01109611, 0.01030262,\n",
       "       0.01212842, 0.01020114, 0.01120637, 0.01462918, 0.01045669,\n",
       "       0.01319024, 0.01261714, 0.01035375, 0.01061305, 0.01115111,\n",
       "       0.01120639, 0.01087879, 0.01040509, 0.01406365, 0.01109614,\n",
       "       0.0133869 , 0.00985374, 0.01261713, 0.01274233, 0.0110414 ,\n",
       "       0.01212843, 0.0114302 , 0.01035372, 0.00970846, 0.01120639,\n",
       "       0.01286875, 0.01177418, 0.01420295, 0.01093272, 0.00985373,\n",
       "       0.00985374, 0.01066568, 0.0116584 , 0.0129964 , 0.01171614,\n",
       "       0.01325547, 0.01077169, 0.01154374, 0.01015078, 0.01165839,\n",
       "       0.01274235, 0.01183251, 0.01575061, 0.01189112, 0.01020115,\n",
       "       0.01206864, 0.01255501, 0.01286874, 0.01926528, 0.01567328,\n",
       "       0.01406361, 0.01183253, 0.01351963, 0.00990266, 0.01098692,\n",
       "       0.01126194, 0.01365367, 0.00928523, 0.01056067, 0.01195001,\n",
       "       0.01015078, 0.01131773, 0.01015077, 0.01115111, 0.01306071,\n",
       "       0.01165843, 0.01183251, 0.01212843, 0.01177419, 0.01212842,\n",
       "       0.01137384, 0.01093274, 0.00956529, 0.01061303, 0.01045669,\n",
       "       0.0110961 , 0.01126194, 0.01148682, 0.0123704 , 0.01000115,\n",
       "       0.0118325 , 0.01126192, 0.01154373, 0.0107717 , 0.01093273,\n",
       "       0.01177417, 0.0122488 , 0.0120092 , 0.01056066, 0.0103537 ,\n",
       "       0.01306069, 0.01230946, 0.0109869 , 0.01280539, 0.01020112,\n",
       "       0.01082512, 0.0132555 , 0.01218847, 0.0112064 , 0.01160092,\n",
       "       0.01082513, 0.01126193, 0.01143019, 0.01005078, 0.01077172,\n",
       "       0.01000115, 0.01183249, 0.01066567, 0.01045668, 0.00937767,\n",
       "       0.00951804, 0.01177419, 0.01261714, 0.01050854, 0.01126195,\n",
       "       0.01066569, 0.01082512, 0.01171617, 0.0131253 , 0.01061306,\n",
       "       0.01098693, 0.0120092 , 0.01098692, 0.01115114, 0.01115114,\n",
       "       0.01077172, 0.01137382, 0.0111511 , 0.01143018, 0.0103026 ,\n",
       "       0.03137089, 0.01077172, 0.01143019, 0.00947102, 0.01050856,\n",
       "       0.01154372, 0.01143019, 0.01020114, 0.01025176, 0.01087879,\n",
       "       0.01243165, 0.01261715, 0.01098693, 0.01137383, 0.01154373,\n",
       "       0.00990263, 0.01030262, 0.01154372, 0.01050857, 0.01261714,\n",
       "       0.01093273, 0.01082512, 0.01183248, 0.01093272, 0.01082511,\n",
       "       0.01040507, 0.01056067, 0.01160091, 0.01126193, 0.01115114,\n",
       "       0.01160094, 0.01126193, 0.00995177, 0.01177418, 0.01050856,\n",
       "       0.01160094, 0.01237041, 0.01299641, 0.01148683, 0.01071856,\n",
       "       0.01137383, 0.0129324 , 0.00980507, 0.00985372, 0.01061306,\n",
       "       0.01206865, 0.00995177, 0.00980506, 0.00990263, 0.01249319,\n",
       "       0.01261715, 0.01154374, 0.01195001, 0.01306069, 0.0152171 ,\n",
       "       0.01441447, 0.01045668, 0.00985374, 0.01462916, 0.01499396,\n",
       "       0.00937767, 0.01087879, 0.01056066, 0.01040508, 0.01115113,\n",
       "       0.01183252, 0.01061305, 0.01261715, 0.01189114, 0.01183251,\n",
       "       0.01015077, 0.01131773, 0.01280539, 0.01261716, 0.01071859,\n",
       "       0.01045669, 0.0118325 , 0.01237041, 0.01154374, 0.01045669,\n",
       "       0.01195002, 0.0103537 , 0.01131774, 0.01177418, 0.01154374,\n",
       "       0.01040507, 0.01050856, 0.01035372, 0.01010067, 0.01160095,\n",
       "       0.01345314, 0.01189113, 0.01077173, 0.01071858, 0.01098691,\n",
       "       0.01120639, 0.01131775, 0.01183251, 0.01143017, 0.01177418,\n",
       "       0.00985374, 0.01050855, 0.0100508 , 0.01025175, 0.01066568,\n",
       "       0.01093273, 0.0117742 , 0.01224881, 0.01061306, 0.01137384,\n",
       "       0.0116584 , 0.01212842, 0.01082513, 0.01071857, 0.01082512,\n",
       "       0.01243164, 0.01212841, 0.01165839, 0.0131253 , 0.01040508,\n",
       "       0.00942424, 0.01066567, 0.01183253, 0.01061304, 0.00995178,\n",
       "       0.01137383, 0.01120637, 0.01030259, 0.01154372, 0.01212841,\n",
       "       0.01115112, 0.01200918, 0.01143016, 0.01093274, 0.01000116,\n",
       "       0.01143018, 0.01082513, 0.01082511, 0.01030261, 0.01093274,\n",
       "       0.01115113, 0.01154373, 0.01177418, 0.0116584 , 0.0096605 ,\n",
       "       0.01087878, 0.01177417, 0.01189111, 0.01025177, 0.00990265,\n",
       "       0.01025175, 0.01143019, 0.01056065, 0.00990266, 0.0108788 ,\n",
       "       0.0100508 , 0.01143017, 0.01200918, 0.01104139, 0.01160095,\n",
       "       0.01171617, 0.0110414 , 0.01098691, 0.01189111, 0.01218849,\n",
       "       0.0131253 , 0.01071858, 0.01143019, 0.01131773, 0.0122488 ,\n",
       "       0.00975665, 0.00975663, 0.01066565, 0.01104137, 0.01040508,\n",
       "       0.01093274, 0.00975665, 0.01131773, 0.01143019, 0.01392563,\n",
       "       0.01025175, 0.01165838, 0.01082512, 0.01189111, 0.01115113,\n",
       "       0.01061305, 0.01061304, 0.01171617, 0.01040508, 0.00928522,\n",
       "       0.01030262, 0.01005079, 0.00910302, 0.0100508 , 0.01212841,\n",
       "       0.01066566, 0.01030261, 0.01200918, 0.01082512, 0.00966049,\n",
       "       0.0103026 , 0.01056066, 0.01005078, 0.01154374, 0.01087878,\n",
       "       0.01243164, 0.01274231, 0.01261714, 0.00990263, 0.01148681,\n",
       "       0.01126194, 0.0107717 , 0.01098693, 0.00985374, 0.01206866,\n",
       "       0.0096128 , 0.01056065, 0.01131773, 0.0118325 , 0.01237043,\n",
       "       0.01148685], dtype=float32)"
      ]
     },
     "execution_count": 95,
     "metadata": {},
     "output_type": "execute_result"
    }
   ],
   "source": [
    "rec[0][0:576]"
   ]
  },
  {
   "cell_type": "code",
   "execution_count": 96,
   "metadata": {
    "colab": {
     "base_uri": "https://localhost:8080/",
     "height": 34
    },
    "colab_type": "code",
    "id": "WF87ZrEIPliL",
    "outputId": "a5a36855-2c66-414c-ecbe-950836feef74"
   },
   "outputs": [
    {
     "data": {
      "text/plain": [
       "(271360, 5)"
      ]
     },
     "execution_count": 96,
     "metadata": {},
     "output_type": "execute_result"
    }
   ],
   "source": [
    "books.shape"
   ]
  },
  {
   "cell_type": "code",
   "execution_count": 97,
   "metadata": {
    "colab": {
     "base_uri": "https://localhost:8080/",
     "height": 2632
    },
    "colab_type": "code",
    "id": "VnAT6fxFPmiQ",
    "outputId": "25d30711-e8ba-410c-8e66-deb93c68f146"
   },
   "outputs": [
    {
     "data": {
      "text/html": [
       "<div>\n",
       "<style scoped>\n",
       "    .dataframe tbody tr th:only-of-type {\n",
       "        vertical-align: middle;\n",
       "    }\n",
       "\n",
       "    .dataframe tbody tr th {\n",
       "        vertical-align: top;\n",
       "    }\n",
       "\n",
       "    .dataframe thead th {\n",
       "        text-align: right;\n",
       "    }\n",
       "</style>\n",
       "<table border=\"1\" class=\"dataframe\">\n",
       "  <thead>\n",
       "    <tr style=\"text-align: right;\">\n",
       "      <th></th>\n",
       "      <th>ISBN</th>\n",
       "      <th>bookTitle</th>\n",
       "      <th>bookAuthor</th>\n",
       "      <th>yearOfPublication</th>\n",
       "      <th>publisher</th>\n",
       "    </tr>\n",
       "  </thead>\n",
       "  <tbody>\n",
       "    <tr>\n",
       "      <th>1</th>\n",
       "      <td>0002005018</td>\n",
       "      <td>Clara Callan</td>\n",
       "      <td>Richard Bruce Wright</td>\n",
       "      <td>2001</td>\n",
       "      <td>HarperFlamingo Canada</td>\n",
       "    </tr>\n",
       "    <tr>\n",
       "      <th>3</th>\n",
       "      <td>0374157065</td>\n",
       "      <td>Flu: The Story of the Great Influenza Pandemic of 1918 and the Search for the Virus That Caused It</td>\n",
       "      <td>Gina Bari Kolata</td>\n",
       "      <td>1999</td>\n",
       "      <td>Farrar Straus Giroux</td>\n",
       "    </tr>\n",
       "    <tr>\n",
       "      <th>5</th>\n",
       "      <td>0399135782</td>\n",
       "      <td>The Kitchen God's Wife</td>\n",
       "      <td>Amy Tan</td>\n",
       "      <td>1991</td>\n",
       "      <td>Putnam Pub Group</td>\n",
       "    </tr>\n",
       "    <tr>\n",
       "      <th>6</th>\n",
       "      <td>0425176428</td>\n",
       "      <td>What If?: The World's Foremost Military Historians Imagine What Might Have Been</td>\n",
       "      <td>Robert Cowley</td>\n",
       "      <td>2000</td>\n",
       "      <td>Berkley Publishing Group</td>\n",
       "    </tr>\n",
       "    <tr>\n",
       "      <th>7</th>\n",
       "      <td>0671870432</td>\n",
       "      <td>PLEADING GUILTY</td>\n",
       "      <td>Scott Turow</td>\n",
       "      <td>1993</td>\n",
       "      <td>Audioworks</td>\n",
       "    </tr>\n",
       "    <tr>\n",
       "      <th>18</th>\n",
       "      <td>0440234743</td>\n",
       "      <td>The Testament</td>\n",
       "      <td>John Grisham</td>\n",
       "      <td>1999</td>\n",
       "      <td>Dell</td>\n",
       "    </tr>\n",
       "    <tr>\n",
       "      <th>19</th>\n",
       "      <td>0452264464</td>\n",
       "      <td>Beloved (Plume Contemporary Fiction)</td>\n",
       "      <td>Toni Morrison</td>\n",
       "      <td>1994</td>\n",
       "      <td>Plume</td>\n",
       "    </tr>\n",
       "    <tr>\n",
       "      <th>20</th>\n",
       "      <td>0609804618</td>\n",
       "      <td>Our Dumb Century: The Onion Presents 100 Years of Headlines from America's Finest News Source</td>\n",
       "      <td>The Onion</td>\n",
       "      <td>1999</td>\n",
       "      <td>Three Rivers Press</td>\n",
       "    </tr>\n",
       "    <tr>\n",
       "      <th>21</th>\n",
       "      <td>1841721522</td>\n",
       "      <td>New Vegetarian: Bold and Beautiful Recipes for Every Occasion</td>\n",
       "      <td>Celia Brooks Brown</td>\n",
       "      <td>2001</td>\n",
       "      <td>Ryland Peters &amp;amp; Small Ltd</td>\n",
       "    </tr>\n",
       "    <tr>\n",
       "      <th>26</th>\n",
       "      <td>0971880107</td>\n",
       "      <td>Wild Animus</td>\n",
       "      <td>Rich Shapero</td>\n",
       "      <td>2004</td>\n",
       "      <td>Too Far</td>\n",
       "    </tr>\n",
       "    <tr>\n",
       "      <th>27</th>\n",
       "      <td>0345402871</td>\n",
       "      <td>Airframe</td>\n",
       "      <td>Michael Crichton</td>\n",
       "      <td>1997</td>\n",
       "      <td>Ballantine Books</td>\n",
       "    </tr>\n",
       "    <tr>\n",
       "      <th>28</th>\n",
       "      <td>0345417623</td>\n",
       "      <td>Timeline</td>\n",
       "      <td>MICHAEL CRICHTON</td>\n",
       "      <td>2000</td>\n",
       "      <td>Ballantine Books</td>\n",
       "    </tr>\n",
       "    <tr>\n",
       "      <th>30</th>\n",
       "      <td>0375759778</td>\n",
       "      <td>Prague : A Novel</td>\n",
       "      <td>ARTHUR PHILLIPS</td>\n",
       "      <td>2003</td>\n",
       "      <td>Random House Trade Paperbacks</td>\n",
       "    </tr>\n",
       "    <tr>\n",
       "      <th>31</th>\n",
       "      <td>0425163091</td>\n",
       "      <td>Chocolate Jesus</td>\n",
       "      <td>Stephan Jaramillo</td>\n",
       "      <td>1998</td>\n",
       "      <td>Berkley Publishing Group</td>\n",
       "    </tr>\n",
       "    <tr>\n",
       "      <th>36</th>\n",
       "      <td>0375406328</td>\n",
       "      <td>Lying Awake</td>\n",
       "      <td>Mark Salzman</td>\n",
       "      <td>2000</td>\n",
       "      <td>Alfred A. Knopf</td>\n",
       "    </tr>\n",
       "    <tr>\n",
       "      <th>37</th>\n",
       "      <td>0446310786</td>\n",
       "      <td>To Kill a Mockingbird</td>\n",
       "      <td>Harper Lee</td>\n",
       "      <td>1988</td>\n",
       "      <td>Little Brown &amp;amp; Company</td>\n",
       "    </tr>\n",
       "    <tr>\n",
       "      <th>38</th>\n",
       "      <td>0449005615</td>\n",
       "      <td>Seabiscuit: An American Legend</td>\n",
       "      <td>LAURA HILLENBRAND</td>\n",
       "      <td>2002</td>\n",
       "      <td>Ballantine Books</td>\n",
       "    </tr>\n",
       "    <tr>\n",
       "      <th>39</th>\n",
       "      <td>0060168013</td>\n",
       "      <td>Pigs in Heaven</td>\n",
       "      <td>Barbara Kingsolver</td>\n",
       "      <td>1993</td>\n",
       "      <td>Harpercollins</td>\n",
       "    </tr>\n",
       "    <tr>\n",
       "      <th>40</th>\n",
       "      <td>038078243X</td>\n",
       "      <td>Miss Zukas and the Raven's Dance</td>\n",
       "      <td>Jo Dereske</td>\n",
       "      <td>1996</td>\n",
       "      <td>Avon</td>\n",
       "    </tr>\n",
       "    <tr>\n",
       "      <th>43</th>\n",
       "      <td>0061099686</td>\n",
       "      <td>Downtown</td>\n",
       "      <td>Anne Rivers Siddons</td>\n",
       "      <td>1995</td>\n",
       "      <td>HarperTorch</td>\n",
       "    </tr>\n",
       "    <tr>\n",
       "      <th>44</th>\n",
       "      <td>0553582909</td>\n",
       "      <td>Icebound</td>\n",
       "      <td>Dean R. Koontz</td>\n",
       "      <td>2000</td>\n",
       "      <td>Bantam Books</td>\n",
       "    </tr>\n",
       "    <tr>\n",
       "      <th>45</th>\n",
       "      <td>0671888587</td>\n",
       "      <td>I'll Be Seeing You</td>\n",
       "      <td>Mary Higgins Clark</td>\n",
       "      <td>1994</td>\n",
       "      <td>Pocket</td>\n",
       "    </tr>\n",
       "    <tr>\n",
       "      <th>46</th>\n",
       "      <td>0553582747</td>\n",
       "      <td>From the Corner of His Eye</td>\n",
       "      <td>Dean Koontz</td>\n",
       "      <td>2001</td>\n",
       "      <td>Bantam Books</td>\n",
       "    </tr>\n",
       "    <tr>\n",
       "      <th>47</th>\n",
       "      <td>0425182908</td>\n",
       "      <td>Isle of Dogs</td>\n",
       "      <td>Patricia Cornwell</td>\n",
       "      <td>2002</td>\n",
       "      <td>Berkley Publishing Group</td>\n",
       "    </tr>\n",
       "    <tr>\n",
       "      <th>48</th>\n",
       "      <td>042518630X</td>\n",
       "      <td>Purity in Death</td>\n",
       "      <td>J.D. Robb</td>\n",
       "      <td>2002</td>\n",
       "      <td>Berkley Publishing Group</td>\n",
       "    </tr>\n",
       "    <tr>\n",
       "      <th>49</th>\n",
       "      <td>0440223571</td>\n",
       "      <td>This Year It Will Be Different: And Other Stories</td>\n",
       "      <td>Maeve Binchy</td>\n",
       "      <td>1997</td>\n",
       "      <td>Dell</td>\n",
       "    </tr>\n",
       "    <tr>\n",
       "      <th>51</th>\n",
       "      <td>0842342702</td>\n",
       "      <td>Left Behind: A Novel of the Earth's Last Days (Left Behind #1)</td>\n",
       "      <td>Tim Lahaye</td>\n",
       "      <td>2000</td>\n",
       "      <td>Tyndale House Publishers</td>\n",
       "    </tr>\n",
       "    <tr>\n",
       "      <th>52</th>\n",
       "      <td>0440225701</td>\n",
       "      <td>The Street Lawyer</td>\n",
       "      <td>JOHN GRISHAM</td>\n",
       "      <td>1999</td>\n",
       "      <td>Dell</td>\n",
       "    </tr>\n",
       "    <tr>\n",
       "      <th>53</th>\n",
       "      <td>0060914068</td>\n",
       "      <td>Love, Medicine and Miracles</td>\n",
       "      <td>M.D. Bernie S. Siegel</td>\n",
       "      <td>1988</td>\n",
       "      <td>HarperCollins Publishers</td>\n",
       "    </tr>\n",
       "    <tr>\n",
       "      <th>56</th>\n",
       "      <td>0380715899</td>\n",
       "      <td>A Soldier of the Great War</td>\n",
       "      <td>Mark Helprin</td>\n",
       "      <td>1992</td>\n",
       "      <td>Avon Books</td>\n",
       "    </tr>\n",
       "    <tr>\n",
       "      <th>...</th>\n",
       "      <td>...</td>\n",
       "      <td>...</td>\n",
       "      <td>...</td>\n",
       "      <td>...</td>\n",
       "      <td>...</td>\n",
       "    </tr>\n",
       "    <tr>\n",
       "      <th>270846</th>\n",
       "      <td>0314012257</td>\n",
       "      <td>Human Physiology: From Cells to Systems</td>\n",
       "      <td>Lauralee Sherwood</td>\n",
       "      <td>1992</td>\n",
       "      <td>West Publishing Company</td>\n",
       "    </tr>\n",
       "    <tr>\n",
       "      <th>270848</th>\n",
       "      <td>0345337921</td>\n",
       "      <td>Jewels in the Dark</td>\n",
       "      <td>Rusty Hallock</td>\n",
       "      <td>1986</td>\n",
       "      <td>Ballantine Books</td>\n",
       "    </tr>\n",
       "    <tr>\n",
       "      <th>270849</th>\n",
       "      <td>0394722183</td>\n",
       "      <td>Masks</td>\n",
       "      <td>Fumiko Enchi</td>\n",
       "      <td>1983</td>\n",
       "      <td>Vintage Books USA</td>\n",
       "    </tr>\n",
       "    <tr>\n",
       "      <th>270850</th>\n",
       "      <td>0399505210</td>\n",
       "      <td>Some Prefer Nettles</td>\n",
       "      <td>Junichiro Tanizaki</td>\n",
       "      <td>1981</td>\n",
       "      <td>Berkley Pub Group</td>\n",
       "    </tr>\n",
       "    <tr>\n",
       "      <th>270853</th>\n",
       "      <td>0534145329</td>\n",
       "      <td>Single Variable Calculus</td>\n",
       "      <td>James Stewart</td>\n",
       "      <td>1991</td>\n",
       "      <td>Brooks/Cole Publishing Company</td>\n",
       "    </tr>\n",
       "    <tr>\n",
       "      <th>270854</th>\n",
       "      <td>0553092995</td>\n",
       "      <td>Lady of the Trillium</td>\n",
       "      <td>Marion Zimmer Bradley</td>\n",
       "      <td>1995</td>\n",
       "      <td>Bantam Books</td>\n",
       "    </tr>\n",
       "    <tr>\n",
       "      <th>270855</th>\n",
       "      <td>0590404946</td>\n",
       "      <td>The little gymnast</td>\n",
       "      <td>Sheila Haigh</td>\n",
       "      <td>1987</td>\n",
       "      <td>Scholastic Inc</td>\n",
       "    </tr>\n",
       "    <tr>\n",
       "      <th>270857</th>\n",
       "      <td>0716726041</td>\n",
       "      <td>An Introduction to Genetic Analysis</td>\n",
       "      <td>Anthony J. F. Griffiths</td>\n",
       "      <td>1996</td>\n",
       "      <td>W.H. Freeman &amp;amp; Company</td>\n",
       "    </tr>\n",
       "    <tr>\n",
       "      <th>270860</th>\n",
       "      <td>0804810702</td>\n",
       "      <td>Wild Geese</td>\n",
       "      <td>Ogai Mori</td>\n",
       "      <td>1974</td>\n",
       "      <td>Tuttle Publishing</td>\n",
       "    </tr>\n",
       "    <tr>\n",
       "      <th>270861</th>\n",
       "      <td>0804813736</td>\n",
       "      <td>Kanji and Kana: A Handbook and Dictionary of the Japanese Writing System</td>\n",
       "      <td>Wolfgang Hadamitzky</td>\n",
       "      <td>1982</td>\n",
       "      <td>Tuttle Pub</td>\n",
       "    </tr>\n",
       "    <tr>\n",
       "      <th>270862</th>\n",
       "      <td>0805318801</td>\n",
       "      <td>Biology (Benjamin/Cummings Series in the Life Sciences)</td>\n",
       "      <td>Neil A. Campbell</td>\n",
       "      <td>1993</td>\n",
       "      <td>Addison-Wesley Pub Co</td>\n",
       "    </tr>\n",
       "    <tr>\n",
       "      <th>270863</th>\n",
       "      <td>0805385355</td>\n",
       "      <td>Microbiology : An Introduction (6th Ed) (Windows 95 only)</td>\n",
       "      <td>Gerard J. Tortora</td>\n",
       "      <td>1997</td>\n",
       "      <td>Addison Wesley Publishing Company</td>\n",
       "    </tr>\n",
       "    <tr>\n",
       "      <th>270865</th>\n",
       "      <td>0824811763</td>\n",
       "      <td>Confessions of Love</td>\n",
       "      <td>Uno Chiyo</td>\n",
       "      <td>1989</td>\n",
       "      <td>University of Hawaii Press</td>\n",
       "    </tr>\n",
       "    <tr>\n",
       "      <th>270866</th>\n",
       "      <td>0848726286</td>\n",
       "      <td>Cooking Light Superfast Suppers: Speedy Solutions for Dinner Dilemmas (Cooking Light)</td>\n",
       "      <td>Anne C. Cain</td>\n",
       "      <td>2003</td>\n",
       "      <td>Oxmoor House</td>\n",
       "    </tr>\n",
       "    <tr>\n",
       "      <th>270867</th>\n",
       "      <td>0867208600</td>\n",
       "      <td>Essentials of Molecular Biology</td>\n",
       "      <td>George M. Malacinski</td>\n",
       "      <td>1998</td>\n",
       "      <td>Jones &amp;amp; Bartlett Publishers</td>\n",
       "    </tr>\n",
       "    <tr>\n",
       "      <th>270868</th>\n",
       "      <td>0874849098</td>\n",
       "      <td>Discovering Anthropology</td>\n",
       "      <td>Daniel  Gross</td>\n",
       "      <td>1992</td>\n",
       "      <td>McGraw-Hill Humanities/Social Sciences/Languages</td>\n",
       "    </tr>\n",
       "    <tr>\n",
       "      <th>270869</th>\n",
       "      <td>0878932445</td>\n",
       "      <td>Developmental Biology</td>\n",
       "      <td>Scott F. Gilbert</td>\n",
       "      <td>1997</td>\n",
       "      <td>J. A. Majors Company</td>\n",
       "    </tr>\n",
       "    <tr>\n",
       "      <th>270870</th>\n",
       "      <td>0879758368</td>\n",
       "      <td>The Book of Scientific Anecdotes</td>\n",
       "      <td>Adrian Berry</td>\n",
       "      <td>1993</td>\n",
       "      <td>Prometheus Books</td>\n",
       "    </tr>\n",
       "    <tr>\n",
       "      <th>270871</th>\n",
       "      <td>0887290523</td>\n",
       "      <td>Langenscheidt's Standard Spanish Dictionary : Spanish/English English/Spanish</td>\n",
       "      <td>C. Smith</td>\n",
       "      <td>1989</td>\n",
       "      <td>Langenscheidt Publishers</td>\n",
       "    </tr>\n",
       "    <tr>\n",
       "      <th>270874</th>\n",
       "      <td>1560250968</td>\n",
       "      <td>Panther: A Novel</td>\n",
       "      <td>Melvin Van Peebles</td>\n",
       "      <td>1995</td>\n",
       "      <td>Pub Group West</td>\n",
       "    </tr>\n",
       "    <tr>\n",
       "      <th>270876</th>\n",
       "      <td>1576106179</td>\n",
       "      <td>HTML Black Book: The Programmer's Complete HTML Reference Book</td>\n",
       "      <td>Steven Holzner</td>\n",
       "      <td>2000</td>\n",
       "      <td>Coriolis Group Books</td>\n",
       "    </tr>\n",
       "    <tr>\n",
       "      <th>270879</th>\n",
       "      <td>4770015240</td>\n",
       "      <td>Child of Fortune</td>\n",
       "      <td>Yuko Tsushima</td>\n",
       "      <td>1992</td>\n",
       "      <td>Kodansha International (JPN)</td>\n",
       "    </tr>\n",
       "    <tr>\n",
       "      <th>270899</th>\n",
       "      <td>0965018512</td>\n",
       "      <td>Secret Windows: Essays and Fiction on the Craft of Writing</td>\n",
       "      <td>Stephen King</td>\n",
       "      <td>2000</td>\n",
       "      <td>Quality Paperback Bookclub</td>\n",
       "    </tr>\n",
       "    <tr>\n",
       "      <th>270955</th>\n",
       "      <td>1561709085</td>\n",
       "      <td>Inner Peace for Busy People: Simple Strategies for Transforming Your Life</td>\n",
       "      <td>Joan, Ph.D. Borysenko</td>\n",
       "      <td>2001</td>\n",
       "      <td>Hay House Audio Books</td>\n",
       "    </tr>\n",
       "    <tr>\n",
       "      <th>271221</th>\n",
       "      <td>0439230209</td>\n",
       "      <td>Raccoons on the Roof (Animal Ark)</td>\n",
       "      <td>Ben M. Baglio</td>\n",
       "      <td>2001</td>\n",
       "      <td>Scholastic</td>\n",
       "    </tr>\n",
       "    <tr>\n",
       "      <th>271239</th>\n",
       "      <td>0451205618</td>\n",
       "      <td>The Banished Bride (Signet Regency Romance)</td>\n",
       "      <td>Andrea Pickens</td>\n",
       "      <td>2002</td>\n",
       "      <td>Signet Book</td>\n",
       "    </tr>\n",
       "    <tr>\n",
       "      <th>271294</th>\n",
       "      <td>0553211994</td>\n",
       "      <td>The Jungle Books and Just So Stories</td>\n",
       "      <td>Kipling Rudyard</td>\n",
       "      <td>1986</td>\n",
       "      <td>Bantam Classics</td>\n",
       "    </tr>\n",
       "    <tr>\n",
       "      <th>271301</th>\n",
       "      <td>0843101083</td>\n",
       "      <td>Off-The-Wall (Mad Libs, No. 6)</td>\n",
       "      <td>Roger Price</td>\n",
       "      <td>1970</td>\n",
       "      <td>Price Stern Sloan</td>\n",
       "    </tr>\n",
       "    <tr>\n",
       "      <th>271308</th>\n",
       "      <td>0395611563</td>\n",
       "      <td>Walking With the Great Apes: Jane Goodall, Dian Fossey, Birute Galdikas</td>\n",
       "      <td>Sy Montgomery</td>\n",
       "      <td>1992</td>\n",
       "      <td>Mariner Books</td>\n",
       "    </tr>\n",
       "    <tr>\n",
       "      <th>271352</th>\n",
       "      <td>1845170423</td>\n",
       "      <td>Cocktail Classics</td>\n",
       "      <td>David Biggs</td>\n",
       "      <td>2004</td>\n",
       "      <td>Connaught</td>\n",
       "    </tr>\n",
       "  </tbody>\n",
       "</table>\n",
       "<p>66574 rows × 5 columns</p>\n",
       "</div>"
      ],
      "text/plain": [
       "              ISBN  \\\n",
       "1       0002005018   \n",
       "3       0374157065   \n",
       "5       0399135782   \n",
       "6       0425176428   \n",
       "7       0671870432   \n",
       "18      0440234743   \n",
       "19      0452264464   \n",
       "20      0609804618   \n",
       "21      1841721522   \n",
       "26      0971880107   \n",
       "27      0345402871   \n",
       "28      0345417623   \n",
       "30      0375759778   \n",
       "31      0425163091   \n",
       "36      0375406328   \n",
       "37      0446310786   \n",
       "38      0449005615   \n",
       "39      0060168013   \n",
       "40      038078243X   \n",
       "43      0061099686   \n",
       "44      0553582909   \n",
       "45      0671888587   \n",
       "46      0553582747   \n",
       "47      0425182908   \n",
       "48      042518630X   \n",
       "49      0440223571   \n",
       "51      0842342702   \n",
       "52      0440225701   \n",
       "53      0060914068   \n",
       "56      0380715899   \n",
       "...            ...   \n",
       "270846  0314012257   \n",
       "270848  0345337921   \n",
       "270849  0394722183   \n",
       "270850  0399505210   \n",
       "270853  0534145329   \n",
       "270854  0553092995   \n",
       "270855  0590404946   \n",
       "270857  0716726041   \n",
       "270860  0804810702   \n",
       "270861  0804813736   \n",
       "270862  0805318801   \n",
       "270863  0805385355   \n",
       "270865  0824811763   \n",
       "270866  0848726286   \n",
       "270867  0867208600   \n",
       "270868  0874849098   \n",
       "270869  0878932445   \n",
       "270870  0879758368   \n",
       "270871  0887290523   \n",
       "270874  1560250968   \n",
       "270876  1576106179   \n",
       "270879  4770015240   \n",
       "270899  0965018512   \n",
       "270955  1561709085   \n",
       "271221  0439230209   \n",
       "271239  0451205618   \n",
       "271294  0553211994   \n",
       "271301  0843101083   \n",
       "271308  0395611563   \n",
       "271352  1845170423   \n",
       "\n",
       "                                                                                                 bookTitle  \\\n",
       "1       Clara Callan                                                                                         \n",
       "3       Flu: The Story of the Great Influenza Pandemic of 1918 and the Search for the Virus That Caused It   \n",
       "5       The Kitchen God's Wife                                                                               \n",
       "6       What If?: The World's Foremost Military Historians Imagine What Might Have Been                      \n",
       "7       PLEADING GUILTY                                                                                      \n",
       "18      The Testament                                                                                        \n",
       "19      Beloved (Plume Contemporary Fiction)                                                                 \n",
       "20      Our Dumb Century: The Onion Presents 100 Years of Headlines from America's Finest News Source        \n",
       "21      New Vegetarian: Bold and Beautiful Recipes for Every Occasion                                        \n",
       "26      Wild Animus                                                                                          \n",
       "27      Airframe                                                                                             \n",
       "28      Timeline                                                                                             \n",
       "30      Prague : A Novel                                                                                     \n",
       "31      Chocolate Jesus                                                                                      \n",
       "36      Lying Awake                                                                                          \n",
       "37      To Kill a Mockingbird                                                                                \n",
       "38      Seabiscuit: An American Legend                                                                       \n",
       "39      Pigs in Heaven                                                                                       \n",
       "40      Miss Zukas and the Raven's Dance                                                                     \n",
       "43      Downtown                                                                                             \n",
       "44      Icebound                                                                                             \n",
       "45      I'll Be Seeing You                                                                                   \n",
       "46      From the Corner of His Eye                                                                           \n",
       "47      Isle of Dogs                                                                                         \n",
       "48      Purity in Death                                                                                      \n",
       "49      This Year It Will Be Different: And Other Stories                                                    \n",
       "51      Left Behind: A Novel of the Earth's Last Days (Left Behind #1)                                       \n",
       "52      The Street Lawyer                                                                                    \n",
       "53      Love, Medicine and Miracles                                                                          \n",
       "56      A Soldier of the Great War                                                                           \n",
       "...                            ...                                                                           \n",
       "270846  Human Physiology: From Cells to Systems                                                              \n",
       "270848  Jewels in the Dark                                                                                   \n",
       "270849  Masks                                                                                                \n",
       "270850  Some Prefer Nettles                                                                                  \n",
       "270853  Single Variable Calculus                                                                             \n",
       "270854  Lady of the Trillium                                                                                 \n",
       "270855  The little gymnast                                                                                   \n",
       "270857  An Introduction to Genetic Analysis                                                                  \n",
       "270860  Wild Geese                                                                                           \n",
       "270861  Kanji and Kana: A Handbook and Dictionary of the Japanese Writing System                             \n",
       "270862  Biology (Benjamin/Cummings Series in the Life Sciences)                                              \n",
       "270863  Microbiology : An Introduction (6th Ed) (Windows 95 only)                                            \n",
       "270865  Confessions of Love                                                                                  \n",
       "270866  Cooking Light Superfast Suppers: Speedy Solutions for Dinner Dilemmas (Cooking Light)                \n",
       "270867  Essentials of Molecular Biology                                                                      \n",
       "270868  Discovering Anthropology                                                                             \n",
       "270869  Developmental Biology                                                                                \n",
       "270870  The Book of Scientific Anecdotes                                                                     \n",
       "270871  Langenscheidt's Standard Spanish Dictionary : Spanish/English English/Spanish                        \n",
       "270874  Panther: A Novel                                                                                     \n",
       "270876  HTML Black Book: The Programmer's Complete HTML Reference Book                                       \n",
       "270879  Child of Fortune                                                                                     \n",
       "270899  Secret Windows: Essays and Fiction on the Craft of Writing                                           \n",
       "270955  Inner Peace for Busy People: Simple Strategies for Transforming Your Life                            \n",
       "271221  Raccoons on the Roof (Animal Ark)                                                                    \n",
       "271239  The Banished Bride (Signet Regency Romance)                                                          \n",
       "271294  The Jungle Books and Just So Stories                                                                 \n",
       "271301  Off-The-Wall (Mad Libs, No. 6)                                                                       \n",
       "271308  Walking With the Great Apes: Jane Goodall, Dian Fossey, Birute Galdikas                              \n",
       "271352  Cocktail Classics                                                                                    \n",
       "\n",
       "                     bookAuthor  yearOfPublication  \\\n",
       "1       Richard Bruce Wright     2001                \n",
       "3       Gina Bari Kolata         1999                \n",
       "5       Amy Tan                  1991                \n",
       "6       Robert Cowley            2000                \n",
       "7       Scott Turow              1993                \n",
       "18      John Grisham             1999                \n",
       "19      Toni Morrison            1994                \n",
       "20      The Onion                1999                \n",
       "21      Celia Brooks Brown       2001                \n",
       "26      Rich Shapero             2004                \n",
       "27      Michael Crichton         1997                \n",
       "28      MICHAEL CRICHTON         2000                \n",
       "30      ARTHUR PHILLIPS          2003                \n",
       "31      Stephan Jaramillo        1998                \n",
       "36      Mark Salzman             2000                \n",
       "37      Harper Lee               1988                \n",
       "38      LAURA HILLENBRAND        2002                \n",
       "39      Barbara Kingsolver       1993                \n",
       "40      Jo Dereske               1996                \n",
       "43      Anne Rivers Siddons      1995                \n",
       "44      Dean R. Koontz           2000                \n",
       "45      Mary Higgins Clark       1994                \n",
       "46      Dean Koontz              2001                \n",
       "47      Patricia Cornwell        2002                \n",
       "48      J.D. Robb                2002                \n",
       "49      Maeve Binchy             1997                \n",
       "51      Tim Lahaye               2000                \n",
       "52      JOHN GRISHAM             1999                \n",
       "53      M.D. Bernie S. Siegel    1988                \n",
       "56      Mark Helprin             1992                \n",
       "...              ...              ...                \n",
       "270846  Lauralee Sherwood        1992                \n",
       "270848  Rusty Hallock            1986                \n",
       "270849  Fumiko Enchi             1983                \n",
       "270850  Junichiro Tanizaki       1981                \n",
       "270853  James Stewart            1991                \n",
       "270854  Marion Zimmer Bradley    1995                \n",
       "270855  Sheila Haigh             1987                \n",
       "270857  Anthony J. F. Griffiths  1996                \n",
       "270860  Ogai Mori                1974                \n",
       "270861  Wolfgang Hadamitzky      1982                \n",
       "270862  Neil A. Campbell         1993                \n",
       "270863  Gerard J. Tortora        1997                \n",
       "270865  Uno Chiyo                1989                \n",
       "270866  Anne C. Cain             2003                \n",
       "270867  George M. Malacinski     1998                \n",
       "270868  Daniel  Gross            1992                \n",
       "270869  Scott F. Gilbert         1997                \n",
       "270870  Adrian Berry             1993                \n",
       "270871  C. Smith                 1989                \n",
       "270874  Melvin Van Peebles       1995                \n",
       "270876  Steven Holzner           2000                \n",
       "270879  Yuko Tsushima            1992                \n",
       "270899  Stephen King             2000                \n",
       "270955  Joan, Ph.D. Borysenko    2001                \n",
       "271221  Ben M. Baglio            2001                \n",
       "271239  Andrea Pickens           2002                \n",
       "271294  Kipling Rudyard          1986                \n",
       "271301  Roger Price              1970                \n",
       "271308  Sy Montgomery            1992                \n",
       "271352  David Biggs              2004                \n",
       "\n",
       "                                               publisher  \n",
       "1       HarperFlamingo Canada                             \n",
       "3       Farrar Straus Giroux                              \n",
       "5       Putnam Pub Group                                  \n",
       "6       Berkley Publishing Group                          \n",
       "7       Audioworks                                        \n",
       "18      Dell                                              \n",
       "19      Plume                                             \n",
       "20      Three Rivers Press                                \n",
       "21      Ryland Peters &amp; Small Ltd                     \n",
       "26      Too Far                                           \n",
       "27      Ballantine Books                                  \n",
       "28      Ballantine Books                                  \n",
       "30      Random House Trade Paperbacks                     \n",
       "31      Berkley Publishing Group                          \n",
       "36      Alfred A. Knopf                                   \n",
       "37      Little Brown &amp; Company                        \n",
       "38      Ballantine Books                                  \n",
       "39      Harpercollins                                     \n",
       "40      Avon                                              \n",
       "43      HarperTorch                                       \n",
       "44      Bantam Books                                      \n",
       "45      Pocket                                            \n",
       "46      Bantam Books                                      \n",
       "47      Berkley Publishing Group                          \n",
       "48      Berkley Publishing Group                          \n",
       "49      Dell                                              \n",
       "51      Tyndale House Publishers                          \n",
       "52      Dell                                              \n",
       "53      HarperCollins Publishers                          \n",
       "56      Avon Books                                        \n",
       "...            ...                                        \n",
       "270846  West Publishing Company                           \n",
       "270848  Ballantine Books                                  \n",
       "270849  Vintage Books USA                                 \n",
       "270850  Berkley Pub Group                                 \n",
       "270853  Brooks/Cole Publishing Company                    \n",
       "270854  Bantam Books                                      \n",
       "270855  Scholastic Inc                                    \n",
       "270857  W.H. Freeman &amp; Company                        \n",
       "270860  Tuttle Publishing                                 \n",
       "270861  Tuttle Pub                                        \n",
       "270862  Addison-Wesley Pub Co                             \n",
       "270863  Addison Wesley Publishing Company                 \n",
       "270865  University of Hawaii Press                        \n",
       "270866  Oxmoor House                                      \n",
       "270867  Jones &amp; Bartlett Publishers                   \n",
       "270868  McGraw-Hill Humanities/Social Sciences/Languages  \n",
       "270869  J. A. Majors Company                              \n",
       "270870  Prometheus Books                                  \n",
       "270871  Langenscheidt Publishers                          \n",
       "270874  Pub Group West                                    \n",
       "270876  Coriolis Group Books                              \n",
       "270879  Kodansha International (JPN)                      \n",
       "270899  Quality Paperback Bookclub                        \n",
       "270955  Hay House Audio Books                             \n",
       "271221  Scholastic                                        \n",
       "271239  Signet Book                                       \n",
       "271294  Bantam Classics                                   \n",
       "271301  Price Stern Sloan                                 \n",
       "271308  Mariner Books                                     \n",
       "271352  Connaught                                         \n",
       "\n",
       "[66574 rows x 5 columns]"
      ]
     },
     "execution_count": 97,
     "metadata": {},
     "output_type": "execute_result"
    }
   ],
   "source": [
    "books[books['ISBN'].isin(ratings_matrix.columns)]"
   ]
  },
  {
   "cell_type": "code",
   "execution_count": 98,
   "metadata": {
    "colab": {
     "base_uri": "https://localhost:8080/",
     "height": 958
    },
    "colab_type": "code",
    "id": "SpZrK6ouVvyQ",
    "outputId": "1c6554d0-31ff-42ad-f459-c3f912589209"
   },
   "outputs": [
    {
     "data": {
      "text/html": [
       "<div>\n",
       "<style scoped>\n",
       "    .dataframe tbody tr th:only-of-type {\n",
       "        vertical-align: middle;\n",
       "    }\n",
       "\n",
       "    .dataframe tbody tr th {\n",
       "        vertical-align: top;\n",
       "    }\n",
       "\n",
       "    .dataframe thead th {\n",
       "        text-align: right;\n",
       "    }\n",
       "</style>\n",
       "<table border=\"1\" class=\"dataframe\">\n",
       "  <thead>\n",
       "    <tr style=\"text-align: right;\">\n",
       "      <th></th>\n",
       "      <th>ISBN</th>\n",
       "      <th>bookTitle</th>\n",
       "      <th>bookAuthor</th>\n",
       "      <th>yearOfPublication</th>\n",
       "      <th>publisher</th>\n",
       "      <th>RecommendationScore</th>\n",
       "    </tr>\n",
       "  </thead>\n",
       "  <tbody>\n",
       "    <tr>\n",
       "      <th>21100</th>\n",
       "      <td>0373194870</td>\n",
       "      <td>Hunter'S Vow (Silhouette Romance, No 1487)</td>\n",
       "      <td>Susan Meier</td>\n",
       "      <td>2000</td>\n",
       "      <td>Silhouette</td>\n",
       "      <td>0.135287</td>\n",
       "    </tr>\n",
       "    <tr>\n",
       "      <th>43632</th>\n",
       "      <td>0743250508</td>\n",
       "      <td>Fire Flight : A Novel (Nance, John J)</td>\n",
       "      <td>John Nance</td>\n",
       "      <td>2003</td>\n",
       "      <td>Simon &amp;amp; Schuster</td>\n",
       "      <td>0.096651</td>\n",
       "    </tr>\n",
       "    <tr>\n",
       "      <th>56701</th>\n",
       "      <td>0553563327</td>\n",
       "      <td>Thief of Hearts</td>\n",
       "      <td>TERESA MEDEIROS</td>\n",
       "      <td>1994</td>\n",
       "      <td>Bantam</td>\n",
       "      <td>0.091955</td>\n",
       "    </tr>\n",
       "    <tr>\n",
       "      <th>24490</th>\n",
       "      <td>0553268074</td>\n",
       "      <td>Beet Queen</td>\n",
       "      <td>Louise Erdrich</td>\n",
       "      <td>1987</td>\n",
       "      <td>Bantam Doubleday Dell</td>\n",
       "      <td>0.088669</td>\n",
       "    </tr>\n",
       "    <tr>\n",
       "      <th>61338</th>\n",
       "      <td>0373226152</td>\n",
       "      <td>Conception Cover-Up (Top Secret Babies) (Harlequin Intrigue, No 615)</td>\n",
       "      <td>Karen Barrett</td>\n",
       "      <td>2001</td>\n",
       "      <td>Harlequin</td>\n",
       "      <td>0.088669</td>\n",
       "    </tr>\n",
       "    <tr>\n",
       "      <th>56146</th>\n",
       "      <td>1551668955</td>\n",
       "      <td>Too Hot to Handle</td>\n",
       "      <td>Elizabeth Lowell</td>\n",
       "      <td>2002</td>\n",
       "      <td>Mira</td>\n",
       "      <td>0.086274</td>\n",
       "    </tr>\n",
       "    <tr>\n",
       "      <th>100527</th>\n",
       "      <td>8420482536</td>\n",
       "      <td>Amantes y Enemigos: Cuentos de Parejas</td>\n",
       "      <td>Rosa Montero</td>\n",
       "      <td>1998</td>\n",
       "      <td>Schoenhof Foreign Books Inc</td>\n",
       "      <td>0.079805</td>\n",
       "    </tr>\n",
       "    <tr>\n",
       "      <th>56305</th>\n",
       "      <td>0061010235</td>\n",
       "      <td>Veritas</td>\n",
       "      <td>William Lashner</td>\n",
       "      <td>1997</td>\n",
       "      <td>Regan Books</td>\n",
       "      <td>0.076562</td>\n",
       "    </tr>\n",
       "    <tr>\n",
       "      <th>17227</th>\n",
       "      <td>0373031424</td>\n",
       "      <td>Lovespell (Harlequin Romance, No 3142)</td>\n",
       "      <td>Jennifer Taylor</td>\n",
       "      <td>1991</td>\n",
       "      <td>Harlequin</td>\n",
       "      <td>0.075508</td>\n",
       "    </tr>\n",
       "    <tr>\n",
       "      <th>56283</th>\n",
       "      <td>1888451416</td>\n",
       "      <td>Southland</td>\n",
       "      <td>Nina Revoyr</td>\n",
       "      <td>2003</td>\n",
       "      <td>Akashic Books</td>\n",
       "      <td>0.072091</td>\n",
       "    </tr>\n",
       "    <tr>\n",
       "      <th>128237</th>\n",
       "      <td>0970622511</td>\n",
       "      <td>Hamlet Dreams</td>\n",
       "      <td>Jennifer Barlow</td>\n",
       "      <td>2001</td>\n",
       "      <td>Aardwolf Publishing</td>\n",
       "      <td>0.070110</td>\n",
       "    </tr>\n",
       "    <tr>\n",
       "      <th>57774</th>\n",
       "      <td>0553506501</td>\n",
       "      <td>Bound Feet and Western Dress</td>\n",
       "      <td>Pang Mei Chang</td>\n",
       "      <td>1994</td>\n",
       "      <td>Bantam Doubleday Dell</td>\n",
       "      <td>0.068497</td>\n",
       "    </tr>\n",
       "    <tr>\n",
       "      <th>65538</th>\n",
       "      <td>0525246940</td>\n",
       "      <td>Theo and Me: Growing Up Ok</td>\n",
       "      <td>Malcolm-Jamal Warner</td>\n",
       "      <td>1988</td>\n",
       "      <td>Penguin USA</td>\n",
       "      <td>0.067547</td>\n",
       "    </tr>\n",
       "    <tr>\n",
       "      <th>57785</th>\n",
       "      <td>044921978X</td>\n",
       "      <td>The Gift of Asher Lev</td>\n",
       "      <td>Chaim Potok</td>\n",
       "      <td>1991</td>\n",
       "      <td>Fawcett Books</td>\n",
       "      <td>0.067547</td>\n",
       "    </tr>\n",
       "    <tr>\n",
       "      <th>56147</th>\n",
       "      <td>0380799375</td>\n",
       "      <td>Baby Love</td>\n",
       "      <td>Catherine Anderson</td>\n",
       "      <td>1999</td>\n",
       "      <td>Avon</td>\n",
       "      <td>0.066298</td>\n",
       "    </tr>\n",
       "    <tr>\n",
       "      <th>23792</th>\n",
       "      <td>0449912639</td>\n",
       "      <td>Girls : A Novel (Ballantine Reader's Circle)</td>\n",
       "      <td>FREDERICK BUSCH</td>\n",
       "      <td>1998</td>\n",
       "      <td>Ballantine Books</td>\n",
       "      <td>0.063566</td>\n",
       "    </tr>\n",
       "    <tr>\n",
       "      <th>120251</th>\n",
       "      <td>2266075829</td>\n",
       "      <td>Lila Dit Ca</td>\n",
       "      <td>Chimo</td>\n",
       "      <td>1994</td>\n",
       "      <td>Pocket</td>\n",
       "      <td>0.061226</td>\n",
       "    </tr>\n",
       "    <tr>\n",
       "      <th>11374</th>\n",
       "      <td>044021212X</td>\n",
       "      <td>A Candidate for Murder</td>\n",
       "      <td>Joan Lowery Nixon</td>\n",
       "      <td>1992</td>\n",
       "      <td>Laure Leaf</td>\n",
       "      <td>0.060939</td>\n",
       "    </tr>\n",
       "    <tr>\n",
       "      <th>3656</th>\n",
       "      <td>0380699176</td>\n",
       "      <td>100 Great Fantasy Short, Short Stories</td>\n",
       "      <td>Isaac Asimov</td>\n",
       "      <td>1987</td>\n",
       "      <td>Harper Mass Market Paperbacks (Mm)</td>\n",
       "      <td>0.060654</td>\n",
       "    </tr>\n",
       "    <tr>\n",
       "      <th>57841</th>\n",
       "      <td>0373260547</td>\n",
       "      <td>Murder At The Blue Owl</td>\n",
       "      <td>Lee Martin</td>\n",
       "      <td>1990</td>\n",
       "      <td>Worldwide Library</td>\n",
       "      <td>0.060087</td>\n",
       "    </tr>\n",
       "  </tbody>\n",
       "</table>\n",
       "</div>"
      ],
      "text/plain": [
       "              ISBN  \\\n",
       "21100   0373194870   \n",
       "43632   0743250508   \n",
       "56701   0553563327   \n",
       "24490   0553268074   \n",
       "61338   0373226152   \n",
       "56146   1551668955   \n",
       "100527  8420482536   \n",
       "56305   0061010235   \n",
       "17227   0373031424   \n",
       "56283   1888451416   \n",
       "128237  0970622511   \n",
       "57774   0553506501   \n",
       "65538   0525246940   \n",
       "57785   044921978X   \n",
       "56147   0380799375   \n",
       "23792   0449912639   \n",
       "120251  2266075829   \n",
       "11374   044021212X   \n",
       "3656    0380699176   \n",
       "57841   0373260547   \n",
       "\n",
       "                                                                   bookTitle  \\\n",
       "21100   Hunter'S Vow (Silhouette Romance, No 1487)                             \n",
       "43632   Fire Flight : A Novel (Nance, John J)                                  \n",
       "56701   Thief of Hearts                                                        \n",
       "24490   Beet Queen                                                             \n",
       "61338   Conception Cover-Up (Top Secret Babies) (Harlequin Intrigue, No 615)   \n",
       "56146   Too Hot to Handle                                                      \n",
       "100527  Amantes y Enemigos: Cuentos de Parejas                                 \n",
       "56305   Veritas                                                                \n",
       "17227   Lovespell (Harlequin Romance, No 3142)                                 \n",
       "56283   Southland                                                              \n",
       "128237  Hamlet Dreams                                                          \n",
       "57774   Bound Feet and Western Dress                                           \n",
       "65538   Theo and Me: Growing Up Ok                                             \n",
       "57785   The Gift of Asher Lev                                                  \n",
       "56147   Baby Love                                                              \n",
       "23792   Girls : A Novel (Ballantine Reader's Circle)                           \n",
       "120251  Lila Dit Ca                                                            \n",
       "11374   A Candidate for Murder                                                 \n",
       "3656    100 Great Fantasy Short, Short Stories                                 \n",
       "57841   Murder At The Blue Owl                                                 \n",
       "\n",
       "                  bookAuthor  yearOfPublication  \\\n",
       "21100   Susan Meier           2000                \n",
       "43632   John Nance            2003                \n",
       "56701   TERESA MEDEIROS       1994                \n",
       "24490   Louise Erdrich        1987                \n",
       "61338   Karen Barrett         2001                \n",
       "56146   Elizabeth Lowell      2002                \n",
       "100527  Rosa Montero          1998                \n",
       "56305   William Lashner       1997                \n",
       "17227   Jennifer Taylor       1991                \n",
       "56283   Nina Revoyr           2003                \n",
       "128237  Jennifer Barlow       2001                \n",
       "57774   Pang Mei Chang        1994                \n",
       "65538   Malcolm-Jamal Warner  1988                \n",
       "57785   Chaim Potok           1991                \n",
       "56147   Catherine Anderson    1999                \n",
       "23792   FREDERICK BUSCH       1998                \n",
       "120251  Chimo                 1994                \n",
       "11374   Joan Lowery Nixon     1992                \n",
       "3656    Isaac Asimov          1987                \n",
       "57841   Lee Martin            1990                \n",
       "\n",
       "                                 publisher  RecommendationScore  \n",
       "21100   Silhouette                          0.135287             \n",
       "43632   Simon &amp; Schuster                0.096651             \n",
       "56701   Bantam                              0.091955             \n",
       "24490   Bantam Doubleday Dell               0.088669             \n",
       "61338   Harlequin                           0.088669             \n",
       "56146   Mira                                0.086274             \n",
       "100527  Schoenhof Foreign Books Inc         0.079805             \n",
       "56305   Regan Books                         0.076562             \n",
       "17227   Harlequin                           0.075508             \n",
       "56283   Akashic Books                       0.072091             \n",
       "128237  Aardwolf Publishing                 0.070110             \n",
       "57774   Bantam Doubleday Dell               0.068497             \n",
       "65538   Penguin USA                         0.067547             \n",
       "57785   Fawcett Books                       0.067547             \n",
       "56147   Avon                                0.066298             \n",
       "23792   Ballantine Books                    0.063566             \n",
       "120251  Pocket                              0.061226             \n",
       "11374   Laure Leaf                          0.060939             \n",
       "3656    Harper Mass Market Paperbacks (Mm)  0.060654             \n",
       "57841   Worldwide Library                   0.060087             "
      ]
     },
     "execution_count": 98,
     "metadata": {},
     "output_type": "execute_result"
    }
   ],
   "source": [
    "scored_movies_df_mock = books[books['ISBN'].isin(ratings_matrix.columns)]\n",
    "scored_movies_df_mock = scored_movies_df_mock.assign(RecommendationScore = rec[0][0:len(scored_movies_df_mock)])\n",
    "scored_movies_df_mock.sort_values([\"RecommendationScore\"], ascending=False).head(20)"
   ]
  },
  {
   "cell_type": "code",
   "execution_count": 99,
   "metadata": {
    "colab": {
     "base_uri": "https://localhost:8080/",
     "height": 68
    },
    "colab_type": "code",
    "id": "3LF2are8WhRa",
    "outputId": "5bc88cfd-6c2e-4f6b-adf4-4aa7e5a05721"
   },
   "outputs": [
    {
     "data": {
      "text/plain": [
       "Index(['ISBN', 'bookTitle', 'bookAuthor', 'yearOfPublication', 'publisher',\n",
       "       'RecommendationScore'],\n",
       "      dtype='object')"
      ]
     },
     "execution_count": 99,
     "metadata": {},
     "output_type": "execute_result"
    }
   ],
   "source": [
    "scored_movies_df_mock.columns"
   ]
  },
  {
   "cell_type": "code",
   "execution_count": 100,
   "metadata": {
    "colab": {
     "base_uri": "https://localhost:8080/",
     "height": 204
    },
    "colab_type": "code",
    "id": "Wl0vn0ubWHyf",
    "outputId": "7c92d1aa-06a4-49d7-91ea-7926557c7d7a"
   },
   "outputs": [
    {
     "data": {
      "text/html": [
       "<div>\n",
       "<style scoped>\n",
       "    .dataframe tbody tr th:only-of-type {\n",
       "        vertical-align: middle;\n",
       "    }\n",
       "\n",
       "    .dataframe tbody tr th {\n",
       "        vertical-align: top;\n",
       "    }\n",
       "\n",
       "    .dataframe thead th {\n",
       "        text-align: right;\n",
       "    }\n",
       "</style>\n",
       "<table border=\"1\" class=\"dataframe\">\n",
       "  <thead>\n",
       "    <tr style=\"text-align: right;\">\n",
       "      <th></th>\n",
       "      <th>userID</th>\n",
       "      <th>ISBN</th>\n",
       "      <th>bookRating</th>\n",
       "    </tr>\n",
       "  </thead>\n",
       "  <tbody>\n",
       "    <tr>\n",
       "      <th>21688</th>\n",
       "      <td>4385</td>\n",
       "      <td>0061042331</td>\n",
       "      <td>0</td>\n",
       "    </tr>\n",
       "    <tr>\n",
       "      <th>21689</th>\n",
       "      <td>4385</td>\n",
       "      <td>0061083402</td>\n",
       "      <td>10</td>\n",
       "    </tr>\n",
       "    <tr>\n",
       "      <th>21690</th>\n",
       "      <td>4385</td>\n",
       "      <td>0061083577</td>\n",
       "      <td>0</td>\n",
       "    </tr>\n",
       "    <tr>\n",
       "      <th>21691</th>\n",
       "      <td>4385</td>\n",
       "      <td>0061093343</td>\n",
       "      <td>9</td>\n",
       "    </tr>\n",
       "    <tr>\n",
       "      <th>21692</th>\n",
       "      <td>4385</td>\n",
       "      <td>0061096156</td>\n",
       "      <td>10</td>\n",
       "    </tr>\n",
       "  </tbody>\n",
       "</table>\n",
       "</div>"
      ],
      "text/plain": [
       "       userID        ISBN  bookRating\n",
       "21688  4385    0061042331  0         \n",
       "21689  4385    0061083402  10        \n",
       "21690  4385    0061083577  0         \n",
       "21691  4385    0061093343  9         \n",
       "21692  4385    0061096156  10        "
      ]
     },
     "execution_count": 100,
     "metadata": {},
     "output_type": "execute_result"
    }
   ],
   "source": [
    "books_df_mock = ratings[ratings['userID'] == mock_user_id]\n",
    "books_df_mock.head() "
   ]
  },
  {
   "cell_type": "code",
   "execution_count": 101,
   "metadata": {
    "colab": {},
    "colab_type": "code",
    "id": "Mp5l3Py0WVK6"
   },
   "outputs": [],
   "source": [
    "merged_df_mock = scored_movies_df_mock.merge(books_df_mock, on='ISBN', how='outer')"
   ]
  },
  {
   "cell_type": "code",
   "execution_count": 102,
   "metadata": {
    "colab": {},
    "colab_type": "code",
    "id": "KrfGev4gWYwH"
   },
   "outputs": [],
   "source": [
    "merged_df_mock=merged_df_mock[['ISBN', 'bookTitle', 'bookAuthor', 'yearOfPublication', 'publisher',\n",
    "       'RecommendationScore']]"
   ]
  },
  {
   "cell_type": "code",
   "execution_count": 103,
   "metadata": {
    "colab": {
     "base_uri": "https://localhost:8080/",
     "height": 529
    },
    "colab_type": "code",
    "id": "65sDJzCHWvGm",
    "outputId": "a70e006f-f17c-4819-b815-2d4dd7c09a94"
   },
   "outputs": [
    {
     "data": {
      "text/html": [
       "<div>\n",
       "<style scoped>\n",
       "    .dataframe tbody tr th:only-of-type {\n",
       "        vertical-align: middle;\n",
       "    }\n",
       "\n",
       "    .dataframe tbody tr th {\n",
       "        vertical-align: top;\n",
       "    }\n",
       "\n",
       "    .dataframe thead th {\n",
       "        text-align: right;\n",
       "    }\n",
       "</style>\n",
       "<table border=\"1\" class=\"dataframe\">\n",
       "  <thead>\n",
       "    <tr style=\"text-align: right;\">\n",
       "      <th></th>\n",
       "      <th>ISBN</th>\n",
       "      <th>bookTitle</th>\n",
       "      <th>bookAuthor</th>\n",
       "      <th>yearOfPublication</th>\n",
       "      <th>publisher</th>\n",
       "      <th>RecommendationScore</th>\n",
       "    </tr>\n",
       "  </thead>\n",
       "  <tbody>\n",
       "    <tr>\n",
       "      <th>10345</th>\n",
       "      <td>0373194870</td>\n",
       "      <td>Hunter'S Vow (Silhouette Romance, No 1487)</td>\n",
       "      <td>Susan Meier</td>\n",
       "      <td>2000.0</td>\n",
       "      <td>Silhouette</td>\n",
       "      <td>0.135287</td>\n",
       "    </tr>\n",
       "    <tr>\n",
       "      <th>19630</th>\n",
       "      <td>0743250508</td>\n",
       "      <td>Fire Flight : A Novel (Nance, John J)</td>\n",
       "      <td>John Nance</td>\n",
       "      <td>2003.0</td>\n",
       "      <td>Simon &amp;amp; Schuster</td>\n",
       "      <td>0.096651</td>\n",
       "    </tr>\n",
       "    <tr>\n",
       "      <th>23462</th>\n",
       "      <td>0553563327</td>\n",
       "      <td>Thief of Hearts</td>\n",
       "      <td>TERESA MEDEIROS</td>\n",
       "      <td>1994.0</td>\n",
       "      <td>Bantam</td>\n",
       "      <td>0.091955</td>\n",
       "    </tr>\n",
       "    <tr>\n",
       "      <th>11783</th>\n",
       "      <td>0553268074</td>\n",
       "      <td>Beet Queen</td>\n",
       "      <td>Louise Erdrich</td>\n",
       "      <td>1987.0</td>\n",
       "      <td>Bantam Doubleday Dell</td>\n",
       "      <td>0.088669</td>\n",
       "    </tr>\n",
       "    <tr>\n",
       "      <th>25396</th>\n",
       "      <td>0373226152</td>\n",
       "      <td>Conception Cover-Up (Top Secret Babies) (Harlequin Intrigue, No 615)</td>\n",
       "      <td>Karen Barrett</td>\n",
       "      <td>2001.0</td>\n",
       "      <td>Harlequin</td>\n",
       "      <td>0.088669</td>\n",
       "    </tr>\n",
       "    <tr>\n",
       "      <th>23307</th>\n",
       "      <td>1551668955</td>\n",
       "      <td>Too Hot to Handle</td>\n",
       "      <td>Elizabeth Lowell</td>\n",
       "      <td>2002.0</td>\n",
       "      <td>Mira</td>\n",
       "      <td>0.086274</td>\n",
       "    </tr>\n",
       "    <tr>\n",
       "      <th>35086</th>\n",
       "      <td>8420482536</td>\n",
       "      <td>Amantes y Enemigos: Cuentos de Parejas</td>\n",
       "      <td>Rosa Montero</td>\n",
       "      <td>1998.0</td>\n",
       "      <td>Schoenhof Foreign Books Inc</td>\n",
       "      <td>0.079805</td>\n",
       "    </tr>\n",
       "    <tr>\n",
       "      <th>23356</th>\n",
       "      <td>0061010235</td>\n",
       "      <td>Veritas</td>\n",
       "      <td>William Lashner</td>\n",
       "      <td>1997.0</td>\n",
       "      <td>Regan Books</td>\n",
       "      <td>0.076562</td>\n",
       "    </tr>\n",
       "    <tr>\n",
       "      <th>8160</th>\n",
       "      <td>0373031424</td>\n",
       "      <td>Lovespell (Harlequin Romance, No 3142)</td>\n",
       "      <td>Jennifer Taylor</td>\n",
       "      <td>1991.0</td>\n",
       "      <td>Harlequin</td>\n",
       "      <td>0.075508</td>\n",
       "    </tr>\n",
       "    <tr>\n",
       "      <th>23350</th>\n",
       "      <td>1888451416</td>\n",
       "      <td>Southland</td>\n",
       "      <td>Nina Revoyr</td>\n",
       "      <td>2003.0</td>\n",
       "      <td>Akashic Books</td>\n",
       "      <td>0.072091</td>\n",
       "    </tr>\n",
       "  </tbody>\n",
       "</table>\n",
       "</div>"
      ],
      "text/plain": [
       "             ISBN  \\\n",
       "10345  0373194870   \n",
       "19630  0743250508   \n",
       "23462  0553563327   \n",
       "11783  0553268074   \n",
       "25396  0373226152   \n",
       "23307  1551668955   \n",
       "35086  8420482536   \n",
       "23356  0061010235   \n",
       "8160   0373031424   \n",
       "23350  1888451416   \n",
       "\n",
       "                                                                  bookTitle  \\\n",
       "10345  Hunter'S Vow (Silhouette Romance, No 1487)                             \n",
       "19630  Fire Flight : A Novel (Nance, John J)                                  \n",
       "23462  Thief of Hearts                                                        \n",
       "11783  Beet Queen                                                             \n",
       "25396  Conception Cover-Up (Top Secret Babies) (Harlequin Intrigue, No 615)   \n",
       "23307  Too Hot to Handle                                                      \n",
       "35086  Amantes y Enemigos: Cuentos de Parejas                                 \n",
       "23356  Veritas                                                                \n",
       "8160   Lovespell (Harlequin Romance, No 3142)                                 \n",
       "23350  Southland                                                              \n",
       "\n",
       "             bookAuthor  yearOfPublication                    publisher  \\\n",
       "10345  Susan Meier       2000.0             Silhouette                    \n",
       "19630  John Nance        2003.0             Simon &amp; Schuster          \n",
       "23462  TERESA MEDEIROS   1994.0             Bantam                        \n",
       "11783  Louise Erdrich    1987.0             Bantam Doubleday Dell         \n",
       "25396  Karen Barrett     2001.0             Harlequin                     \n",
       "23307  Elizabeth Lowell  2002.0             Mira                          \n",
       "35086  Rosa Montero      1998.0             Schoenhof Foreign Books Inc   \n",
       "23356  William Lashner   1997.0             Regan Books                   \n",
       "8160   Jennifer Taylor   1991.0             Harlequin                     \n",
       "23350  Nina Revoyr       2003.0             Akashic Books                 \n",
       "\n",
       "       RecommendationScore  \n",
       "10345  0.135287             \n",
       "19630  0.096651             \n",
       "23462  0.091955             \n",
       "11783  0.088669             \n",
       "25396  0.088669             \n",
       "23307  0.086274             \n",
       "35086  0.079805             \n",
       "23356  0.076562             \n",
       "8160   0.075508             \n",
       "23350  0.072091             "
      ]
     },
     "execution_count": 103,
     "metadata": {},
     "output_type": "execute_result"
    }
   ],
   "source": [
    "merged_df_mock.sort_values([\"RecommendationScore\"], ascending=False).head(10)"
   ]
  },
  {
   "cell_type": "code",
   "execution_count": 105,
   "metadata": {},
   "outputs": [],
   "source": [
    "class HybridAlgorithm(AlgoBase):\n",
    "\n",
    "    def __init__(self, algorithms, weights, sim_options={}):\n",
    "        AlgoBase.__init__(self)\n",
    "        self.algorithms = algorithms\n",
    "        self.weights = weights\n",
    "\n",
    "    def fit(self, trainset):\n",
    "        AlgoBase.fit(self, trainset)\n",
    "        \n",
    "        for algorithm in self.algorithms:\n",
    "            algorithm.fit(trainset)\n",
    "                \n",
    "        return self\n",
    "\n",
    "    def estimate(self, u, i):\n",
    "        \n",
    "        sumScores = 0\n",
    "        sumWeights = 0\n",
    "        \n",
    "        for idx in range(len(self.algorithms)):\n",
    "            sumScores += self.algorithms[idx].estimate(u, i) * self.weights[idx]\n",
    "            sumWeights += self.weights[idx]\n",
    "            \n",
    "        return sumScores / sumWeights"
   ]
  },
  {
   "cell_type": "code",
   "execution_count": 155,
   "metadata": {},
   "outputs": [],
   "source": [
    "class RBM:\n",
    "    def __init__(self,ratings_matrix,hiddenunits=20,alpha=1):\n",
    "        self.hiddenunits = hiddenunits\n",
    "        self.visibleunits = len(ratings_matrix.columns)\n",
    "        self.alpha = alpha\n",
    "    def _create_variables(self):        \n",
    "        self.hb = tf.placeholder(\"float\",[self.hiddenunits])\n",
    "        self.vb = tf.placeholder(\"float\",[self.visibleunits])\n",
    "        self.W = tf.placeholder(\"float\",[self.visibleunits,self.hiddenunits])\n",
    "        self.v0 = tf.placeholder(\"float\",[None,self.visibleunits])\n",
    "    def _create_graph(self):\n",
    "        self._h0 = tf.nn.sigmoid(tf.matmul(self.v0,self.W)+self.hb)\n",
    "        self.h0 = tf.nn.relu(tf.sign(self._h0 - tf.random_uniform(tf.shape(self._h0))))\n",
    "        #Phase 2: Reconstruction\n",
    "        self._v1 = tf.nn.sigmoid(tf.matmul(self.h0, tf.transpose(self.W)) + self.vb) \n",
    "        self.v1 = tf.nn.relu(tf.sign(self._v1 - tf.random_uniform(tf.shape(self._v1))))\n",
    "        self.h1 = tf.nn.sigmoid(tf.matmul(self.v1, self.W) + self.hb)\n",
    "        #Create the gradients\n",
    "        self.w_pos_grad = tf.matmul(tf.transpose(self.v0), self.h0)\n",
    "        self.w_neg_grad = tf.matmul(tf.transpose(self.v1), self.h1)\n",
    "        \n",
    "        #Calculate the Contrastive Divergence to maximize\n",
    "        self.CD = (self.w_pos_grad - self.w_neg_grad) / tf.to_float(tf.shape(self.v0)[0])\n",
    "        #Create methods to update the weights and biases\n",
    "        self.update_w = self.W + self.alpha * self.CD\n",
    "        self.update_vb = self.vb + self.alpha * tf.reduce_mean(self.v0 - self.v1, 0)\n",
    "        self.update_hb = self.hb + self.alpha * tf.reduce_mean(self.h0 - self.h1, 0)\n",
    "        self.err = self.v0 - self.v1\n",
    "        self.err_sum = tf.reduce_mean(self.err * self.err)\n",
    "        self.cur_w = np.zeros([self.visibleunits, self.hiddenunits], np.float32)\n",
    "        self.cur_vb = np.zeros([self.visibleunits], np.float32)\n",
    "        self.cur_hb = np.zeros([self.hiddenunits], np.float32)\n",
    "        self.prv_w = np.zeros([self.visibleunits, self.hiddenunits], np.float32)\n",
    "        self.prv_vb = np.zeros([self.visibleunits], np.float32)\n",
    "        self.prv_hb = np.zeros([self.hiddenunits], np.float32)\n",
    "        \n",
    "    def train(self,epochs=25,batchsize=100):\n",
    "        errors = []\n",
    "        self._create_variables()\n",
    "        self._create_graph()\n",
    "        sess = tf.Session()\n",
    "        sess.run(tf.global_variables_initializer())\n",
    "        for i in range(epochs):\n",
    "            for start, end in zip( range(0, len(matrix), batchsize), range(batchsize, len(matrix), batchsize)):\n",
    "                self.batch = matrix[start:end]\n",
    "                self.cur_w = sess.run(self.update_w, feed_dict={self.v0: self.batch, self.W: self.prv_w, self.vb: self.prv_vb, self.hb: self.prv_hb})\n",
    "                self.cur_vb = sess.run(self.update_vb, feed_dict={self.v0: self.batch, self.W: self.prv_w, self.vb: self.prv_vb, self.hb: self.prv_hb})\n",
    "                self.cur_nb = sess.run(self.update_hb, feed_dict={self.v0: self.batch, self.W: self.prv_w, self.vb: self.prv_vb, self.hb: self.prv_hb})\n",
    "                self.prv_w = self.cur_w\n",
    "                self.prv_vb = self.cur_vb\n",
    "                self.prv_hb = self.cur_hb\n",
    "            errors.append(sess.run(self.err_sum, feed_dict={self.v0: matrix, self.W: self.cur_w, self.vb: self.cur_vb, self.hb: self.cur_hb}))\n",
    "        plt.plot(errors)\n",
    "        plt.ylabel('Error')\n",
    "        plt.xlabel('Epoch')\n",
    "        plt.show()\n",
    "    def recommend(self,userID,wt):\n",
    "        inputUser = matrix[ratings_matrix.index.get_loc(userID)-1].reshape(1, -1)\n",
    "        self.hh0 = tf.nn.sigmoid(tf.matmul(self.v0, self.W) + self.hb)\n",
    "        self.vv1 = tf.nn.sigmoid(tf.matmul(self.hh0, tf.transpose(self.W)) + self.vb)\n",
    "        self.feed = sess.run(self.hh0, feed_dict={ self.v0: inputUser, self.W: self.prv_w, self.hb: self.prv_hb})\n",
    "        self.rec = sess.run(self.vv1, feed_dict={ self.hh0: self.feed, self.W: self.prv_w, self.vb: self.prv_vb})\n",
    "        scored_movies_df_mock = books[books['ISBN'].isin(ratings_matrix.columns)]\n",
    "        scored_movies_df_mock = scored_movies_df_mock.assign(RecommendationScore = rec[0][0:len(scored_movies_df_mock)]*wt)\n",
    "        scored_movies_df_mock.sort_values([\"RecommendationScore\"], ascending=False).head(20)\n",
    "        books_df_mock = ratings[ratings['userID'] == userID]\n",
    "        merged_df_mock = scored_movies_df_mock.merge(books_df_mock, on='ISBN', how='outer')\n",
    "        merged_df_mock=merged_df_mock[['ISBN', 'bookTitle', 'bookAuthor', 'yearOfPublication', 'publisher',\n",
    "       'RecommendationScore']]\n",
    "        return merged_df_mock.sort_values([\"RecommendationScore\"], ascending=False).head(10)\n",
    "        "
   ]
  },
  {
   "cell_type": "code",
   "execution_count": 156,
   "metadata": {},
   "outputs": [],
   "source": [
    "rbm = RBM(ratings_matrix)"
   ]
  },
  {
   "cell_type": "code",
   "execution_count": 157,
   "metadata": {},
   "outputs": [
    {
     "data": {
      "image/png": "[encoded data removed]",
      "text/plain": [
       "<Figure size 432x288 with 1 Axes>"
      ]
     },
     "metadata": {},
     "output_type": "display_data"
    }
   ],
   "source": [
    "rbm.train(epochs=25,batchsize=100)"
   ]
  },
  {
   "cell_type": "code",
   "execution_count": 159,
   "metadata": {},
   "outputs": [
    {
     "data": {
      "text/html": [
       "<div>\n",
       "<style scoped>\n",
       "    .dataframe tbody tr th:only-of-type {\n",
       "        vertical-align: middle;\n",
       "    }\n",
       "\n",
       "    .dataframe tbody tr th {\n",
       "        vertical-align: top;\n",
       "    }\n",
       "\n",
       "    .dataframe thead th {\n",
       "        text-align: right;\n",
       "    }\n",
       "</style>\n",
       "<table border=\"1\" class=\"dataframe\">\n",
       "  <thead>\n",
       "    <tr style=\"text-align: right;\">\n",
       "      <th></th>\n",
       "      <th>ISBN</th>\n",
       "      <th>bookTitle</th>\n",
       "      <th>bookAuthor</th>\n",
       "      <th>yearOfPublication</th>\n",
       "      <th>publisher</th>\n",
       "      <th>RecommendationScore</th>\n",
       "    </tr>\n",
       "  </thead>\n",
       "  <tbody>\n",
       "    <tr>\n",
       "      <th>10345</th>\n",
       "      <td>0373194870</td>\n",
       "      <td>Hunter'S Vow (Silhouette Romance, No 1487)</td>\n",
       "      <td>Susan Meier</td>\n",
       "      <td>2000.0</td>\n",
       "      <td>Silhouette</td>\n",
       "      <td>0.081172</td>\n",
       "    </tr>\n",
       "    <tr>\n",
       "      <th>19630</th>\n",
       "      <td>0743250508</td>\n",
       "      <td>Fire Flight : A Novel (Nance, John J)</td>\n",
       "      <td>John Nance</td>\n",
       "      <td>2003.0</td>\n",
       "      <td>Simon &amp;amp; Schuster</td>\n",
       "      <td>0.057991</td>\n",
       "    </tr>\n",
       "    <tr>\n",
       "      <th>23462</th>\n",
       "      <td>0553563327</td>\n",
       "      <td>Thief of Hearts</td>\n",
       "      <td>TERESA MEDEIROS</td>\n",
       "      <td>1994.0</td>\n",
       "      <td>Bantam</td>\n",
       "      <td>0.055173</td>\n",
       "    </tr>\n",
       "    <tr>\n",
       "      <th>11783</th>\n",
       "      <td>0553268074</td>\n",
       "      <td>Beet Queen</td>\n",
       "      <td>Louise Erdrich</td>\n",
       "      <td>1987.0</td>\n",
       "      <td>Bantam Doubleday Dell</td>\n",
       "      <td>0.053201</td>\n",
       "    </tr>\n",
       "    <tr>\n",
       "      <th>25396</th>\n",
       "      <td>0373226152</td>\n",
       "      <td>Conception Cover-Up (Top Secret Babies) (Harlequin Intrigue, No 615)</td>\n",
       "      <td>Karen Barrett</td>\n",
       "      <td>2001.0</td>\n",
       "      <td>Harlequin</td>\n",
       "      <td>0.053201</td>\n",
       "    </tr>\n",
       "    <tr>\n",
       "      <th>23307</th>\n",
       "      <td>1551668955</td>\n",
       "      <td>Too Hot to Handle</td>\n",
       "      <td>Elizabeth Lowell</td>\n",
       "      <td>2002.0</td>\n",
       "      <td>Mira</td>\n",
       "      <td>0.051765</td>\n",
       "    </tr>\n",
       "    <tr>\n",
       "      <th>35086</th>\n",
       "      <td>8420482536</td>\n",
       "      <td>Amantes y Enemigos: Cuentos de Parejas</td>\n",
       "      <td>Rosa Montero</td>\n",
       "      <td>1998.0</td>\n",
       "      <td>Schoenhof Foreign Books Inc</td>\n",
       "      <td>0.047883</td>\n",
       "    </tr>\n",
       "    <tr>\n",
       "      <th>23356</th>\n",
       "      <td>0061010235</td>\n",
       "      <td>Veritas</td>\n",
       "      <td>William Lashner</td>\n",
       "      <td>1997.0</td>\n",
       "      <td>Regan Books</td>\n",
       "      <td>0.045937</td>\n",
       "    </tr>\n",
       "    <tr>\n",
       "      <th>8160</th>\n",
       "      <td>0373031424</td>\n",
       "      <td>Lovespell (Harlequin Romance, No 3142)</td>\n",
       "      <td>Jennifer Taylor</td>\n",
       "      <td>1991.0</td>\n",
       "      <td>Harlequin</td>\n",
       "      <td>0.045305</td>\n",
       "    </tr>\n",
       "    <tr>\n",
       "      <th>23350</th>\n",
       "      <td>1888451416</td>\n",
       "      <td>Southland</td>\n",
       "      <td>Nina Revoyr</td>\n",
       "      <td>2003.0</td>\n",
       "      <td>Akashic Books</td>\n",
       "      <td>0.043255</td>\n",
       "    </tr>\n",
       "  </tbody>\n",
       "</table>\n",
       "</div>"
      ],
      "text/plain": [
       "             ISBN  \\\n",
       "10345  0373194870   \n",
       "19630  0743250508   \n",
       "23462  0553563327   \n",
       "11783  0553268074   \n",
       "25396  0373226152   \n",
       "23307  1551668955   \n",
       "35086  8420482536   \n",
       "23356  0061010235   \n",
       "8160   0373031424   \n",
       "23350  1888451416   \n",
       "\n",
       "                                                                  bookTitle  \\\n",
       "10345  Hunter'S Vow (Silhouette Romance, No 1487)                             \n",
       "19630  Fire Flight : A Novel (Nance, John J)                                  \n",
       "23462  Thief of Hearts                                                        \n",
       "11783  Beet Queen                                                             \n",
       "25396  Conception Cover-Up (Top Secret Babies) (Harlequin Intrigue, No 615)   \n",
       "23307  Too Hot to Handle                                                      \n",
       "35086  Amantes y Enemigos: Cuentos de Parejas                                 \n",
       "23356  Veritas                                                                \n",
       "8160   Lovespell (Harlequin Romance, No 3142)                                 \n",
       "23350  Southland                                                              \n",
       "\n",
       "             bookAuthor  yearOfPublication                    publisher  \\\n",
       "10345  Susan Meier       2000.0             Silhouette                    \n",
       "19630  John Nance        2003.0             Simon &amp; Schuster          \n",
       "23462  TERESA MEDEIROS   1994.0             Bantam                        \n",
       "11783  Louise Erdrich    1987.0             Bantam Doubleday Dell         \n",
       "25396  Karen Barrett     2001.0             Harlequin                     \n",
       "23307  Elizabeth Lowell  2002.0             Mira                          \n",
       "35086  Rosa Montero      1998.0             Schoenhof Foreign Books Inc   \n",
       "23356  William Lashner   1997.0             Regan Books                   \n",
       "8160   Jennifer Taylor   1991.0             Harlequin                     \n",
       "23350  Nina Revoyr       2003.0             Akashic Books                 \n",
       "\n",
       "       RecommendationScore  \n",
       "10345  0.081172             \n",
       "19630  0.057991             \n",
       "23462  0.055173             \n",
       "11783  0.053201             \n",
       "25396  0.053201             \n",
       "23307  0.051765             \n",
       "35086  0.047883             \n",
       "23356  0.045937             \n",
       "8160   0.045305             \n",
       "23350  0.043255             "
      ]
     },
     "execution_count": 159,
     "metadata": {},
     "output_type": "execute_result"
    }
   ],
   "source": [
    "rbm.recommend(4385,0.6)"
   ]
  },
  {
   "cell_type": "code",
   "execution_count": 132,
   "metadata": {},
   "outputs": [
    {
     "data": {
      "text/html": [
       "<div>\n",
       "<style scoped>\n",
       "    .dataframe tbody tr th:only-of-type {\n",
       "        vertical-align: middle;\n",
       "    }\n",
       "\n",
       "    .dataframe tbody tr th {\n",
       "        vertical-align: top;\n",
       "    }\n",
       "\n",
       "    .dataframe thead th {\n",
       "        text-align: right;\n",
       "    }\n",
       "</style>\n",
       "<table border=\"1\" class=\"dataframe\">\n",
       "  <thead>\n",
       "    <tr style=\"text-align: right;\">\n",
       "      <th></th>\n",
       "      <th>ISBN</th>\n",
       "      <th>bookTitle</th>\n",
       "      <th>bookAuthor</th>\n",
       "      <th>yearOfPublication</th>\n",
       "      <th>publisher</th>\n",
       "      <th>RecommendationScore</th>\n",
       "    </tr>\n",
       "  </thead>\n",
       "  <tbody>\n",
       "    <tr>\n",
       "      <th>10345</th>\n",
       "      <td>0373194870</td>\n",
       "      <td>Hunter'S Vow (Silhouette Romance, No 1487)</td>\n",
       "      <td>Susan Meier</td>\n",
       "      <td>2000.0</td>\n",
       "      <td>Silhouette</td>\n",
       "      <td>0.135287</td>\n",
       "    </tr>\n",
       "    <tr>\n",
       "      <th>19630</th>\n",
       "      <td>0743250508</td>\n",
       "      <td>Fire Flight : A Novel (Nance, John J)</td>\n",
       "      <td>John Nance</td>\n",
       "      <td>2003.0</td>\n",
       "      <td>Simon &amp;amp; Schuster</td>\n",
       "      <td>0.096651</td>\n",
       "    </tr>\n",
       "    <tr>\n",
       "      <th>23462</th>\n",
       "      <td>0553563327</td>\n",
       "      <td>Thief of Hearts</td>\n",
       "      <td>TERESA MEDEIROS</td>\n",
       "      <td>1994.0</td>\n",
       "      <td>Bantam</td>\n",
       "      <td>0.091955</td>\n",
       "    </tr>\n",
       "    <tr>\n",
       "      <th>11783</th>\n",
       "      <td>0553268074</td>\n",
       "      <td>Beet Queen</td>\n",
       "      <td>Louise Erdrich</td>\n",
       "      <td>1987.0</td>\n",
       "      <td>Bantam Doubleday Dell</td>\n",
       "      <td>0.088669</td>\n",
       "    </tr>\n",
       "    <tr>\n",
       "      <th>25396</th>\n",
       "      <td>0373226152</td>\n",
       "      <td>Conception Cover-Up (Top Secret Babies) (Harlequin Intrigue, No 615)</td>\n",
       "      <td>Karen Barrett</td>\n",
       "      <td>2001.0</td>\n",
       "      <td>Harlequin</td>\n",
       "      <td>0.088669</td>\n",
       "    </tr>\n",
       "    <tr>\n",
       "      <th>23307</th>\n",
       "      <td>1551668955</td>\n",
       "      <td>Too Hot to Handle</td>\n",
       "      <td>Elizabeth Lowell</td>\n",
       "      <td>2002.0</td>\n",
       "      <td>Mira</td>\n",
       "      <td>0.086274</td>\n",
       "    </tr>\n",
       "    <tr>\n",
       "      <th>35086</th>\n",
       "      <td>8420482536</td>\n",
       "      <td>Amantes y Enemigos: Cuentos de Parejas</td>\n",
       "      <td>Rosa Montero</td>\n",
       "      <td>1998.0</td>\n",
       "      <td>Schoenhof Foreign Books Inc</td>\n",
       "      <td>0.079805</td>\n",
       "    </tr>\n",
       "    <tr>\n",
       "      <th>23356</th>\n",
       "      <td>0061010235</td>\n",
       "      <td>Veritas</td>\n",
       "      <td>William Lashner</td>\n",
       "      <td>1997.0</td>\n",
       "      <td>Regan Books</td>\n",
       "      <td>0.076562</td>\n",
       "    </tr>\n",
       "    <tr>\n",
       "      <th>8160</th>\n",
       "      <td>0373031424</td>\n",
       "      <td>Lovespell (Harlequin Romance, No 3142)</td>\n",
       "      <td>Jennifer Taylor</td>\n",
       "      <td>1991.0</td>\n",
       "      <td>Harlequin</td>\n",
       "      <td>0.075508</td>\n",
       "    </tr>\n",
       "    <tr>\n",
       "      <th>23350</th>\n",
       "      <td>1888451416</td>\n",
       "      <td>Southland</td>\n",
       "      <td>Nina Revoyr</td>\n",
       "      <td>2003.0</td>\n",
       "      <td>Akashic Books</td>\n",
       "      <td>0.072091</td>\n",
       "    </tr>\n",
       "  </tbody>\n",
       "</table>\n",
       "</div>"
      ],
      "text/plain": [
       "             ISBN  \\\n",
       "10345  0373194870   \n",
       "19630  0743250508   \n",
       "23462  0553563327   \n",
       "11783  0553268074   \n",
       "25396  0373226152   \n",
       "23307  1551668955   \n",
       "35086  8420482536   \n",
       "23356  0061010235   \n",
       "8160   0373031424   \n",
       "23350  1888451416   \n",
       "\n",
       "                                                                  bookTitle  \\\n",
       "10345  Hunter'S Vow (Silhouette Romance, No 1487)                             \n",
       "19630  Fire Flight : A Novel (Nance, John J)                                  \n",
       "23462  Thief of Hearts                                                        \n",
       "11783  Beet Queen                                                             \n",
       "25396  Conception Cover-Up (Top Secret Babies) (Harlequin Intrigue, No 615)   \n",
       "23307  Too Hot to Handle                                                      \n",
       "35086  Amantes y Enemigos: Cuentos de Parejas                                 \n",
       "23356  Veritas                                                                \n",
       "8160   Lovespell (Harlequin Romance, No 3142)                                 \n",
       "23350  Southland                                                              \n",
       "\n",
       "             bookAuthor  yearOfPublication                    publisher  \\\n",
       "10345  Susan Meier       2000.0             Silhouette                    \n",
       "19630  John Nance        2003.0             Simon &amp; Schuster          \n",
       "23462  TERESA MEDEIROS   1994.0             Bantam                        \n",
       "11783  Louise Erdrich    1987.0             Bantam Doubleday Dell         \n",
       "25396  Karen Barrett     2001.0             Harlequin                     \n",
       "23307  Elizabeth Lowell  2002.0             Mira                          \n",
       "35086  Rosa Montero      1998.0             Schoenhof Foreign Books Inc   \n",
       "23356  William Lashner   1997.0             Regan Books                   \n",
       "8160   Jennifer Taylor   1991.0             Harlequin                     \n",
       "23350  Nina Revoyr       2003.0             Akashic Books                 \n",
       "\n",
       "       RecommendationScore  \n",
       "10345  0.135287             \n",
       "19630  0.096651             \n",
       "23462  0.091955             \n",
       "11783  0.088669             \n",
       "25396  0.088669             \n",
       "23307  0.086274             \n",
       "35086  0.079805             \n",
       "23356  0.076562             \n",
       "8160   0.075508             \n",
       "23350  0.072091             "
      ]
     },
     "execution_count": 132,
     "metadata": {},
     "output_type": "execute_result"
    }
   ],
   "source": [
    "rbm.recommend(4385)"
   ]
  },
  {
   "cell_type": "code",
   "execution_count": 188,
   "metadata": {},
   "outputs": [],
   "source": [
    "class knnCF:\n",
    "    def findksimilarusers_wt(self,user_id, ratings, metric = 'cosine', k=10,wt=1):\n",
    "        similarities=[]\n",
    "        indices=[]\n",
    "        model_knn = NearestNeighbors(metric = metric, algorithm = 'brute') \n",
    "        model_knn.fit(ratings)\n",
    "        loc = ratings.index.get_loc(user_id)\n",
    "        distances, indices = model_knn.kneighbors(ratings.iloc[loc, :].values.reshape(1, -1), n_neighbors = k+1)\n",
    "        similarities = 1-distances.flatten()\n",
    "        return similarities,indices\n",
    "    def predict_userbased(self,user_id, item_id, ratings, metric = metric, k=10,wt=1):\n",
    "        prediction=0\n",
    "        user_loc = ratings.index.get_loc(user_id)\n",
    "        item_loc = ratings.columns.get_loc(item_id)\n",
    "        similarities, indices=self.findksimilarusers_wt(user_id, ratings,metric, k,wt)\n",
    "        mean_rating = ratings.iloc[user_loc,:].mean()\n",
    "        sum_wt = np.sum(similarities)-1\n",
    "        product=1\n",
    "        wtd_sum = 0 \n",
    "\n",
    "        for i in range(0, len(indices.flatten())):\n",
    "            if indices.flatten()[i] == user_loc:\n",
    "                continue;\n",
    "            else: \n",
    "                ratings_diff = ratings.iloc[indices.flatten()[i],item_loc]-np.mean(ratings.iloc[indices.flatten()[i],:])\n",
    "                product = ratings_diff * (similarities[i])\n",
    "                wtd_sum = wtd_sum + product\n",
    "        if prediction <= 0:\n",
    "            prediction = 1   \n",
    "        elif prediction >10:\n",
    "            prediction = 10\n",
    "\n",
    "        prediction = int(round(mean_rating + (wtd_sum/sum_wt)))\n",
    "\n",
    "        return prediction\n",
    "    def recommend_userbased(self,user_id, ratings, metric='cosine',wt=1):\n",
    "        if (user_id not in ratings.index.values) or type(user_id) is not int:\n",
    "            print(\"User id should be a valid integer from this list :\\n\\n {} \".format(re.sub('[\\[\\]]', '', np.array_str(ratings_matrix.index.values))))\n",
    "        else:    \n",
    "            prediction = []\n",
    "            for i in range(ratings.shape[1]):\n",
    "                if (ratings[str(ratings.columns[i])][user_id] !=0): \n",
    "                    prediction.append(self.predict_userbased(user_id, str(ratings.columns[i]) ,ratings, metric,wt))\n",
    "                else:                    \n",
    "                    prediction.append(-1) \n",
    "            prediction = pd.Series(prediction)\n",
    "            prediction = prediction.sort_values(ascending=False)\n",
    "            recommended = prediction[:10]\n",
    "            merged_books = books.loc[recommended.index]\n",
    "            merged_books['RecommendationScore'] = recommended\n",
    "            return merged_books\n",
    "                "
   ]
  },
  {
   "cell_type": "code",
   "execution_count": 189,
   "metadata": {},
   "outputs": [],
   "source": [
    "knn = knnCF()"
   ]
  },
  {
   "cell_type": "code",
   "execution_count": null,
   "metadata": {
    "scrolled": true
   },
   "outputs": [],
   "source": [
    "knn.recommend_userbased(4385,ratings_matrix,wt=1)"
   ]
  },
  {
   "cell_type": "code",
   "execution_count": 176,
   "metadata": {},
   "outputs": [
    {
     "data": {
      "text/html": [
       "<div>\n",
       "<style scoped>\n",
       "    .dataframe tbody tr th:only-of-type {\n",
       "        vertical-align: middle;\n",
       "    }\n",
       "\n",
       "    .dataframe tbody tr th {\n",
       "        vertical-align: top;\n",
       "    }\n",
       "\n",
       "    .dataframe thead th {\n",
       "        text-align: right;\n",
       "    }\n",
       "</style>\n",
       "<table border=\"1\" class=\"dataframe\">\n",
       "  <thead>\n",
       "    <tr style=\"text-align: right;\">\n",
       "      <th></th>\n",
       "      <th>ISBN</th>\n",
       "      <th>bookTitle</th>\n",
       "      <th>bookAuthor</th>\n",
       "      <th>yearOfPublication</th>\n",
       "      <th>publisher</th>\n",
       "    </tr>\n",
       "  </thead>\n",
       "  <tbody>\n",
       "    <tr>\n",
       "      <th>26089</th>\n",
       "      <td>038531292X</td>\n",
       "      <td>The Gift</td>\n",
       "      <td>Danielle Steel</td>\n",
       "      <td>1994</td>\n",
       "      <td>Delacorte Press</td>\n",
       "    </tr>\n",
       "    <tr>\n",
       "      <th>57688</th>\n",
       "      <td>0553380435</td>\n",
       "      <td>A Close Run Thing : A Novel of Wellington's Army of 1815</td>\n",
       "      <td>ALLAN MALLINSON</td>\n",
       "      <td>2000</td>\n",
       "      <td>Bantam</td>\n",
       "    </tr>\n",
       "    <tr>\n",
       "      <th>13339</th>\n",
       "      <td>0525484272</td>\n",
       "      <td>Roger Caras' Treasury of Great Cat Stories</td>\n",
       "      <td>Roger A. Caras</td>\n",
       "      <td>1988</td>\n",
       "      <td>Dutton Books</td>\n",
       "    </tr>\n",
       "    <tr>\n",
       "      <th>25616</th>\n",
       "      <td>0811212777</td>\n",
       "      <td>Mazurka for Two Dead Men</td>\n",
       "      <td>Camilo Jose Cela</td>\n",
       "      <td>1994</td>\n",
       "      <td>New Directions Publishing Corporation</td>\n",
       "    </tr>\n",
       "    <tr>\n",
       "      <th>13483</th>\n",
       "      <td>0874772095</td>\n",
       "      <td>Chop Wood, Carry Water: A Guide to Finding Spiritual Fulfillment in Everyday Life</td>\n",
       "      <td>Rick Fields</td>\n",
       "      <td>1984</td>\n",
       "      <td>Jeremy P. Tarcher</td>\n",
       "    </tr>\n",
       "    <tr>\n",
       "      <th>14764</th>\n",
       "      <td>1559723475</td>\n",
       "      <td>The Titanic Conspiracy: Cover-Ups and Mysteries of the World's Most Famous Sea Disaster</td>\n",
       "      <td>Robin Gardiner</td>\n",
       "      <td>1996</td>\n",
       "      <td>Carol Publishing Corporation</td>\n",
       "    </tr>\n",
       "    <tr>\n",
       "      <th>14223</th>\n",
       "      <td>0805071903</td>\n",
       "      <td>The Romantic: A Novel</td>\n",
       "      <td>Barbara Gowdy</td>\n",
       "      <td>2003</td>\n",
       "      <td>Metropolitan Books</td>\n",
       "    </tr>\n",
       "    <tr>\n",
       "      <th>57720</th>\n",
       "      <td>0395938945</td>\n",
       "      <td>Outerbridge Reach</td>\n",
       "      <td>Robert Stone</td>\n",
       "      <td>1998</td>\n",
       "      <td>Houghton Mifflin Co</td>\n",
       "    </tr>\n",
       "    <tr>\n",
       "      <th>25535</th>\n",
       "      <td>0452255953</td>\n",
       "      <td>Under the Volcano</td>\n",
       "      <td>Malcolm Lowry</td>\n",
       "      <td>1992</td>\n",
       "      <td>Penguin USA</td>\n",
       "    </tr>\n",
       "    <tr>\n",
       "      <th>33945</th>\n",
       "      <td>0684810484</td>\n",
       "      <td>And Never Let Her Go : Thomas Capano: The Deadly Seducer</td>\n",
       "      <td>Ann Rule</td>\n",
       "      <td>1999</td>\n",
       "      <td>Simon &amp;amp; Schuster</td>\n",
       "    </tr>\n",
       "  </tbody>\n",
       "</table>\n",
       "</div>"
      ],
      "text/plain": [
       "             ISBN  \\\n",
       "26089  038531292X   \n",
       "57688  0553380435   \n",
       "13339  0525484272   \n",
       "25616  0811212777   \n",
       "13483  0874772095   \n",
       "14764  1559723475   \n",
       "14223  0805071903   \n",
       "57720  0395938945   \n",
       "25535  0452255953   \n",
       "33945  0684810484   \n",
       "\n",
       "                                                                                     bookTitle  \\\n",
       "26089  The Gift                                                                                  \n",
       "57688  A Close Run Thing : A Novel of Wellington's Army of 1815                                  \n",
       "13339  Roger Caras' Treasury of Great Cat Stories                                                \n",
       "25616  Mazurka for Two Dead Men                                                                  \n",
       "13483  Chop Wood, Carry Water: A Guide to Finding Spiritual Fulfillment in Everyday Life         \n",
       "14764  The Titanic Conspiracy: Cover-Ups and Mysteries of the World's Most Famous Sea Disaster   \n",
       "14223  The Romantic: A Novel                                                                     \n",
       "57720  Outerbridge Reach                                                                         \n",
       "25535  Under the Volcano                                                                         \n",
       "33945  And Never Let Her Go : Thomas Capano: The Deadly Seducer                                  \n",
       "\n",
       "             bookAuthor  yearOfPublication  \\\n",
       "26089  Danielle Steel    1994                \n",
       "57688  ALLAN MALLINSON   2000                \n",
       "13339  Roger A. Caras    1988                \n",
       "25616  Camilo Jose Cela  1994                \n",
       "13483  Rick Fields       1984                \n",
       "14764  Robin Gardiner    1996                \n",
       "14223  Barbara Gowdy     2003                \n",
       "57720  Robert Stone      1998                \n",
       "25535  Malcolm Lowry     1992                \n",
       "33945  Ann Rule          1999                \n",
       "\n",
       "                                   publisher  \n",
       "26089  Delacorte Press                        \n",
       "57688  Bantam                                 \n",
       "13339  Dutton Books                           \n",
       "25616  New Directions Publishing Corporation  \n",
       "13483  Jeremy P. Tarcher                      \n",
       "14764  Carol Publishing Corporation           \n",
       "14223  Metropolitan Books                     \n",
       "57720  Houghton Mifflin Co                    \n",
       "25535  Penguin USA                            \n",
       "33945  Simon &amp; Schuster                   "
      ]
     },
     "execution_count": 176,
     "metadata": {},
     "output_type": "execute_result"
    }
   ],
   "source": [
    "knn.recommend_userbased(4385,ratings_matrix,wt=4)"
   ]
  },
  {
   "cell_type": "code",
   "execution_count": 177,
   "metadata": {},
   "outputs": [
    {
     "data": {
      "text/plain": [
       "(ISBN                 0811212777                           \n",
       " bookTitle            Mazurka for Two Dead Men             \n",
       " bookAuthor           Camilo Jose Cela                     \n",
       " yearOfPublication    1994                                 \n",
       " publisher            New Directions Publishing Corporation\n",
       " Name: 25616, dtype: object, 1)"
      ]
     },
     "execution_count": 177,
     "metadata": {},
     "output_type": "execute_result"
    }
   ],
   "source": [
    "books.loc[25616],prediction"
   ]
  },
  {
   "cell_type": "code",
   "execution_count": 178,
   "metadata": {},
   "outputs": [
    {
     "data": {
      "text/plain": [
       "1"
      ]
     },
     "execution_count": 178,
     "metadata": {},
     "output_type": "execute_result"
    }
   ],
   "source": [
    "prediction"
   ]
  },
  {
   "cell_type": "code",
   "execution_count": null,
   "metadata": {},
   "outputs": [],
   "source": []
  }
 ],
 "metadata": {
  "colab": {
   "collapsed_sections": [],
   "name": "Book Recommendation System.ipynb",
   "provenance": [],
   "version": "0.3.2"
  },
  "kernelspec": {
   "display_name": "Python 3",
   "language": "python",
   "name": "python3"
  },
  "language_info": {
   "codemirror_mode": {
    "name": "ipython",
    "version": 3
   },
   "file_extension": ".py",
   "mimetype": "text/x-python",
   "name": "python",
   "nbconvert_exporter": "python",
   "pygments_lexer": "ipython3",
   "version": "3.6.5"
  }
 },
 "nbformat": 4,
 "nbformat_minor": 1
}
